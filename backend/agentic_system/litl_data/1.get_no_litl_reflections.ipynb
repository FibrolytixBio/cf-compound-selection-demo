{
 "cells": [
  {
   "cell_type": "code",
   "execution_count": null,
   "id": "762f6b30",
   "metadata": {},
   "outputs": [],
   "source": [
    "from dotenv import load_dotenv\n",
    "\n",
    "load_dotenv(\"../../.env\")\n",
    "\n",
    "import pickle\n",
    "import dspy\n",
    "\n",
    "from agentic_system.litl_data.litl_utils import (\n",
    "    summarizer_lm,\n",
    "    summarizer_module,\n",
    "    reflection_lm,\n",
    "    reflection_module,\n",
    ")"
   ]
  },
  {
   "cell_type": "code",
   "execution_count": null,
   "id": "aeafca96",
   "metadata": {},
   "outputs": [],
   "source": [
    "MODEL = \"gemini\"\n",
    "\n",
    "with open(\n",
    "    \"0.no_litl_runs.pkl\",\n",
    "    \"rb\",\n",
    ") as f:\n",
    "    before_litl_results = pickle.load(f)\n",
    "\n",
    "before_litl_agent_runs = before_litl_results[\"agent_runs\"]"
   ]
  },
  {
   "cell_type": "code",
   "execution_count": null,
   "id": "e1dd750e",
   "metadata": {},
   "outputs": [
    {
     "name": "stdout",
     "output_type": "stream",
     "text": [
      "Processed 25 / 210 examples:  11%|█▏        | 24/210 [00:00<00:01, 108.47it/s]"
     ]
    },
    {
     "name": "stderr",
     "output_type": "stream",
     "text": [
      "2025/10/09 14:05:35 WARNING dspy.clients.lm: LM response was truncated due to exceeding max_tokens=25000. You can inspect the latest LM interactions with `dspy.inspect_history()`. To avoid truncation, consider passing a larger max_tokens when setting up dspy.LM. You may also consider increasing the temperature (currently 0.0)  if the reason for truncation is repetition.\n"
     ]
    },
    {
     "name": "stdout",
     "output_type": "stream",
     "text": [
      "Processed 210 / 210 examples: 100%|██████████| 210/210 [00:42<00:00,  4.99it/s]\n",
      "Processed 210 / 210 examples: 100%|██████████| 210/210 [03:37<00:00,  1.04s/it]\n"
     ]
    },
    {
     "data": {
      "text/plain": [
       "210"
      ]
     },
     "execution_count": 12,
     "metadata": {},
     "output_type": "execute_result"
    }
   ],
   "source": [
    "NUM_THREADS = 20\n",
    "\n",
    "# Prepare examples for summarization\n",
    "summarize_examples = []\n",
    "for result in before_litl_agent_runs:\n",
    "    compound_name = result[0][\"compound_name\"]\n",
    "    run = result[1]\n",
    "    example = dspy.Example(\n",
    "        compound_name=compound_name,\n",
    "        trajectory=run.trajectory,\n",
    "        reasoning=run.reasoning,\n",
    "        predicted_efficacy=run.predicted_efficacy,\n",
    "        confidence=run.confidence,\n",
    "    )\n",
    "    example = example.with_inputs(\n",
    "        \"compound_name\", \"trajectory\", \"reasoning\", \"predicted_efficacy\", \"confidence\"\n",
    "    )\n",
    "    summarize_examples.append(example)\n",
    "\n",
    "# Parallel summarization\n",
    "with dspy.context(lm=summarizer_lm):\n",
    "    summary_results = summarizer_module.batch(\n",
    "        summarize_examples, num_threads=NUM_THREADS\n",
    "    )\n",
    "\n",
    "# Prepare examples for reflection\n",
    "reflection_examples = []\n",
    "for i, result in enumerate(before_litl_agent_runs):\n",
    "    efficacy = round(result[0][\"cf_efficacy\"], 2)\n",
    "    example = dspy.Example(\n",
    "        summarized_run=summary_results[i].summary,\n",
    "        real_efficacy=efficacy,\n",
    "    )\n",
    "    example = example.with_inputs(\"summarized_run\", \"real_efficacy\")\n",
    "    reflection_examples.append(example)\n",
    "\n",
    "# Parallel reflection\n",
    "with dspy.context(lm=reflection_lm):\n",
    "    reflection_results = reflection_module.batch(\n",
    "        reflection_examples, num_threads=NUM_THREADS\n",
    "    )\n",
    "\n",
    "# Generate docs\n",
    "docs = []\n",
    "for i in range(len(before_litl_agent_runs)):\n",
    "    doc = f\"\"\"# Agent Run Summary\n",
    "{summary_results[i].summary}\n",
    "\n",
    "# Accuracy Reflection\n",
    "{reflection_results[i].reflection}\"\"\"\n",
    "    docs.append(doc)\n",
    "\n",
    "len(docs)"
   ]
  },
  {
   "cell_type": "code",
   "execution_count": null,
   "id": "8da59c68",
   "metadata": {},
   "outputs": [],
   "source": [
    "# Save the docs list to a pickle file\n",
    "with open(\n",
    "    \"1.no_litl_reflections.pkl\",\n",
    "    \"wb\",\n",
    ") as f:\n",
    "    pickle.dump(docs, f)"
   ]
  }
 ],
 "metadata": {
  "kernelspec": {
   "display_name": "Python (cf-compound-selection-backend)",
   "language": "python",
   "name": "cf-compound-selection-backend"
  },
  "language_info": {
   "codemirror_mode": {
    "name": "ipython",
    "version": 3
   },
   "file_extension": ".py",
   "mimetype": "text/x-python",
   "name": "python",
   "nbconvert_exporter": "python",
   "pygments_lexer": "ipython3",
   "version": "3.12.4"
  }
 },
 "nbformat": 4,
 "nbformat_minor": 5
}
