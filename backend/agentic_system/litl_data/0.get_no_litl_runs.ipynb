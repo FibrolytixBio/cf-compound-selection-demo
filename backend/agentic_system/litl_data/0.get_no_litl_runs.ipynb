{
 "cells": [
  {
   "cell_type": "code",
   "execution_count": null,
   "id": "34a4a5af",
   "metadata": {},
   "outputs": [],
   "source": [
    "from dotenv import load_dotenv\n",
    "\n",
    "load_dotenv(\"../../.env\")\n",
    "\n",
    "import dspy\n",
    "import pickle\n",
    "import time\n",
    "\n",
    "from agentic_system.agents import CFEfficacyAgent\n",
    "from agentic_system.litl_data.litl_utils import load_efficacy_devset"
   ]
  },
  {
   "cell_type": "code",
   "execution_count": 2,
   "id": "12de2cf7",
   "metadata": {},
   "outputs": [
    {
     "name": "stdout",
     "output_type": "stream",
     "text": [
      "210\n"
     ]
    },
    {
     "data": {
      "text/plain": [
       "[Example({'compound_name': 'Luminespib', 'cf_efficacy': 0.9384660045676458}) (input_keys={'compound_name'}),\n",
       " Example({'compound_name': 'Tanespimycin', 'cf_efficacy': 0.9303885695518936}) (input_keys={'compound_name'}),\n",
       " Example({'compound_name': 'MK-2866', 'cf_efficacy': 0.8625497422790986}) (input_keys={'compound_name'})]"
      ]
     },
     "execution_count": 2,
     "metadata": {},
     "output_type": "execute_result"
    }
   ],
   "source": [
    "N_SAMPLE_REPEATS = 5\n",
    "\n",
    "efficacy_devset = load_efficacy_devset()\n",
    "efficacy_devset = efficacy_devset * N_SAMPLE_REPEATS\n",
    "\n",
    "print(len(efficacy_devset))\n",
    "efficacy_devset[:3]"
   ]
  },
  {
   "cell_type": "code",
   "execution_count": null,
   "id": "460eb93e",
   "metadata": {},
   "outputs": [],
   "source": [
    "lm = dspy.LM(\n",
    "    \"gemini/gemini-2.5-pro\",\n",
    "    temperature=0.75,\n",
    "    cache=False,\n",
    "    max_tokens=80000,\n",
    "    num_retries=10,\n",
    ")\n",
    "\n",
    "dspy.settings.configure(lm=lm, track_usage=True)\n",
    "efficacy_agent = CFEfficacyAgent(use_litl=False)"
   ]
  },
  {
   "cell_type": "code",
   "execution_count": 4,
   "id": "5cbb057c",
   "metadata": {},
   "outputs": [
    {
     "name": "stdout",
     "output_type": "stream",
     "text": [
      "Processed 18 / 210 examples:   9%|▊         | 18/210 [01:44<12:27,  3.89s/it]"
     ]
    },
    {
     "name": "stderr",
     "output_type": "stream",
     "text": [
      "2025/10/09 13:02:21 WARNING dspy.clients.lm: LM response was truncated due to exceeding max_tokens=50000. You can inspect the latest LM interactions with `dspy.inspect_history()`. To avoid truncation, consider passing a larger max_tokens when setting up dspy.LM. You may also consider increasing the temperature (currently 0.0)  if the reason for truncation is repetition.\n"
     ]
    },
    {
     "name": "stdout",
     "output_type": "stream",
     "text": [
      "Processed 56 / 210 examples:  27%|██▋       | 56/210 [03:54<08:57,  3.49s/it]"
     ]
    },
    {
     "name": "stderr",
     "output_type": "stream",
     "text": [
      "2025/10/09 13:04:30 WARNING dspy.clients.lm: LM response was truncated due to exceeding max_tokens=50000. You can inspect the latest LM interactions with `dspy.inspect_history()`. To avoid truncation, consider passing a larger max_tokens when setting up dspy.LM. You may also consider increasing the temperature (currently 0.0)  if the reason for truncation is repetition.\n"
     ]
    },
    {
     "name": "stdout",
     "output_type": "stream",
     "text": [
      "Processed 92 / 210 examples:  44%|████▍     | 92/210 [05:58<04:13,  2.15s/it]"
     ]
    },
    {
     "name": "stderr",
     "output_type": "stream",
     "text": [
      "2025/10/09 13:06:42 WARNING dspy.clients.lm: LM response was truncated due to exceeding max_tokens=50000. You can inspect the latest LM interactions with `dspy.inspect_history()`. To avoid truncation, consider passing a larger max_tokens when setting up dspy.LM. You may also consider increasing the temperature (currently 0.0)  if the reason for truncation is repetition.\n"
     ]
    },
    {
     "name": "stdout",
     "output_type": "stream",
     "text": [
      "Processed 111 / 210 examples:  53%|█████▎    | 111/210 [07:11<07:16,  4.41s/it]"
     ]
    },
    {
     "name": "stderr",
     "output_type": "stream",
     "text": [
      "2025/10/09 13:07:48 WARNING dspy.clients.lm: LM response was truncated due to exceeding max_tokens=50000. You can inspect the latest LM interactions with `dspy.inspect_history()`. To avoid truncation, consider passing a larger max_tokens when setting up dspy.LM. You may also consider increasing the temperature (currently 0.0)  if the reason for truncation is repetition.\n"
     ]
    },
    {
     "name": "stdout",
     "output_type": "stream",
     "text": [
      "Processed 188 / 210 examples:  90%|████████▉ | 188/210 [11:19<01:08,  3.11s/it]"
     ]
    },
    {
     "name": "stderr",
     "output_type": "stream",
     "text": [
      "2025/10/09 13:11:59 WARNING dspy.clients.lm: LM response was truncated due to exceeding max_tokens=50000. You can inspect the latest LM interactions with `dspy.inspect_history()`. To avoid truncation, consider passing a larger max_tokens when setting up dspy.LM. You may also consider increasing the temperature (currently 0.0)  if the reason for truncation is repetition.\n"
     ]
    },
    {
     "name": "stdout",
     "output_type": "stream",
     "text": [
      "Processed 210 / 210 examples: 100%|██████████| 210/210 [12:40<00:00,  3.62s/it]\n"
     ]
    },
    {
     "data": {
      "text/plain": [
       "210"
      ]
     },
     "execution_count": 4,
     "metadata": {},
     "output_type": "execute_result"
    }
   ],
   "source": [
    "NUM_THREADS = 20\n",
    "\n",
    "start_time = time.time()\n",
    "agent_runs = efficacy_agent.batch(efficacy_devset, num_threads=NUM_THREADS)\n",
    "len(agent_runs)"
   ]
  },
  {
   "cell_type": "code",
   "execution_count": null,
   "id": "3ad02635",
   "metadata": {},
   "outputs": [],
   "source": [
    "results = {}\n",
    "\n",
    "name = \"no_litl_runs\"\n",
    "cost = sum([x[\"cost\"] for x in lm.history])\n",
    "time_taken = time.time() - start_time\n",
    "\n",
    "results[\"name\"] = name\n",
    "results[\"cost\"] = cost\n",
    "results[\"time\"] = time_taken\n",
    "\n",
    "results[\"agent_runs\"] = []\n",
    "for i, run in enumerate(agent_runs):\n",
    "    results[\"agent_runs\"].append((efficacy_devset[i], run))"
   ]
  },
  {
   "cell_type": "code",
   "execution_count": null,
   "id": "e25f6426",
   "metadata": {},
   "outputs": [],
   "source": [
    "with open(f\"./0.{name}.pkl\", \"wb\") as f:\n",
    "    pickle.dump(results, f)"
   ]
  }
 ],
 "metadata": {
  "kernelspec": {
   "display_name": "Python (cf-compound-selection-backend)",
   "language": "python",
   "name": "cf-compound-selection-backend"
  },
  "language_info": {
   "codemirror_mode": {
    "name": "ipython",
    "version": 3
   },
   "file_extension": ".py",
   "mimetype": "text/x-python",
   "name": "python",
   "nbconvert_exporter": "python",
   "pygments_lexer": "ipython3",
   "version": "3.12.4"
  }
 },
 "nbformat": 4,
 "nbformat_minor": 5
}
