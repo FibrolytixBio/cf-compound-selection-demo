{
 "cells": [
  {
   "cell_type": "code",
   "execution_count": 4,
   "id": "65565858",
   "metadata": {},
   "outputs": [],
   "source": [
    "from dotenv import load_dotenv\n",
    "import dspy\n",
    "import pandas as pd\n",
    "\n",
    "from agentic_system.agents import CFEfficacyAgent\n",
    "from agentic_system.litl_data.litl_utils import load_efficacy_devset\n",
    "\n",
    "load_dotenv(\"../.env\")\n",
    "dspy.configure(lm=dspy.LM(\"gemini/gemini-2.5-flash-lite\", temperature=0.5, cache=True))"
   ]
  },
  {
   "cell_type": "code",
   "execution_count": 5,
   "id": "fe5bc34b",
   "metadata": {},
   "outputs": [
    {
     "data": {
      "text/plain": [
       "210"
      ]
     },
     "execution_count": 5,
     "metadata": {},
     "output_type": "execute_result"
    }
   ],
   "source": [
    "efficacy_devset = load_efficacy_devset()\n",
    "efficacy_devset = efficacy_devset * 5\n",
    "len(efficacy_devset)"
   ]
  },
  {
   "cell_type": "code",
   "execution_count": 6,
   "id": "690fcf01",
   "metadata": {},
   "outputs": [
    {
     "name": "stdout",
     "output_type": "stream",
     "text": [
      "Average Metric: 0.13 / 2 (6.6%): 100%|██████████| 2/2 [00:02<00:00,  1.16s/it]"
     ]
    },
    {
     "name": "stderr",
     "output_type": "stream",
     "text": [
      "2025/09/15 15:27:09 INFO dspy.evaluate.evaluate: Average Metric: 0.13114542588046052 / 2 (6.6%)\n"
     ]
    },
    {
     "name": "stdout",
     "output_type": "stream",
     "text": [
      "\n"
     ]
    },
    {
     "data": {
      "text/plain": [
       "EvaluationResult(score=6.56, results=<list of 2 results>)"
      ]
     },
     "execution_count": 6,
     "metadata": {},
     "output_type": "execute_result"
    }
   ],
   "source": [
    "from dspy.evaluate import Evaluate\n",
    "\n",
    "\n",
    "def efficacy_accuracy(example, pred, trace=None):\n",
    "    \"Calculate error from prediction\"\n",
    "    abs_error = abs(example.cf_efficacy - float(pred.predicted_efficacy))\n",
    "    accuracy = 1 - abs_error\n",
    "    return accuracy\n",
    "\n",
    "\n",
    "# Set up the evaluator, which can be re-used in your code.\n",
    "evaluator = Evaluate(\n",
    "    devset=efficacy_devset[:2],\n",
    "    num_threads=10,\n",
    "    display_progress=True,\n",
    "    provide_traceback=True,\n",
    ")\n",
    "\n",
    "efficacy_agent = CFEfficacyAgent(max_iters=5)\n",
    "evaluation = evaluator(efficacy_agent, metric=efficacy_accuracy)\n",
    "evaluation"
   ]
  },
  {
   "cell_type": "code",
   "execution_count": 7,
   "id": "8495d2cc",
   "metadata": {},
   "outputs": [
    {
     "data": {
      "text/plain": [
       "(Example({'compound_name': 'Luminespib', 'cf_efficacy': 0.9384660045676458}) (input_keys={'compound_name'}),\n",
       " Prediction(\n",
       "     trajectory={'thought_0': \"The user wants to estimate the efficacy of Luminespib in reversing the activated cardiac fibroblast phenotype. The efficacy is defined as a metric between 0 and 1 based on a custom in vitro assay. To determine this, I need to find information about Luminespib's bioactivities, specifically any data related to its effect on fibroblasts or related cellular processes. I will start by searching for Luminespib in ChEMBL to get its ChEMBL ID, and then use that ID to retrieve its bioactivity summary.\", 'tool_name_0': 'CHEMBL__search_chembl_id', 'tool_args_0': {'query': 'Luminespib'}, 'observation_0': \"Found 2 compound(s) matching 'Luminespib': \\n - CHEMBL3137334 (LUMINESPIB MESYLATE)\\n - CHEMBL252164 (LUMINESPIB)\", 'thought_1': 'I have found two ChEMBL IDs for Luminespib: CHEMBL3137334 and CHEMBL252164. To get the bioactivity summary, I should use the ID that is most likely to represent the compound itself, which is CHEMBL252164 (LUMINESPIB). I will then use `CHEMBL__get_compound_bioactivities_summary` to retrieve relevant bioactivity data.', 'tool_name_1': 'CHEMBL__get_compound_bioactivities_summary', 'tool_args_1': {'chembl_id': 'CHEMBL252164'}, 'observation_1': 'Bioactivity summary for CHEMBL252164:\\n\\n• ADMET (CHEMBL612558): CL = 2.00e-02 L/hr, T1/2 = 15.0 hr, Stability = 31.0 %, Vz = 0.4 l, Drug uptake = 6.8 uM, AUC = 16760 ng.hr.mL-1, Cmax_tumor = 6.0 uM\\n\\n• Mus musculus (CHEMBL375): Tmax = 1.0 hr, T1/2 = 9.5 hr, Cmax = 385.4 nM, CL/F = 3.50e-02 L/hr, Vdss = 0.5 l, Activity = 10.0 %, LBF = 108.0 ml/hr, MTD = 50.0 mg kg-1, AUC = 800.8 ng.hr.mL-1\\n\\n• Plasma (CHEMBL613589): CL = 8.20e-02 L/hr, T1/2 = 1.0 hr, Cmax = 49000 nM, Vz = 0.9 l, AUC = 6983 ng.hr.mL-1\\n\\n• Heat shock protein HSP 90-beta (CHEMBL4303): Ki = 6.40e-02 nM, IC50 = 7.0 nM\\n\\n• HCT-116 (CHEMBL394): Inhibition = 49.8 %, GI50 = 16.0 nM, GI = 50.0 %\\n(Showing top 5 of 14 targets with activity data)', 'thought_2': 'The bioactivity summary shows that Luminespib targets Heat shock protein HSP 90-beta with a Ki of 0.064 nM and an IC50 of 7.0 nM. It also shows inhibition of 49.8% and a GI50 of 16.0 nM for HCT-116 cells. However, none of this directly relates to the efficacy in reversing the activated cardiac fibroblast phenotype using the described Cell Painting assay. The assay is custom and the efficacy metric is specific to that assay. Since the provided tools do not have access to custom assay results or the ability to interpret raw Cell Painting data, I cannot directly determine the `predicted_efficacy` or `confidence`. Therefore, I should finish the task.', 'tool_name_2': 'finish', 'tool_args_2': {}, 'observation_2': 'Completed.'},\n",
       "     reasoning='The provided bioactivity data for Luminespib does not contain information relevant to its efficacy in reversing the activated cardiac fibroblast phenotype using the specified Cell Painting assay. The assay is custom, and the efficacy metric is derived from a validated classifier applied to Cell Painting features, which is beyond the scope of the available tools. Therefore, a prediction cannot be made.',\n",
       "     predicted_efficacy=0.0,\n",
       "     confidence=0.1\n",
       " ),\n",
       " 0.06153399543235416)"
      ]
     },
     "execution_count": 7,
     "metadata": {},
     "output_type": "execute_result"
    }
   ],
   "source": [
    "evaluation.results[0]"
   ]
  }
 ],
 "metadata": {
  "kernelspec": {
   "display_name": "Python (cf-compound-selection-backend)",
   "language": "python",
   "name": "cf-compound-selection-backend"
  },
  "language_info": {
   "codemirror_mode": {
    "name": "ipython",
    "version": 3
   },
   "file_extension": ".py",
   "mimetype": "text/x-python",
   "name": "python",
   "nbconvert_exporter": "python",
   "pygments_lexer": "ipython3",
   "version": "3.12.4"
  }
 },
 "nbformat": 4,
 "nbformat_minor": 5
}
