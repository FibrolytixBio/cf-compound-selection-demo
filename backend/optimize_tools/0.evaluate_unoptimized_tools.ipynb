{
 "cells": [
  {
   "cell_type": "code",
   "execution_count": 1,
   "id": "65565858",
   "metadata": {},
   "outputs": [
    {
     "name": "stderr",
     "output_type": "stream",
     "text": [
      "2025/09/15 17:25:46 INFO mlflow.tracking.fluent: Experiment with name 'Eval Agent' does not exist. Creating a new experiment.\n",
      "2025/09/15 17:25:46 INFO mlflow.tracking.fluent: Autologging successfully enabled for dspy.\n",
      "2025/09/15 17:25:46 INFO mlflow.tracking.fluent: Autologging successfully enabled for litellm.\n",
      "2025/09/15 17:25:46 INFO mlflow.tracking.fluent: Autologging successfully enabled for openai.\n"
     ]
    }
   ],
   "source": [
    "from dotenv import load_dotenv\n",
    "import dspy\n",
    "import mlflow\n",
    "\n",
    "from agentic_system.agents import CFEfficacyAgent\n",
    "from agentic_system.litl_data.litl_utils import load_efficacy_devset\n",
    "\n",
    "# NOTE: Start MLflow server with:\n",
    "# mlflow server --backend-store-uri sqlite:///mydb.sqlite\n",
    "# Tell MLflow about the server URI.\n",
    "mlflow.set_tracking_uri(\"http://127.0.0.1:5000\")\n",
    "# Create a unique name for your experiment.\n",
    "mlflow.set_experiment(\"Eval Agent\")\n",
    "mlflow.autolog()\n",
    "mlflow.tracing.disable_notebook_display()\n",
    "\n",
    "load_dotenv(\"../.env\")\n",
    "dspy.configure(\n",
    "    lm=dspy.LM(\"gemini/gemini-2.5-pro\", temperature=0.5, cache=False, max_tokens=25000)\n",
    ")"
   ]
  },
  {
   "cell_type": "code",
   "execution_count": 2,
   "id": "fe5bc34b",
   "metadata": {},
   "outputs": [
    {
     "data": {
      "text/plain": [
       "125"
      ]
     },
     "execution_count": 2,
     "metadata": {},
     "output_type": "execute_result"
    }
   ],
   "source": [
    "efficacy_devset = load_efficacy_devset(uniform_efficacy=True)\n",
    "efficacy_devset = efficacy_devset * 5\n",
    "len(efficacy_devset)"
   ]
  },
  {
   "cell_type": "code",
   "execution_count": 3,
   "id": "690fcf01",
   "metadata": {},
   "outputs": [
    {
     "name": "stdout",
     "output_type": "stream",
     "text": [
      "Average Metric: 0.91 / 1 (91.3%):  10%|█         | 1/10 [00:36<05:27, 36.36s/it]"
     ]
    },
    {
     "name": "stderr",
     "output_type": "stream",
     "text": [
      "2025/09/15 17:26:25 WARNING dspy.clients.lm: LM response was truncated due to exceeding max_tokens=4000. You can inspect the latest LM interactions with `dspy.inspect_history()`. To avoid truncation, consider passing a larger max_tokens when setting up dspy.LM. You may also consider increasing the temperature (currently 0.0)  if the reason for truncation is repetition.\n"
     ]
    },
    {
     "name": "stdout",
     "output_type": "stream",
     "text": [
      "Average Metric: 6.81 / 10 (68.1%): 100%|██████████| 10/10 [01:44<00:00, 10.47s/it]"
     ]
    },
    {
     "name": "stderr",
     "output_type": "stream",
     "text": [
      "2025/09/15 17:27:31 INFO dspy.evaluate.evaluate: Average Metric: 6.8079698820079875 / 10 (68.1%)\n"
     ]
    },
    {
     "name": "stdout",
     "output_type": "stream",
     "text": [
      "\n"
     ]
    }
   ],
   "source": [
    "from dspy.evaluate import Evaluate\n",
    "import random\n",
    "\n",
    "\n",
    "def efficacy_accuracy(example, pred, trace=None):\n",
    "    \"Calculate error from prediction\"\n",
    "    abs_error = abs(example.cf_efficacy - float(pred.predicted_efficacy))\n",
    "    accuracy = 1 - abs_error\n",
    "    return accuracy\n",
    "\n",
    "\n",
    "N_SAMPLES = 10\n",
    "efficacy_devset_subset = random.sample(efficacy_devset, N_SAMPLES)\n",
    "evaluator = Evaluate(\n",
    "    devset=efficacy_devset_subset,\n",
    "    num_threads=10,\n",
    "    display_progress=True,\n",
    "    provide_traceback=True,\n",
    ")\n",
    "\n",
    "efficacy_agent = CFEfficacyAgent()\n",
    "evaluation = evaluator(efficacy_agent, metric=efficacy_accuracy)"
   ]
  },
  {
   "cell_type": "code",
   "execution_count": 4,
   "id": "5073630b",
   "metadata": {},
   "outputs": [
    {
     "name": "stdout",
     "output_type": "stream",
     "text": [
      "Mean Absolute Error: 0.31920301179920124\n",
      "Mean Confidence: 0.8780000000000001\n"
     ]
    }
   ],
   "source": [
    "errors = []\n",
    "confidences = []\n",
    "for result in evaluation.results:\n",
    "    errors.append(abs(result[0].cf_efficacy - result[1].predicted_efficacy))\n",
    "    confidences.append(result[1].confidence)\n",
    "\n",
    "print(\"Mean Absolute Error:\", sum(errors) / len(errors))\n",
    "print(\"Mean Confidence:\", sum(confidences) / len(confidences))"
   ]
  }
 ],
 "metadata": {
  "kernelspec": {
   "display_name": "Python (cf-compound-selection-backend)",
   "language": "python",
   "name": "cf-compound-selection-backend"
  },
  "language_info": {
   "codemirror_mode": {
    "name": "ipython",
    "version": 3
   },
   "file_extension": ".py",
   "mimetype": "text/x-python",
   "name": "python",
   "nbconvert_exporter": "python",
   "pygments_lexer": "ipython3",
   "version": "3.12.4"
  }
 },
 "nbformat": 4,
 "nbformat_minor": 5
}
