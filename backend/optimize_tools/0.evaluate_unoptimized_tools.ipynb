{
 "cells": [
  {
   "cell_type": "code",
   "execution_count": null,
   "id": "65565858",
   "metadata": {},
   "outputs": [],
   "source": [
    "from dotenv import load_dotenv\n",
    "import dspy\n",
    "import mlflow\n",
    "\n",
    "from agentic_system.agents import CFEfficacyAgent\n",
    "from agentic_system.litl_data.litl_utils import load_efficacy_devset\n",
    "\n",
    "# NOTE: Start MLflow server with:\n",
    "# mlflow server --backend-store-uri sqlite:///mydb.sqlite\n",
    "# Tell MLflow about the server URI.\n",
    "mlflow.set_tracking_uri(\"http://127.0.0.1:5000\")\n",
    "# Create a unique name for your experiment.\n",
    "mlflow.set_experiment(\"Eval Agent\")\n",
    "mlflow.autolog()\n",
    "mlflow.tracing.disable_notebook_display()\n",
    "\n",
    "load_dotenv(\"../.env\")\n",
    "lm = dspy.LM(\"gemini/gemini-2.5-pro\", temperature=0.5, cache=False, max_tokens=25000)\n",
    "dspy.settings.configure(\n",
    "    lm=lm,\n",
    "    track_usage=True,\n",
    ")"
   ]
  },
  {
   "cell_type": "code",
   "execution_count": null,
   "id": "fe5bc34b",
   "metadata": {},
   "outputs": [],
   "source": [
    "efficacy_devset = load_efficacy_devset(uniform_efficacy=True)\n",
    "efficacy_devset = efficacy_devset * 5\n",
    "len(efficacy_devset)"
   ]
  },
  {
   "cell_type": "code",
   "execution_count": null,
   "id": "690fcf01",
   "metadata": {},
   "outputs": [],
   "source": [
    "from dspy.evaluate import Evaluate\n",
    "import random\n",
    "\n",
    "\n",
    "def efficacy_accuracy(example, pred, trace=None):\n",
    "    \"Calculate error from prediction\"\n",
    "    abs_error = abs(example.cf_efficacy - float(pred.predicted_efficacy))\n",
    "    accuracy = 1 - abs_error\n",
    "    return accuracy\n",
    "\n",
    "\n",
    "N_SAMPLES = 10\n",
    "efficacy_devset_subset = random.sample(efficacy_devset, N_SAMPLES)\n",
    "evaluator = Evaluate(\n",
    "    devset=efficacy_devset_subset,\n",
    "    num_threads=10,\n",
    "    display_progress=True,\n",
    "    provide_traceback=True,\n",
    ")\n",
    "\n",
    "efficacy_agent = CFEfficacyAgent()\n",
    "evaluation = evaluator(efficacy_agent, metric=efficacy_accuracy)"
   ]
  },
  {
   "cell_type": "code",
   "execution_count": null,
   "id": "5073630b",
   "metadata": {},
   "outputs": [],
   "source": [
    "cost = sum([x[\"cost\"] for x in lm.history])\n",
    "\n",
    "errors = []\n",
    "confidences = []\n",
    "for result in evaluation.results:\n",
    "    errors.append(abs(result[0].cf_efficacy - result[1].predicted_efficacy))\n",
    "    confidences.append(result[1].confidence)\n",
    "\n",
    "print(\"Total Cost (USD):\", cost)\n",
    "print(\"Mean Absolute Error:\", sum(errors) / len(errors))\n",
    "print(\"Mean Confidence:\", sum(confidences) / len(confidences))"
   ]
  }
 ],
 "metadata": {
  "kernelspec": {
   "display_name": "Python (cf-compound-selection-backend)",
   "language": "python",
   "name": "cf-compound-selection-backend"
  },
  "language_info": {
   "codemirror_mode": {
    "name": "ipython",
    "version": 3
   },
   "file_extension": ".py",
   "mimetype": "text/x-python",
   "name": "python",
   "nbconvert_exporter": "python",
   "pygments_lexer": "ipython3",
   "version": "3.12.4"
  }
 },
 "nbformat": 4,
 "nbformat_minor": 5
}
