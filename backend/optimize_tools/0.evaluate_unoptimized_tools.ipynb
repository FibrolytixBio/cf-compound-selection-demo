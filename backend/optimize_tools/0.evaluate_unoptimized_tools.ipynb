{
 "cells": [
  {
   "cell_type": "code",
   "execution_count": null,
   "id": "65565858",
   "metadata": {},
   "outputs": [],
   "source": [
    "from dotenv import load_dotenv\n",
    "import dspy\n",
    "import pandas as pd\n",
    "\n",
    "from agentic_system.agents import CFEfficacyAgent\n",
    "from agentic_system.litl_data.litl_utils import load_efficacy_devset\n",
    "\n",
    "load_dotenv(\"../.env\")\n",
    "dspy.configure(lm=dspy.LM(\"gemini/gemini-2.5-flash-lite\", temperature=0.5, cache=True))"
   ]
  },
  {
   "cell_type": "code",
   "execution_count": null,
   "id": "fe5bc34b",
   "metadata": {},
   "outputs": [],
   "source": [
    "efficacy_devset = load_efficacy_devset()\n",
    "efficacy_devset = efficacy_devset * 5\n",
    "len(efficacy_devset)"
   ]
  },
  {
   "cell_type": "code",
   "execution_count": null,
   "id": "690fcf01",
   "metadata": {},
   "outputs": [],
   "source": [
    "from dspy.evaluate import Evaluate\n",
    "\n",
    "\n",
    "def efficacy_accuracy(example, pred, trace=None):\n",
    "    \"Calculate error from prediction\"\n",
    "    abs_error = abs(example.cf_efficacy - float(pred.predicted_efficacy))\n",
    "    accuracy = 1 - abs_error\n",
    "    return accuracy\n",
    "\n",
    "\n",
    "# Set up the evaluator, which can be re-used in your code.\n",
    "evaluator = Evaluate(\n",
    "    devset=efficacy_devset,\n",
    "    num_threads=10,\n",
    "    display_progress=True,\n",
    "    provide_traceback=True,\n",
    ")\n",
    "\n",
    "efficacy_agent = CFEfficacyAgent(max_iters=5)\n",
    "evaluation = evaluator(efficacy_agent, metric=efficacy_accuracy)\n",
    "evaluation"
   ]
  },
  {
   "cell_type": "code",
   "execution_count": null,
   "id": "5073630b",
   "metadata": {},
   "outputs": [],
   "source": [
    "errors = []\n",
    "confidences = []\n",
    "for result in evaluation.results:\n",
    "    errors.append(abs(result[0].cf_efficacy - result[1].predicted_efficacy))\n",
    "    confidences.append(result[1].confidence)\n",
    "\n",
    "print(\"Mean Absolute Error:\", sum(errors) / len(errors))\n",
    "print(\"Mean Confidence:\", sum(confidences) / len(confidences))"
   ]
  }
 ],
 "metadata": {
  "kernelspec": {
   "display_name": "Python (cf-compound-selection-backend)",
   "language": "python",
   "name": "cf-compound-selection-backend"
  },
  "language_info": {
   "codemirror_mode": {
    "name": "ipython",
    "version": 3
   },
   "file_extension": ".py",
   "mimetype": "text/x-python",
   "name": "python",
   "nbconvert_exporter": "python",
   "pygments_lexer": "ipython3",
   "version": "3.12.4"
  }
 },
 "nbformat": 4,
 "nbformat_minor": 5
}
