{
 "cells": [
  {
   "cell_type": "code",
   "execution_count": null,
   "id": "65565858",
   "metadata": {},
   "outputs": [],
   "source": [
    "from dotenv import load_dotenv\n",
    "import dspy\n",
    "import pandas as pd\n",
    "\n",
    "from agentic_system.agents import CFEfficacyAgent\n",
    "from agentic_system.litl_data.litl_utils import load_efficacy_devset\n",
    "\n",
    "load_dotenv(\"../.env\")\n",
    "dspy.configure(\n",
    "    lm=dspy.LM(\n",
    "        \"gemini/gemini-2.5-flash-lite\", temperature=0.5, cache=True, max_tokens=25000\n",
    "    )\n",
    ")"
   ]
  },
  {
   "cell_type": "code",
   "execution_count": 8,
   "id": "fe5bc34b",
   "metadata": {},
   "outputs": [
    {
     "data": {
      "text/plain": [
       "126"
      ]
     },
     "execution_count": 8,
     "metadata": {},
     "output_type": "execute_result"
    }
   ],
   "source": [
    "efficacy_devset = load_efficacy_devset()\n",
    "efficacy_devset = efficacy_devset * 3\n",
    "len(efficacy_devset)"
   ]
  },
  {
   "cell_type": "code",
   "execution_count": 9,
   "id": "690fcf01",
   "metadata": {},
   "outputs": [
    {
     "name": "stdout",
     "output_type": "stream",
     "text": [
      "Average Metric: 11.86 / 22 (53.9%):  17%|█▋        | 22/126 [00:42<02:54,  1.68s/it]"
     ]
    },
    {
     "name": "stderr",
     "output_type": "stream",
     "text": [
      "2025/09/15 15:33:36 WARNING dspy.clients.lm: LM response was truncated due to exceeding max_tokens=4000. You can inspect the latest LM interactions with `dspy.inspect_history()`. To avoid truncation, consider passing a larger max_tokens when setting up dspy.LM. You may also consider increasing the temperature (currently 0.5)  if the reason for truncation is repetition.\n"
     ]
    },
    {
     "name": "stdout",
     "output_type": "stream",
     "text": [
      "Average Metric: 39.08 / 60 (65.1%):  48%|████▊     | 60/126 [01:36<01:22,  1.24s/it]"
     ]
    },
    {
     "name": "stderr",
     "output_type": "stream",
     "text": [
      "2025/09/15 15:34:29 WARNING dspy.clients.lm: LM response was truncated due to exceeding max_tokens=4000. You can inspect the latest LM interactions with `dspy.inspect_history()`. To avoid truncation, consider passing a larger max_tokens when setting up dspy.LM. You may also consider increasing the temperature (currently 0.5)  if the reason for truncation is repetition.\n"
     ]
    },
    {
     "name": "stdout",
     "output_type": "stream",
     "text": [
      "Average Metric: 67.65 / 100 (67.6%):  79%|███████▉  | 100/126 [02:41<00:27,  1.06s/it]"
     ]
    },
    {
     "name": "stderr",
     "output_type": "stream",
     "text": [
      "2025/09/15 15:35:34 WARNING dspy.clients.lm: LM response was truncated due to exceeding max_tokens=4000. You can inspect the latest LM interactions with `dspy.inspect_history()`. To avoid truncation, consider passing a larger max_tokens when setting up dspy.LM. You may also consider increasing the temperature (currently 0.5)  if the reason for truncation is repetition.\n"
     ]
    },
    {
     "name": "stdout",
     "output_type": "stream",
     "text": [
      "Average Metric: 90.84 / 126 (72.1%): 100%|██████████| 126/126 [03:27<00:00,  1.65s/it]"
     ]
    },
    {
     "name": "stderr",
     "output_type": "stream",
     "text": [
      "2025/09/15 15:36:19 INFO dspy.evaluate.evaluate: Average Metric: 90.84299587400342 / 126 (72.1%)\n"
     ]
    },
    {
     "name": "stdout",
     "output_type": "stream",
     "text": [
      "\n"
     ]
    }
   ],
   "source": [
    "from dspy.evaluate import Evaluate\n",
    "\n",
    "\n",
    "def efficacy_accuracy(example, pred, trace=None):\n",
    "    \"Calculate error from prediction\"\n",
    "    abs_error = abs(example.cf_efficacy - float(pred.predicted_efficacy))\n",
    "    accuracy = 1 - abs_error\n",
    "    return accuracy\n",
    "\n",
    "\n",
    "# Set up the evaluator, which can be re-used in your code.\n",
    "evaluator = Evaluate(\n",
    "    devset=efficacy_devset,\n",
    "    num_threads=10,\n",
    "    display_progress=True,\n",
    "    provide_traceback=True,\n",
    ")\n",
    "\n",
    "efficacy_agent = CFEfficacyAgent()\n",
    "evaluation = evaluator(efficacy_agent, metric=efficacy_accuracy)"
   ]
  },
  {
   "cell_type": "code",
   "execution_count": 10,
   "id": "5073630b",
   "metadata": {},
   "outputs": [
    {
     "name": "stdout",
     "output_type": "stream",
     "text": [
      "Mean Absolute Error: 0.2790238422698142\n",
      "Mean Confidence: 0.1119047619047619\n"
     ]
    }
   ],
   "source": [
    "errors = []\n",
    "confidences = []\n",
    "for result in evaluation.results:\n",
    "    errors.append(abs(result[0].cf_efficacy - result[1].predicted_efficacy))\n",
    "    confidences.append(result[1].confidence)\n",
    "\n",
    "print(\"Mean Absolute Error:\", sum(errors) / len(errors))\n",
    "print(\"Mean Confidence:\", sum(confidences) / len(confidences))"
   ]
  },
  {
   "cell_type": "code",
   "execution_count": 12,
   "id": "acda189a",
   "metadata": {},
   "outputs": [
    {
     "data": {
      "text/plain": [
       "{'thought_0': \"The user wants to estimate the efficacy of Luminespib in reversing the activated cardiac fibroblast phenotype. The efficacy is defined as a metric between 0 and 1 based on a custom in vitro assay. To determine this, I need to find information about Luminespib's bioactivities, specifically any data related to its effect on fibroblasts or related cellular processes. I will start by searching for Luminespib in ChEMBL to get its ChEMBL ID, and then use that ID to retrieve its bioactivity summary.\",\n",
       " 'tool_name_0': 'CHEMBL__search_chembl_id',\n",
       " 'tool_args_0': {'query': 'Luminespib'},\n",
       " 'observation_0': \"Found 2 compound(s) matching 'Luminespib': \\n - CHEMBL3137334 (LUMINESPIB MESYLATE)\\n - CHEMBL252164 (LUMINESPIB)\",\n",
       " 'thought_1': 'I have found two ChEMBL IDs for Luminespib: CHEMBL3137334 and CHEMBL252164. To get the bioactivity summary, I should use the ID that is most likely to represent the compound itself, which is CHEMBL252164 (LUMINESPIB). I will then use `CHEMBL__get_compound_bioactivities_summary` to retrieve relevant bioactivity data.',\n",
       " 'tool_name_1': 'CHEMBL__get_compound_bioactivities_summary',\n",
       " 'tool_args_1': {'chembl_id': 'CHEMBL252164'},\n",
       " 'observation_1': 'Bioactivity summary for CHEMBL252164:\\n\\n• ADMET (CHEMBL612558): Stability = 31.0 %, Drug uptake = 6.8 uM, AUC = 16760 ng.hr.mL-1, Vz = 0.4 l, T1/2 = 15.0 hr, Cmax_tumor = 6.0 uM, CL = 2.00e-02 L/hr\\n\\n• Mus musculus (CHEMBL375): Activity = 10.0 %, Cmax = 385.4 nM, MTD = 50.0 mg kg-1, Tmax = 1.0 hr, LBF = 108.0 ml/hr, AUC = 800.8 ng.hr.mL-1, CL/F = 3.50e-02 L/hr, T1/2 = 9.5 hr, Vdss = 0.5 l\\n\\n• Plasma (CHEMBL613589): Cmax = 49000 nM, AUC = 6983 ng.hr.mL-1, Vz = 0.9 l, T1/2 = 1.0 hr, CL = 8.20e-02 L/hr\\n\\n• Heat shock protein HSP 90-beta (CHEMBL4303): Ki = 6.40e-02 nM, IC50 = 7.0 nM\\n\\n• HCT-116 (CHEMBL394): Inhibition = 49.8 %, GI = 50.0 %, GI50 = 16.0 nM\\n(Showing top 5 of 14 targets with activity data)',\n",
       " 'thought_2': 'The bioactivity summary shows that Luminespib has activity against Heat shock protein HSP 90-beta (Ki = 6.40e-02 nM, IC50 = 7.0 nM) and also shows inhibition in HCT-116 cells (GI50 = 16.0 nM). However, none of these directly relate to reversing the activated cardiac fibroblast phenotype using the described Cell Painting assay. The provided information is about general bioactivities and not specific to the assay described in the problem description. Therefore, I need to check if there is any information in PubChem that might be more relevant to the specific assay. I will search PubChem for Luminespib to get its CID and then look for bioassay summaries.',\n",
       " 'tool_name_2': 'PUBCHEM__search_pubchem_cid',\n",
       " 'tool_args_2': {'query': 'Luminespib'},\n",
       " 'observation_2': \"Found PubChem CID 135539077 (5-(2,4-dihydroxy-5-propan-2-ylphenyl)-N-ethyl-4-[4-(morpholin-4-ylmethyl)phenyl]-1,2-oxazole-3-carboxamide) for 'Luminespib'\",\n",
       " 'thought_3': 'I have found the PubChem CID for Luminespib, which is 135539077. Now I need to check for bioassay summaries related to this compound in PubChem. This might provide more specific information about its effects in cellular assays, potentially including fibroblast-related ones. I will use the `PUBCHEM__get_bioassay_summary` tool with the obtained CID.',\n",
       " 'tool_name_3': 'PUBCHEM__get_bioassay_summary',\n",
       " 'tool_args_3': {'cid': '135539077'},\n",
       " 'observation_3': 'Bioassay summary for CID 135539077:\\nTested in 1299 assays - 967 active, 114 inactive\\n\\nActive in:\\n• AID 1: NCI human tumor cell line growth inhibition assay. Data for the NCI-H23 Non-Small Cell Lung cell ... \\n\\n• AID 3: NCI human tumor cell line growth inhibition assay. Data for the NCI-H226 Non-Small Cell Lung cell... \\n\\n• AID 7: NCI human tumor cell line growth inhibition assay. Data for the NCI-H460 Non-Small Cell Lung cell... \\n\\n• AID 9: NCI human tumor cell line growth inhibition assay. Data for the HOP-62 Non-Small Cell Lung cell line \\n\\n• AID 13: NCI human tumor cell line growth inhibition assay. Data for the HOP-92 Non-Small Cell Lung cell line \\n\\n(Showing 5 of 967 active assays)',\n",
       " 'thought_4': 'The bioassay summary from PubChem indicates that Luminespib has been tested in numerous assays, primarily related to cancer cell line growth inhibition. However, there is no specific information directly addressing its efficacy in reversing the activated cardiac fibroblast phenotype using the Cell Painting assay as described in the problem description. Since I have exhausted the relevant tools for finding direct efficacy data for this specific assay, and the available information does not seem to provide the required metrics (predicted_efficacy and confidence), I will conclude the task.',\n",
       " 'tool_name_4': 'finish',\n",
       " 'tool_args_4': {},\n",
       " 'observation_4': 'Completed.'}"
      ]
     },
     "execution_count": 12,
     "metadata": {},
     "output_type": "execute_result"
    }
   ],
   "source": [
    "evaluation.results[0][1].trajectory"
   ]
  }
 ],
 "metadata": {
  "kernelspec": {
   "display_name": "Python (cf-compound-selection-backend)",
   "language": "python",
   "name": "cf-compound-selection-backend"
  },
  "language_info": {
   "codemirror_mode": {
    "name": "ipython",
    "version": 3
   },
   "file_extension": ".py",
   "mimetype": "text/x-python",
   "name": "python",
   "nbconvert_exporter": "python",
   "pygments_lexer": "ipython3",
   "version": "3.12.4"
  }
 },
 "nbformat": 4,
 "nbformat_minor": 5
}
