{
 "cells": [
  {
   "cell_type": "code",
   "execution_count": 1,
   "id": "65565858",
   "metadata": {},
   "outputs": [],
   "source": [
    "from dotenv import load_dotenv\n",
    "import dspy\n",
    "\n",
    "from agentic_system.agents import CFEfficacyAgent\n",
    "from agentic_system.litl_data.litl_utils import load_efficacy_devset\n",
    "\n",
    "load_dotenv(\"../.env\")\n",
    "lm = dspy.LM(\"gemini/gemini-2.5-pro\", temperature=0.5, cache=False, max_tokens=25000)\n",
    "dspy.settings.configure(\n",
    "    lm=lm,\n",
    "    track_usage=True,\n",
    ")"
   ]
  },
  {
   "cell_type": "code",
   "execution_count": 2,
   "id": "fe5bc34b",
   "metadata": {},
   "outputs": [
    {
     "data": {
      "text/plain": [
       "125"
      ]
     },
     "execution_count": 2,
     "metadata": {},
     "output_type": "execute_result"
    }
   ],
   "source": [
    "import random\n",
    "\n",
    "DEVSET_MULTIPLIER = 5\n",
    "# N_DEVSET_SAMPLES = 10\n",
    "\n",
    "efficacy_devset = load_efficacy_devset(uniform_efficacy=True)\n",
    "efficacy_devset = efficacy_devset * DEVSET_MULTIPLIER\n",
    "# efficacy_devset = random.sample(efficacy_devset, N_DEVSET_SAMPLES)\n",
    "\n",
    "len(efficacy_devset)"
   ]
  },
  {
   "cell_type": "code",
   "execution_count": 3,
   "id": "690fcf01",
   "metadata": {},
   "outputs": [
    {
     "name": "stdout",
     "output_type": "stream",
     "text": [
      "Average Metric: 24.54 / 38 (64.6%):  30%|███       | 38/125 [03:58<04:06,  2.83s/it]"
     ]
    },
    {
     "name": "stderr",
     "output_type": "stream",
     "text": [
      "2025/09/17 17:15:27 WARNING dspy.clients.lm: LM response was truncated due to exceeding max_tokens=4000. You can inspect the latest LM interactions with `dspy.inspect_history()`. To avoid truncation, consider passing a larger max_tokens when setting up dspy.LM. You may also consider increasing the temperature (currently 0.0)  if the reason for truncation is repetition.\n"
     ]
    },
    {
     "name": "stdout",
     "output_type": "stream",
     "text": [
      "Average Metric: 52.09 / 81 (64.3%):  65%|██████▍   | 81/125 [08:19<04:13,  5.75s/it]"
     ]
    },
    {
     "name": "stderr",
     "output_type": "stream",
     "text": [
      "2025/09/17 17:19:41 WARNING dspy.clients.lm: LM response was truncated due to exceeding max_tokens=4000. You can inspect the latest LM interactions with `dspy.inspect_history()`. To avoid truncation, consider passing a larger max_tokens when setting up dspy.LM. You may also consider increasing the temperature (currently 0.0)  if the reason for truncation is repetition.\n"
     ]
    },
    {
     "name": "stdout",
     "output_type": "stream",
     "text": [
      "Average Metric: 78.04 / 125 (62.4%): 100%|██████████| 125/125 [12:56<00:00,  6.21s/it]"
     ]
    },
    {
     "name": "stderr",
     "output_type": "stream",
     "text": [
      "2025/09/17 17:24:10 INFO dspy.evaluate.evaluate: Average Metric: 78.03789642367497 / 125 (62.4%)\n"
     ]
    },
    {
     "name": "stdout",
     "output_type": "stream",
     "text": [
      "\n"
     ]
    }
   ],
   "source": [
    "from dspy.evaluate import Evaluate\n",
    "import time\n",
    "\n",
    "N_THREADS = 10\n",
    "MAX_ITERS = 10\n",
    "\n",
    "\n",
    "def efficacy_accuracy(example, pred, trace=None):\n",
    "    \"Calculate accuracy from prediction\"\n",
    "    abs_error = abs(example.cf_efficacy - float(pred.predicted_efficacy))\n",
    "    accuracy = 1 - abs_error\n",
    "    return accuracy\n",
    "\n",
    "\n",
    "evaluator = Evaluate(\n",
    "    devset=efficacy_devset,\n",
    "    num_threads=N_THREADS,\n",
    "    display_progress=True,\n",
    "    provide_traceback=True,\n",
    ")\n",
    "\n",
    "efficacy_agent = CFEfficacyAgent(max_iters=MAX_ITERS)\n",
    "\n",
    "start_time = time.time()\n",
    "evaluation = evaluator(efficacy_agent, metric=efficacy_accuracy)\n",
    "end_time = time.time()"
   ]
  },
  {
   "cell_type": "code",
   "execution_count": 4,
   "id": "5073630b",
   "metadata": {},
   "outputs": [
    {
     "name": "stdout",
     "output_type": "stream",
     "text": [
      "Stats from 125 runs:\n",
      "------------------------\n",
      "Total Runtime (s): 776.6659922599792\n",
      "Total Cost (USD): 12.899648437500002\n",
      "Mean Absolute Error: 0.37569682861060033\n",
      "Mean Confidence: 0.8344\n",
      "Mean Step Count: 5.328\n"
     ]
    }
   ],
   "source": [
    "runtime = end_time - start_time\n",
    "cost = sum([x[\"cost\"] for x in lm.history])\n",
    "\n",
    "errors = []\n",
    "confidences = []\n",
    "step_counts = []\n",
    "for result in evaluation.results:\n",
    "    errors.append(abs(result[0].cf_efficacy - result[1].predicted_efficacy))\n",
    "    confidences.append(result[1].confidence)\n",
    "    step_counts.append(len(result[1].trajectory) // 4)\n",
    "\n",
    "print(f\"Stats from {len(evaluation.results)} runs:\")\n",
    "print(\"------------------------\")\n",
    "print(\"Total Runtime (s):\", runtime)\n",
    "print(\"Total Cost (USD):\", cost)\n",
    "print(\"Mean Absolute Error:\", sum(errors) / len(errors))\n",
    "print(\"Mean Confidence:\", sum(confidences) / len(confidences))\n",
    "print(\"Mean Step Count:\", sum(step_counts) / len(step_counts))"
   ]
  },
  {
   "cell_type": "code",
   "execution_count": 6,
   "id": "3ff7c90f",
   "metadata": {},
   "outputs": [
    {
     "data": {
      "text/plain": [
       "{'thought_0': \"I need to estimate the efficacy of Everolimus in a specific in vitro assay involving failing cardiac fibroblasts. To do this, I need to gather information about Everolimus, its mechanism of action, and any known effects on cardiac fibroblasts or related biological processes.\\n\\nFirst, I will start by identifying the compound in a chemical database to get a standardized identifier. I'll use ChEMBL for this. This will allow me to reliably query for more detailed information like its mechanism of action and bioactivities.\",\n",
       " 'tool_name_0': 'CHEMBL__search_chembl_id',\n",
       " 'tool_args_0': {'goal': 'Find the ChEMBL ID for Everolimus to use for subsequent database lookups.',\n",
       "  'query': 'Everolimus'},\n",
       " 'observation_0': 'The ChEMBL ID for Everolimus is CHEMBL1908360 (EVEROLIMUS). (ChEMBL API)',\n",
       " 'thought_1': \"I have the ChEMBL ID for Everolimus (CHEMBL1908360). Now I need to understand its mechanism of action to see if it's relevant to cardiac fibroblast biology. I will use the ChEMBL ID to get the mechanism of action information. This will tell me the protein targets of Everolimus and its mode of action (e.g., inhibitor, agonist). This is a crucial step to form a hypothesis about its potential effect on the failing cardiac fibroblast phenotype.\",\n",
       " 'tool_name_1': 'CHEMBL__get_mechanisms_of_action',\n",
       " 'tool_args_1': {'goal': 'Retrieve the mechanism of action for Everolimus to understand its biological targets and activity.',\n",
       "  'chembl_id': 'CHEMBL1908360'},\n",
       " 'observation_1': 'Everolimus is an inhibitor of FK506-binding protein 1A (CHEMBL1902). (http://dailymed.nlm.nih.gov/dailymed/lookup.cfm?setid=2150f73a-179b-4afc-b8ce-67c85cc72f04#section-13)',\n",
       " 'thought_2': 'I have identified that Everolimus is an inhibitor of FK506-binding protein 1A (FKBP1A). However, this is only part of the story. The Everolimus-FKBP1A complex is known to inhibit the mammalian target of rapamycin (mTOR). The mTOR pathway is a central regulator of cell growth, proliferation, and survival, which are all processes highly relevant to the phenotype of failing cardiac fibroblasts (e.g., excessive proliferation, fibrosis).\\n\\nTo build a strong hypothesis, I need to find evidence linking mTOR inhibition to the reversal of pathological fibroblast phenotypes, specifically in the heart. A PubMed search for literature on Everolimus, mTOR, and cardiac fibroblasts or fibrosis is the most direct way to find this evidence. This will help me determine if the known mechanism of action is likely to produce the desired effect in the specified assay.',\n",
       " 'tool_name_2': 'SEARCH__search_pubmed_abstracts',\n",
       " 'tool_args_2': {'goal': 'Find scientific literature linking Everolimus or mTOR inhibition to cardiac fibroblast activity or cardiac fibrosis to support an efficacy prediction.',\n",
       "  'term': 'Everolimus OR mTOR inhibitor AND \"cardiac fibroblast\" OR \"cardiac fibrosis\"'},\n",
       " 'observation_2': 'Cardiac fibrosis is a pathological response to chronic inflammation and tissue damage, characterized by excessive deposition of extracellular matrix proteins, which can lead to impaired cardiac function and heart failure. (DOI: 10.1007/s00441-016-2431-9, DOI: 10.1007/s00441-016-2431-9, DOI: 10.3390/ijms23052617, DOI: 10.1161/CIRCRESAHA.124.325402)\\nCardiac fibrosis can be visualized using late gadolinium enhancement cardiac magnetic resonance imaging and is a predictor for the outcome of atrial fibrillation interventions. (DOI: 10.1093/eurheartj/ehz786)\\nMyocardial infarction induces a reparative fibrotic scar formed by fibroblasts and myofibroblasts, which can lead to progressive impairment of cardiac function if exaggerated. (DOI: 10.1007/s00441-016-2431-9)\\nPanaxatriol saponin (PTS) ameliorates myocardial infarction-induced cardiac fibrosis by targeting the Keap1/Nrf2 pathway to regulate oxidative stress and inhibit cardiac fibroblast activation and proliferation. (DOI: 10.1016/j.freeradbiomed.2022.08.016)\\nAngiotensin II-induced differentiation of cardiac fibroblasts is associated with oxidative stress, increased reactive oxygen species production, and altered antioxidant enzyme expression. (DOI: 10.1016/j.freeradbiomed.2022.08.016)\\nMulti-omics technologies are providing insights into the molecular mechanisms of cardiac fibrosis, identifying novel genetic variants, regulatory networks, fibroblast subpopulations, epigenetic modifications, biomarkers, and metabolic alterations. (DOI: 10.1161/CIRCRESAHA.124.325402)\\nNrf2 activation enhances the antifibrotic effect of PTS, while genetic ablation of Nrf2 abrogates this effect, suggesting Nrf2 as a potential therapeutic target for cardiac fibrosis. (DOI: 10.1016/j.freeradbiomed.2022.08.016)',\n",
       " 'thought_3': 'The previous PubMed search was too general and did not return any results specifically about Everolimus or mTOR inhibitors. The results were about cardiac fibrosis in general. To make an informed prediction, I need to find literature that directly investigates the effect of mTOR inhibition on cardiac fibroblasts. I will perform a more specific search to find this evidence. I will focus the search on the mTOR pathway and its role in cardiac fibroblast activation, proliferation, and phenotype, which are key features of the \"failing\" state.',\n",
       " 'tool_name_3': 'SEARCH__search_pubmed_abstracts',\n",
       " 'tool_args_3': {'goal': 'Find more specific scientific literature on the effect of mTOR inhibition on cardiac fibroblast phenotype, activation, or proliferation.',\n",
       "  'term': '\"mTOR\" AND \"cardiac fibroblast\" AND (phenotype OR activation OR proliferation OR fibrosis)'},\n",
       " 'observation_3': 'Catecholamines activate AMPK via PKA, which induces autophagy through an mTOR-dependent mechanism and promotes ERK-dependent cardiac fibroblast proliferation (Catalán et al., 2025). Ethanol exposure decreases mTOR expression and induces myofibroblast activation in cardiac fibroblasts (Mouton et al., 2020). VMP1 enhances autophagy, suppresses cardiac fibroblast activation, and reduces post-ischemia-reperfusion fibrosis by inhibiting mTOR phosphorylation (Li et al., 2025). Serum from heated tobacco product smokers induces mTOR activation and fibrotic features in human cardiac stromal cells, which can be reduced by rapamycin (Picchio et al., 2024). Yes-Associated Protein (Yap) promotes cardiac fibroblast proliferation and Akt phosphorylation, but does not significantly affect mTOR signaling pathways (Sharifi-Sanjani et al., 2021).',\n",
       " 'thought_4': 'The PubMed search results provide strong evidence that mTOR inhibition is a viable strategy for reversing the failing cardiac fibroblast phenotype. Specifically:\\n- Picchio et al. (2024) showed that rapamycin, an mTOR inhibitor similar to Everolimus, can reduce fibrotic features in human cardiac stromal cells.\\n- Li et al. (2025) found that inhibiting mTOR phosphorylation suppresses cardiac fibroblast activation and reduces fibrosis.\\n- Catalán et al. (2025) linked mTOR to cardiac fibroblast proliferation.\\n\\nGiven that Everolimus is a well-established mTOR inhibitor, these findings strongly support the hypothesis that it will be effective in the described assay. The assay measures the reversion of the \"failing\" phenotype, which is characterized by processes like activation, proliferation, and extracellular matrix deposition (fibrosis)—all of which appear to be modulated by the mTOR pathway according to the literature.\\n\\nI have sufficient information to make a confident prediction. I have identified the compound, its mechanism of action, and found direct literature evidence linking this mechanism to the desired biological effect on the relevant cell type. No further tool calls are necessary.',\n",
       " 'tool_name_4': 'finish',\n",
       " 'tool_args_4': {},\n",
       " 'observation_4': 'Completed.'}"
      ]
     },
     "execution_count": 6,
     "metadata": {},
     "output_type": "execute_result"
    }
   ],
   "source": [
    "evaluation.results[-1][1].trajectory"
   ]
  }
 ],
 "metadata": {
  "kernelspec": {
   "display_name": "Python (cf-compound-selection-backend)",
   "language": "python",
   "name": "cf-compound-selection-backend"
  },
  "language_info": {
   "codemirror_mode": {
    "name": "ipython",
    "version": 3
   },
   "file_extension": ".py",
   "mimetype": "text/x-python",
   "name": "python",
   "nbconvert_exporter": "python",
   "pygments_lexer": "ipython3",
   "version": "3.12.4"
  }
 },
 "nbformat": 4,
 "nbformat_minor": 5
}
