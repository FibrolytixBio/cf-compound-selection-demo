{
 "cells": [
  {
   "cell_type": "code",
   "execution_count": 1,
   "id": "65565858",
   "metadata": {},
   "outputs": [],
   "source": [
    "from dotenv import load_dotenv\n",
    "import dspy\n",
    "\n",
    "from agentic_system.agents import CFEfficacyAgent\n",
    "from agentic_system.litl_data.litl_utils import load_efficacy_devset\n",
    "\n",
    "load_dotenv(\"../.env\")\n",
    "lm = dspy.LM(\"gemini/gemini-2.5-pro\", temperature=0.5, cache=False, max_tokens=25000)\n",
    "dspy.settings.configure(\n",
    "    lm=lm,\n",
    "    track_usage=True,\n",
    ")"
   ]
  },
  {
   "cell_type": "code",
   "execution_count": 2,
   "id": "fe5bc34b",
   "metadata": {},
   "outputs": [
    {
     "data": {
      "text/plain": [
       "125"
      ]
     },
     "execution_count": 2,
     "metadata": {},
     "output_type": "execute_result"
    }
   ],
   "source": [
    "import random\n",
    "\n",
    "DEVSET_MULTIPLIER = 5\n",
    "# N_DEVSET_SAMPLES = 10\n",
    "\n",
    "efficacy_devset = load_efficacy_devset(uniform_efficacy=True)\n",
    "efficacy_devset = efficacy_devset * DEVSET_MULTIPLIER\n",
    "# efficacy_devset = random.sample(efficacy_devset, N_DEVSET_SAMPLES)\n",
    "\n",
    "len(efficacy_devset)"
   ]
  },
  {
   "cell_type": "code",
   "execution_count": 3,
   "id": "690fcf01",
   "metadata": {},
   "outputs": [
    {
     "name": "stdout",
     "output_type": "stream",
     "text": [
      "Average Metric: 24.54 / 38 (64.6%):  30%|███       | 38/125 [03:58<04:06,  2.83s/it]"
     ]
    },
    {
     "name": "stderr",
     "output_type": "stream",
     "text": [
      "2025/09/17 17:15:27 WARNING dspy.clients.lm: LM response was truncated due to exceeding max_tokens=4000. You can inspect the latest LM interactions with `dspy.inspect_history()`. To avoid truncation, consider passing a larger max_tokens when setting up dspy.LM. You may also consider increasing the temperature (currently 0.0)  if the reason for truncation is repetition.\n"
     ]
    },
    {
     "name": "stdout",
     "output_type": "stream",
     "text": [
      "Average Metric: 52.09 / 81 (64.3%):  65%|██████▍   | 81/125 [08:19<04:13,  5.75s/it]"
     ]
    },
    {
     "name": "stderr",
     "output_type": "stream",
     "text": [
      "2025/09/17 17:19:41 WARNING dspy.clients.lm: LM response was truncated due to exceeding max_tokens=4000. You can inspect the latest LM interactions with `dspy.inspect_history()`. To avoid truncation, consider passing a larger max_tokens when setting up dspy.LM. You may also consider increasing the temperature (currently 0.0)  if the reason for truncation is repetition.\n"
     ]
    },
    {
     "name": "stdout",
     "output_type": "stream",
     "text": [
      "Average Metric: 78.04 / 125 (62.4%): 100%|██████████| 125/125 [12:56<00:00,  6.21s/it]"
     ]
    },
    {
     "name": "stderr",
     "output_type": "stream",
     "text": [
      "2025/09/17 17:24:10 INFO dspy.evaluate.evaluate: Average Metric: 78.03789642367497 / 125 (62.4%)\n"
     ]
    },
    {
     "name": "stdout",
     "output_type": "stream",
     "text": [
      "\n"
     ]
    }
   ],
   "source": [
    "from dspy.evaluate import Evaluate\n",
    "import time\n",
    "\n",
    "N_THREADS = 10\n",
    "MAX_ITERS = 10\n",
    "\n",
    "\n",
    "def efficacy_accuracy(example, pred, trace=None):\n",
    "    \"Calculate accuracy from prediction\"\n",
    "    abs_error = abs(example.cf_efficacy - float(pred.predicted_efficacy))\n",
    "    accuracy = 1 - abs_error\n",
    "    return accuracy\n",
    "\n",
    "\n",
    "evaluator = Evaluate(\n",
    "    devset=efficacy_devset,\n",
    "    num_threads=N_THREADS,\n",
    "    display_progress=True,\n",
    "    provide_traceback=True,\n",
    ")\n",
    "\n",
    "efficacy_agent = CFEfficacyAgent(max_iters=MAX_ITERS)\n",
    "\n",
    "start_time = time.time()\n",
    "evaluation = evaluator(efficacy_agent, metric=efficacy_accuracy)\n",
    "end_time = time.time()"
   ]
  },
  {
   "cell_type": "code",
   "execution_count": 4,
   "id": "5073630b",
   "metadata": {},
   "outputs": [
    {
     "name": "stdout",
     "output_type": "stream",
     "text": [
      "Stats from 125 runs:\n",
      "------------------------\n",
      "Total Runtime (s): 776.6659922599792\n",
      "Total Cost (USD): 12.899648437500002\n",
      "Mean Absolute Error: 0.37569682861060033\n",
      "Mean Confidence: 0.8344\n",
      "Mean Step Count: 5.328\n"
     ]
    }
   ],
   "source": [
    "runtime = end_time - start_time\n",
    "cost = sum([x[\"cost\"] for x in lm.history])\n",
    "\n",
    "errors = []\n",
    "confidences = []\n",
    "step_counts = []\n",
    "for result in evaluation.results:\n",
    "    errors.append(abs(result[0].cf_efficacy - result[1].predicted_efficacy))\n",
    "    confidences.append(result[1].confidence)\n",
    "    step_counts.append(len(result[1].trajectory) // 4)\n",
    "\n",
    "print(f\"Stats from {len(evaluation.results)} runs:\")\n",
    "print(\"------------------------\")\n",
    "print(\"Total Runtime (s):\", runtime)\n",
    "print(\"Total Cost (USD):\", cost)\n",
    "print(\"Mean Absolute Error:\", sum(errors) / len(errors))\n",
    "print(\"Mean Confidence:\", sum(confidences) / len(confidences))\n",
    "print(\"Mean Step Count:\", sum(step_counts) / len(step_counts))"
   ]
  }
 ],
 "metadata": {
  "kernelspec": {
   "display_name": "Python (cf-compound-selection-backend)",
   "language": "python",
   "name": "cf-compound-selection-backend"
  },
  "language_info": {
   "codemirror_mode": {
    "name": "ipython",
    "version": 3
   },
   "file_extension": ".py",
   "mimetype": "text/x-python",
   "name": "python",
   "nbconvert_exporter": "python",
   "pygments_lexer": "ipython3",
   "version": "3.12.4"
  }
 },
 "nbformat": 4,
 "nbformat_minor": 5
}
