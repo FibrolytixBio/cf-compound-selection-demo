{
 "cells": [
  {
   "cell_type": "code",
   "execution_count": null,
   "id": "65565858",
   "metadata": {},
   "outputs": [],
   "source": [
    "from dotenv import load_dotenv\n",
    "import dspy\n",
    "\n",
    "from agentic_system.agents import CFEfficacyAgent\n",
    "from agentic_system.litl_data.litl_utils import load_efficacy_devset\n",
    "\n",
    "load_dotenv(\"../.env\")\n",
    "lm = dspy.LM(\"gemini/gemini-2.5-pro\", temperature=0.5, cache=False, max_tokens=25000)\n",
    "dspy.settings.configure(\n",
    "    lm=lm,\n",
    "    track_usage=True,\n",
    ")"
   ]
  },
  {
   "cell_type": "code",
   "execution_count": null,
   "id": "fe5bc34b",
   "metadata": {},
   "outputs": [],
   "source": [
    "import random\n",
    "\n",
    "DEVSET_MULTIPLIER = 5\n",
    "# N_DEVSET_SAMPLES = 10\n",
    "\n",
    "efficacy_devset = load_efficacy_devset(uniform_efficacy=True)\n",
    "efficacy_devset = efficacy_devset * DEVSET_MULTIPLIER\n",
    "# efficacy_devset = random.sample(efficacy_devset, N_DEVSET_SAMPLES)\n",
    "\n",
    "len(efficacy_devset)"
   ]
  },
  {
   "cell_type": "code",
   "execution_count": null,
   "id": "690fcf01",
   "metadata": {},
   "outputs": [],
   "source": [
    "from dspy.evaluate import Evaluate\n",
    "import time\n",
    "\n",
    "N_THREADS = 10\n",
    "MAX_ITERS = 10\n",
    "\n",
    "\n",
    "def efficacy_accuracy(example, pred, trace=None):\n",
    "    \"Calculate accuracy from prediction\"\n",
    "    abs_error = abs(example.cf_efficacy - float(pred.predicted_efficacy))\n",
    "    accuracy = 1 - abs_error\n",
    "    return accuracy\n",
    "\n",
    "\n",
    "evaluator = Evaluate(\n",
    "    devset=efficacy_devset,\n",
    "    num_threads=N_THREADS,\n",
    "    display_progress=True,\n",
    "    provide_traceback=True,\n",
    ")\n",
    "\n",
    "efficacy_agent = CFEfficacyAgent(max_iters=MAX_ITERS)\n",
    "\n",
    "start_time = time.time()\n",
    "evaluation = evaluator(efficacy_agent, metric=efficacy_accuracy)\n",
    "end_time = time.time()"
   ]
  },
  {
   "cell_type": "code",
   "execution_count": null,
   "id": "5073630b",
   "metadata": {},
   "outputs": [],
   "source": [
    "runtime = end_time - start_time\n",
    "cost = sum([x[\"cost\"] for x in lm.history])\n",
    "\n",
    "errors = []\n",
    "confidences = []\n",
    "step_counts = []\n",
    "for result in evaluation.results:\n",
    "    errors.append(abs(result[0].cf_efficacy - result[1].predicted_efficacy))\n",
    "    confidences.append(result[1].confidence)\n",
    "    step_counts.append(len(result[1].trajectory) // 4)\n",
    "\n",
    "print(f\"Stats from {len(evaluation.results)} runs:\")\n",
    "print(\"------------------------\")\n",
    "print(\"Total Runtime (s):\", runtime)\n",
    "print(\"Total Cost (USD):\", cost)\n",
    "print(\"Mean Absolute Error:\", sum(errors) / len(errors))\n",
    "print(\"Mean Confidence:\", sum(confidences) / len(confidences))\n",
    "print(\"Mean Step Count:\", sum(step_counts) / len(step_counts))"
   ]
  },
  {
   "cell_type": "code",
   "execution_count": null,
   "id": "71eae6ef",
   "metadata": {},
   "outputs": [],
   "source": [
    "evaluation.results[0][1].trajectory"
   ]
  }
 ],
 "metadata": {
  "kernelspec": {
   "display_name": "Python (cf-compound-selection-backend)",
   "language": "python",
   "name": "cf-compound-selection-backend"
  },
  "language_info": {
   "codemirror_mode": {
    "name": "ipython",
    "version": 3
   },
   "file_extension": ".py",
   "mimetype": "text/x-python",
   "name": "python",
   "nbconvert_exporter": "python",
   "pygments_lexer": "ipython3",
   "version": "3.12.4"
  }
 },
 "nbformat": 4,
 "nbformat_minor": 5
}
