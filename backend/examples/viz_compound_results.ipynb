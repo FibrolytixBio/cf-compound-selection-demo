{
 "cells": [
  {
   "cell_type": "code",
   "execution_count": 2,
   "id": "dcbc2031",
   "metadata": {},
   "outputs": [],
   "source": [
    "from pathlib import Path\n",
    "import json\n",
    "\n",
    "import pandas as pd"
   ]
  },
  {
   "cell_type": "code",
   "execution_count": 8,
   "id": "dc45c41c",
   "metadata": {},
   "outputs": [
    {
     "name": "stdout",
     "output_type": "stream",
     "text": [
      "Processing tanespimycin_result_8.json\n",
      "0.85 5\n",
      "Processing tanespimycin_result_4.json\n",
      "0.75 5\n",
      "Processing tanespimycin_result_5.json\n",
      "0.85 50\n",
      "Processing tanespimycin_result_9.json\n",
      "0.8 5\n",
      "Processing tanespimycin_result_2.json\n",
      "0.75 15\n",
      "Processing tanespimycin_result_3.json\n",
      "0.75 50\n",
      "Processing tanespimycin_result_0.json\n",
      "0.75 20\n",
      "Processing tanespimycin_result_1.json\n",
      "0.75 70\n",
      "Processing tanespimycin_result_6.json\n",
      "0.75 None\n",
      "Processing tanespimycin_result_7.json\n",
      "0.75 5\n"
     ]
    }
   ],
   "source": [
    "COMPOUND = \"tanespimycin\"\n",
    "RESULTS_DIR = Path(\"compound_results/\")\n",
    "\n",
    "for path in RESULTS_DIR.glob(f\"{COMPOUND}_result_*.json\"):\n",
    "    print(f\"Processing {path.name}\")\n",
    "    with open(path, \"r\") as f:\n",
    "        result = json.load(f)\n",
    "\n",
    "    predicted_efficacy = result[\"compound_prioritization\"][\"sub_agents\"][\"cf_efficacy\"][\n",
    "        \"result\"\n",
    "    ][\"predicted_efficacy\"]\n",
    "    percent_remaining_cells = result[\"compound_prioritization\"][\"sub_agents\"][\n",
    "        \"toxicity_screening\"\n",
    "    ][\"result\"][\"percent_remaining_cells\"]\n",
    "\n",
    "    print(predicted_efficacy, percent_remaining_cells)"
   ]
  }
 ],
 "metadata": {
  "kernelspec": {
   "display_name": "cf-compound-selection-backend",
   "language": "python",
   "name": "python3"
  },
  "language_info": {
   "codemirror_mode": {
    "name": "ipython",
    "version": 3
   },
   "file_extension": ".py",
   "mimetype": "text/x-python",
   "name": "python",
   "nbconvert_exporter": "python",
   "pygments_lexer": "ipython3",
   "version": "3.12.4"
  }
 },
 "nbformat": 4,
 "nbformat_minor": 5
}
