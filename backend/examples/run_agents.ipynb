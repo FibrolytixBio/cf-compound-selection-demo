{
 "cells": [
  {
   "cell_type": "code",
   "execution_count": 1,
   "id": "ee547c89",
   "metadata": {},
   "outputs": [],
   "source": [
    "from dotenv import load_dotenv\n",
    "import dspy\n",
    "import mlflow\n",
    "\n",
    "from agentic_system.agents import (\n",
    "    CFEfficacyAgent,\n",
    "    ToxicityScreeningAgent,\n",
    "    CompoundPrioritizationAgent,\n",
    ")"
   ]
  },
  {
   "cell_type": "code",
   "execution_count": 2,
   "id": "98b67deb",
   "metadata": {},
   "outputs": [
    {
     "name": "stderr",
     "output_type": "stream",
     "text": [
      "2025/09/11 10:28:37 INFO mlflow.tracking.fluent: Autologging successfully enabled for dspy.\n",
      "2025/09/11 10:28:37 INFO mlflow.tracking.fluent: Autologging successfully enabled for litellm.\n",
      "2025/09/11 10:28:37 INFO mlflow.tracking.fluent: Autologging successfully enabled for openai.\n"
     ]
    }
   ],
   "source": [
    "# NOTE: Start MLflow server with:\n",
    "# mlflow server --backend-store-uri sqlite:///mydb.sqlite\n",
    "# Tell MLflow about the server URI.\n",
    "mlflow.set_tracking_uri(\"http://127.0.0.1:5000\")\n",
    "# Create a unique name for your experiment.\n",
    "mlflow.set_experiment(\"DSPy\")\n",
    "mlflow.autolog()\n",
    "\n",
    "load_dotenv(\"../.env\")\n",
    "dspy.configure(\n",
    "    lm=dspy.LM(\n",
    "        \"gemini/gemini-2.5-flash-lite\", temperature=0.5, cache=True, rollout_id=1\n",
    "    )\n",
    ")\n",
    "\n",
    "COMPOUND = \"Luminespib\""
   ]
  },
  {
   "cell_type": "code",
   "execution_count": 3,
   "id": "739d2286",
   "metadata": {},
   "outputs": [
    {
     "name": "stdout",
     "output_type": "stream",
     "text": [
      "Prediction(\n",
      "    trajectory={'thought_0': \"The user wants to estimate the efficacy of Luminespib for reversing cardiac fibrosis. I should start by searching for information about Luminespib's known activities and properties, especially in the context of cardiac fibrosis. I will use `search_chembl_id` to get the ChEMBL ID for Luminespib, which will be useful for subsequent searches.\", 'tool_name_0': 'search_chembl_id', 'tool_args_0': {'query': 'Luminespib'}, 'observation_0': \"Found 2 compound(s) matching 'Luminespib': \\n - CHEMBL3137334 (LUMINESPIB MESYLATE)\\n - CHEMBL252164 (LUMINESPIB)\", 'thought_1': \"I have found two ChEMBL IDs for Luminespib. CHEMBL252164 is the primary ID. I should now use this ID to get more information about the compound's properties and bioactivities. I will start by getting the compound's properties using `get_compound_properties`.\", 'tool_name_1': 'get_compound_properties', 'tool_args_1': {'chembl_id': 'CHEMBL252164'}, 'observation_1': \"Properties of CHEMBL252164:. molecular weight 465.6 Da. ALogP 4.13 (lipophilic). TPSA 108.1 Ų (moderate permeability expected). 3 H-bond donors and 7 H-bond acceptors. 7 rotatable bonds (flexible). compliant with Lipinski's Rule of Five. classified as Small molecule.\", 'thought_2': 'I have retrieved the physicochemical properties of Luminespib. Now, I need to find information about its bioactivities, specifically related to cardiac fibrosis. I will use `get_compound_bioactivities_summary` with the ChEMBL ID CHEMBL252164.', 'tool_name_2': 'get_compound_bioactivities_summary', 'tool_args_2': {'chembl_id': 'CHEMBL252164'}, 'observation_2': 'Bioactivity summary for CHEMBL252164:\\n\\n• ADMET (CHEMBL612558): Stability = 31.0 %, T1/2 = 15.0 hr, CL = 2.00e-02 L/hr, Drug uptake = 6.8 uM, AUC = 16760 ng.hr.mL-1, Cmax_tumor = 6.0 uM, Vz = 0.4 l\\n\\n• Mus musculus (CHEMBL375): MTD = 50.0 mg kg-1, Cmax = 385.4 nM, Activity = 10.0 %, CL/F = 3.50e-02 L/hr, T1/2 = 9.5 hr, Tmax = 1.0 hr, Vdss = 0.5 l, AUC = 800.8 ng.hr.mL-1, LBF = 108.0 ml/hr\\n\\n• Plasma (CHEMBL613589): Cmax = 49000 nM, T1/2 = 1.0 hr, AUC = 6983 ng.hr.mL-1, CL = 8.20e-02 L/hr, Vz = 0.9 l\\n\\n• Heat shock protein HSP 90-beta (CHEMBL4303): Ki = 6.40e-02 nM, IC50 = 7.0 nM\\n\\n• HCT-116 (CHEMBL394): GI = 50.0 %, Inhibition = 49.8 %, GI50 = 16.0 nM\\n(Showing top 5 of 14 targets with activity data)'},\n",
      "    reasoning=\"The user is asking to predict the efficacy of Luminespib for reversing cardiac fibrosis. I have searched for Luminespib and found its ChEMBL ID (CHEMBL252164). I have also retrieved its physicochemical properties and a summary of its bioactivities.\\n\\nLuminespib is an HSP90 inhibitor. HSP90 is a molecular chaperone that plays a role in the stability and function of many client proteins, including those involved in cell survival, proliferation, and stress response. While HSP90 inhibitors have been investigated for their anti-cancer properties, their role in cardiac fibrosis is not directly established by the provided bioactivity data. The bioactivity summary shows that Luminespib inhibits Heat shock protein HSP 90-beta with a Ki of 0.064 nM and IC50 of 7.0 nM. It also shows anti-proliferative activity against HCT-116 cells. However, there is no direct experimental evidence in the provided data linking Luminespib to the reversal of cardiac fibrosis. The ADMET and in vivo data for Mus musculus and Plasma are related to pharmacokinetics and toxicity, not directly to fibrosis reversal.\\n\\nGiven the lack of direct experimental evidence for Luminespib's efficacy in reversing cardiac fibrosis within the provided bioactivity summary, and without further specific preclinical data on its antifibrotic effects, it is not possible to confidently predict its efficacy. Therefore, I cannot provide a numerical prediction for efficacy or confidence.\",\n",
      "    predicted_efficacy=0.0,\n",
      "    confidence=0.1\n",
      ")\n"
     ]
    },
    {
     "data": {
      "text/html": [
       "\n",
       "<div>\n",
       "  <style scoped>\n",
       "  button {\n",
       "    border: none;\n",
       "    border-radius: 4px;\n",
       "    background-color: rgb(34, 114, 180);\n",
       "    font-family: -apple-system, \"system-ui\", \"Segoe UI\", Roboto, \"Helvetica Neue\", Arial;\n",
       "    font-size: 13px;\n",
       "    color: white;\n",
       "    margin-top: 8px;\n",
       "    margin-bottom: 8px;\n",
       "    padding: 8px 16px;\n",
       "    cursor: pointer;\n",
       "  }\n",
       "  button:hover {\n",
       "    background-color: rgb(66, 153, 224);\n",
       "  }\n",
       "  </style>\n",
       "  <button\n",
       "    onclick=\"\n",
       "        const display = this.nextElementSibling.style.display;\n",
       "        const isCollapsed = display === 'none';\n",
       "        this.nextElementSibling.style.display = isCollapsed ? null : 'none';\n",
       "\n",
       "        const verb = isCollapsed ? 'Collapse' : 'Expand';\n",
       "        this.innerText = `${verb} MLflow Trace`;\n",
       "    \"\n",
       "  >Collapse MLflow Trace</button>\n",
       "  <iframe\n",
       "    id=\"trace-renderer\"\n",
       "    style=\"width: 100%; height: 500px; border: none; resize: vertical;\"\n",
       "    src=\"http://127.0.0.1:5000/static-files/lib/notebook-trace-renderer/index.html?trace_id=941d39600e0240fe84a9993d7c3982e5&amp;experiment_id=1&amp;trace_id=18202932e9bc4e18aac02d53798cdc8d&amp;experiment_id=1&amp;trace_id=3f722276129b4b5d8c7ad26d808ccb74&amp;experiment_id=1&amp;trace_id=2eb06df48a694325967b29319fc55a38&amp;experiment_id=1&amp;trace_id=b4cf2ab80d074e3fb050f43c76f240a8&amp;experiment_id=1&amp;version=3.1.0\"\n",
       "  />\n",
       "</div>\n"
      ],
      "text/plain": [
       "[Trace(trace_id=941d39600e0240fe84a9993d7c3982e5), Trace(trace_id=18202932e9bc4e18aac02d53798cdc8d), Trace(trace_id=3f722276129b4b5d8c7ad26d808ccb74), Trace(trace_id=2eb06df48a694325967b29319fc55a38), Trace(trace_id=b4cf2ab80d074e3fb050f43c76f240a8)]"
      ]
     },
     "metadata": {},
     "output_type": "display_data"
    }
   ],
   "source": [
    "efficacy_agent = CFEfficacyAgent(max_iters=3)\n",
    "efficacy_results = efficacy_agent(compound_name=COMPOUND)\n",
    "print(efficacy_results)"
   ]
  },
  {
   "cell_type": "code",
   "execution_count": 4,
   "id": "6fa79321",
   "metadata": {},
   "outputs": [
    {
     "name": "stdout",
     "output_type": "stream",
     "text": [
      "Prediction(\n",
      "    trajectory={'thought_0': \"The user is asking to estimate the toxicity of the compound Luminespib. To do this, I need to find information about its safety and potential toxicity. I will start by searching for the compound's ChEMBL ID. If found, I will use it to retrieve safety information.\", 'tool_name_0': 'search_chembl_id', 'tool_args_0': {'query': 'Luminespib'}, 'observation_0': \"Found 2 compound(s) matching 'Luminespib': \\n - CHEMBL3137334 (LUMINESPIB MESYLATE)\\n - CHEMBL252164 (LUMINESPIB)\", 'thought_1': 'I have found two ChEMBL IDs for Luminespib. I should investigate both to ensure I have comprehensive information. I will start by getting the safety summary for the first ID, CHEMBL3137334.', 'tool_name_1': 'get_safety_summary', 'tool_args_1': {'cid': 'CHEMBL3137334'}, 'observation_1': 'No safety data available for CID CHEMBL3137334', 'thought_2': 'Since no safety data was found for CHEMBL3137334, I will now try to get the safety summary for the second ChEMBL ID, CHEMBL252164. If this also yields no results, I will broaden my search to PubChem to find toxicity information.', 'tool_name_2': 'get_safety_summary', 'tool_args_2': {'cid': 'CHEMBL252164'}, 'observation_2': 'No safety data available for CID CHEMBL252164'},\n",
      "    reasoning='I was unable to find any safety data for Luminespib in ChEMBL. Therefore, I cannot estimate the percent of remaining cells or provide a confidence score.',\n",
      "    percent_remaining_cells=0,\n",
      "    confidence=0.0\n",
      ")\n"
     ]
    },
    {
     "data": {
      "text/html": [
       "\n",
       "<div>\n",
       "  <style scoped>\n",
       "  button {\n",
       "    border: none;\n",
       "    border-radius: 4px;\n",
       "    background-color: rgb(34, 114, 180);\n",
       "    font-family: -apple-system, \"system-ui\", \"Segoe UI\", Roboto, \"Helvetica Neue\", Arial;\n",
       "    font-size: 13px;\n",
       "    color: white;\n",
       "    margin-top: 8px;\n",
       "    margin-bottom: 8px;\n",
       "    padding: 8px 16px;\n",
       "    cursor: pointer;\n",
       "  }\n",
       "  button:hover {\n",
       "    background-color: rgb(66, 153, 224);\n",
       "  }\n",
       "  </style>\n",
       "  <button\n",
       "    onclick=\"\n",
       "        const display = this.nextElementSibling.style.display;\n",
       "        const isCollapsed = display === 'none';\n",
       "        this.nextElementSibling.style.display = isCollapsed ? null : 'none';\n",
       "\n",
       "        const verb = isCollapsed ? 'Collapse' : 'Expand';\n",
       "        this.innerText = `${verb} MLflow Trace`;\n",
       "    \"\n",
       "  >Collapse MLflow Trace</button>\n",
       "  <iframe\n",
       "    id=\"trace-renderer\"\n",
       "    style=\"width: 100%; height: 500px; border: none; resize: vertical;\"\n",
       "    src=\"http://127.0.0.1:5000/static-files/lib/notebook-trace-renderer/index.html?trace_id=9a3380fbc9b9411c9b8beb627851c2ab&amp;experiment_id=1&amp;trace_id=fdbf28f6a19e41318892e71ac9479e58&amp;experiment_id=1&amp;trace_id=2df2754ced50466498126936863765a7&amp;experiment_id=1&amp;trace_id=d589ece22ea54d149f01c8ce2ac54f91&amp;experiment_id=1&amp;version=3.1.0\"\n",
       "  />\n",
       "</div>\n"
      ],
      "text/plain": [
       "[Trace(trace_id=9a3380fbc9b9411c9b8beb627851c2ab), Trace(trace_id=fdbf28f6a19e41318892e71ac9479e58), Trace(trace_id=2df2754ced50466498126936863765a7), Trace(trace_id=d589ece22ea54d149f01c8ce2ac54f91)]"
      ]
     },
     "metadata": {},
     "output_type": "display_data"
    }
   ],
   "source": [
    "tox_agent = ToxicityScreeningAgent(max_iters=3)\n",
    "tox_results = tox_agent(compound_name=COMPOUND)\n",
    "print(tox_results)"
   ]
  },
  {
   "cell_type": "code",
   "execution_count": 5,
   "id": "f0e62011",
   "metadata": {},
   "outputs": [
    {
     "name": "stdout",
     "output_type": "stream",
     "text": [
      "Prediction(\n",
      "    reasoning=\"The efficacy assessment indicates a lack of direct experimental evidence for Luminespib's antifibrotic effects. The toxicity assessment states that no safety data was found. Without any positive efficacy signals or safety information, Luminespib cannot be prioritized for cardiac fibrosis therapeutic development.\",\n",
      "    priority_score=0.0,\n",
      "    confidence=0.0\n",
      ")\n"
     ]
    },
    {
     "data": {
      "text/html": [
       "\n",
       "<div>\n",
       "  <style scoped>\n",
       "  button {\n",
       "    border: none;\n",
       "    border-radius: 4px;\n",
       "    background-color: rgb(34, 114, 180);\n",
       "    font-family: -apple-system, \"system-ui\", \"Segoe UI\", Roboto, \"Helvetica Neue\", Arial;\n",
       "    font-size: 13px;\n",
       "    color: white;\n",
       "    margin-top: 8px;\n",
       "    margin-bottom: 8px;\n",
       "    padding: 8px 16px;\n",
       "    cursor: pointer;\n",
       "  }\n",
       "  button:hover {\n",
       "    background-color: rgb(66, 153, 224);\n",
       "  }\n",
       "  </style>\n",
       "  <button\n",
       "    onclick=\"\n",
       "        const display = this.nextElementSibling.style.display;\n",
       "        const isCollapsed = display === 'none';\n",
       "        this.nextElementSibling.style.display = isCollapsed ? null : 'none';\n",
       "\n",
       "        const verb = isCollapsed ? 'Collapse' : 'Expand';\n",
       "        this.innerText = `${verb} MLflow Trace`;\n",
       "    \"\n",
       "  >Collapse MLflow Trace</button>\n",
       "  <iframe\n",
       "    id=\"trace-renderer\"\n",
       "    style=\"width: 100%; height: 500px; border: none; resize: vertical;\"\n",
       "    src=\"http://127.0.0.1:5000/static-files/lib/notebook-trace-renderer/index.html?trace_id=51adc6056e4d4f528173efdfde82ab20&amp;experiment_id=1&amp;trace_id=34241c3d892d4751ad0e44e49d92f378&amp;experiment_id=1&amp;trace_id=33a8c7ce5a334738af09d3abc77b3c8c&amp;experiment_id=1&amp;version=3.1.0\"\n",
       "  />\n",
       "</div>\n"
      ],
      "text/plain": [
       "[Trace(trace_id=51adc6056e4d4f528173efdfde82ab20), Trace(trace_id=34241c3d892d4751ad0e44e49d92f378), Trace(trace_id=33a8c7ce5a334738af09d3abc77b3c8c)]"
      ]
     },
     "metadata": {},
     "output_type": "display_data"
    }
   ],
   "source": [
    "prioritization_agent = CompoundPrioritizationAgent()\n",
    "prioritization_results = prioritization_agent(compound_name=COMPOUND)\n",
    "print(prioritization_results)"
   ]
  }
 ],
 "metadata": {
  "kernelspec": {
   "display_name": "Python (cf-compound-selection-backend)",
   "language": "python",
   "name": "cf-compound-selection-backend"
  },
  "language_info": {
   "codemirror_mode": {
    "name": "ipython",
    "version": 3
   },
   "file_extension": ".py",
   "mimetype": "text/x-python",
   "name": "python",
   "nbconvert_exporter": "python",
   "pygments_lexer": "ipython3",
   "version": "3.12.4"
  }
 },
 "nbformat": 4,
 "nbformat_minor": 5
}
