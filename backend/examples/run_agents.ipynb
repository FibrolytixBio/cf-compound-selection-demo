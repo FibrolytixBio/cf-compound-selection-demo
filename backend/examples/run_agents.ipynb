{
 "cells": [
  {
   "cell_type": "code",
   "execution_count": 1,
   "id": "ee547c89",
   "metadata": {},
   "outputs": [],
   "source": [
    "from dotenv import load_dotenv\n",
    "import dspy\n",
    "import mlflow\n",
    "\n",
    "from agentic_system.agents import (\n",
    "    CFEfficacyAgent,\n",
    "    ToxicityScreeningAgent,\n",
    "    CompoundPrioritizationAgent,\n",
    ")"
   ]
  },
  {
   "cell_type": "code",
   "execution_count": null,
   "id": "98b67deb",
   "metadata": {},
   "outputs": [
    {
     "name": "stderr",
     "output_type": "stream",
     "text": [
      "2025/09/15 14:26:14 INFO mlflow.tracking.fluent: Autologging successfully enabled for dspy.\n",
      "2025/09/15 14:26:14 INFO mlflow.tracking.fluent: Autologging successfully enabled for litellm.\n",
      "2025/09/15 14:26:14 INFO mlflow.tracking.fluent: Autologging successfully enabled for openai.\n"
     ]
    }
   ],
   "source": [
    "# NOTE: Start MLflow server with:\n",
    "# mlflow server --backend-store-uri sqlite:///mydb.sqlite\n",
    "# Tell MLflow about the server URI.\n",
    "mlflow.set_tracking_uri(\"http://127.0.0.1:5000\")\n",
    "# Create a unique name for your experiment.\n",
    "mlflow.set_experiment(\"Optimize Efficacy Tools\")\n",
    "mlflow.autolog()\n",
    "mlflow.tracing.disable_notebook_display()\n",
    "\n",
    "load_dotenv(\"../.env\")\n",
    "dspy.configure(\n",
    "    lm=dspy.LM(\"gemini/gemini-2.5-pro\", temperature=0.5, cache=True, rollout_id=1)\n",
    ")\n",
    "\n",
    "COMPOUND = \"Luminespib\""
   ]
  },
  {
   "cell_type": "code",
   "execution_count": null,
   "id": "739d2286",
   "metadata": {},
   "outputs": [
    {
     "name": "stdout",
     "output_type": "stream",
     "text": [
      "Prediction(\n",
      "    trajectory={'thought_0': \"The user wants to estimate the efficacy of Luminespib in reversing the activated cardiac fibroblast phenotype. The provided assay details describe a specific in vitro experiment. To assess efficacy, I need to find any existing preclinical data on Luminespib's effects on cardiac fibroblasts or fibrosis. I will start by searching for Luminespib in ChEMBL to get its ChEMBL ID, which can then be used to retrieve more detailed information.\", 'tool_name_0': 'CHEMBL__search_chembl_id', 'tool_args_0': {'query': 'Luminespib'}, 'observation_0': \"Found 2 compound(s) matching 'Luminespib': \\n - CHEMBL3137334 (LUMINESPIB MESYLATE)\\n - CHEMBL252164 (LUMINESPIB)\", 'thought_1': 'I have found two ChEMBL IDs for Luminespib: CHEMBL3137334 and CHEMBL252164. I should investigate both to gather comprehensive information. I will start by getting the compound properties for CHEMBL252164, as it is the more general identifier.', 'tool_name_1': 'CHEMBL__get_compound_properties', 'tool_args_1': {'chembl_id': 'CHEMBL252164'}, 'observation_1': \"Properties of CHEMBL252164:. molecular weight 465.6 Da. ALogP 4.13 (lipophilic). TPSA 108.1 Ų (moderate permeability expected). 3 H-bond donors and 7 H-bond acceptors. 7 rotatable bonds (flexible). compliant with Lipinski's Rule of Five. classified as Small molecule.\", 'thought_2': \"I have retrieved the properties for CHEMBL252164. Now I will retrieve the properties for CHEMBL3137334 to see if there's any significant difference.\", 'tool_name_2': 'CHEMBL__get_compound_properties', 'tool_args_2': {'chembl_id': 'CHEMBL3137334'}, 'observation_2': \"Properties of CHEMBL3137334:. molecular weight 465.6 Da. ALogP 4.13 (lipophilic). TPSA 108.1 Ų (moderate permeability expected). 3 H-bond donors and 7 H-bond acceptors. 7 rotatable bonds (flexible). compliant with Lipinski's Rule of Five. classified as Small molecule.\"},\n",
      "    reasoning=\"The user is asking for the efficacy of Luminespib in reversing activated cardiac fibroblast phenotype. I have searched for Luminespib in ChEMBL and found two entries: CHEMBL3137334 (LUMINESPIB MESYLATE) and CHEMBL252164 (LUMINESPIB). I then retrieved the compound properties for both. The properties are identical for both entries, indicating they refer to the same compound (Luminespib) with and without the mesylate salt. However, the ChEMBL search did not yield any direct information regarding Luminespib's efficacy in cardiac fibroblasts or fibrosis. Luminespib is known as an HSP90 inhibitor. While HSP90 plays a role in various cellular processes, including stress response and protein folding, there is no readily available preclinical data linking Luminespib specifically to the reversal of activated cardiac fibroblast phenotype or cardiac fibrosis. Without direct evidence from the literature or databases on its effect in this specific context, predicting a precise efficacy value is not possible. Therefore, I will assign a low predicted efficacy and low confidence.\",\n",
      "    predicted_efficacy=0.1,\n",
      "    confidence=0.1\n",
      ")\n"
     ]
    }
   ],
   "source": [
    "efficacy_agent = CFEfficacyAgent(max_iters=12)\n",
    "# efficacy_agent.agent.react.signature = efficacy_agent.agent.react.signature.insert(\n",
    "#     0,\n",
    "#     \"tool_expected_info\",\n",
    "#     dspy.OutputField(\n",
    "#         desc=\"TRUE or FALSE: <more info>. If FALSE, describe what information (ex databases, literature, etc) was desired from tool. Do not say FALSE if tool did not return any information (ex due to no information available), only say FALSE if tool returned information that was not useful or other information was desired from this tool call.\\n\\n\"\n",
    "#     ),\n",
    "#     type_=str,\n",
    "# )\n",
    "efficacy_results = efficacy_agent(compound_name=COMPOUND)\n",
    "print(efficacy_results)"
   ]
  },
  {
   "cell_type": "code",
   "execution_count": null,
   "id": "6fa79321",
   "metadata": {},
   "outputs": [],
   "source": [
    "# tox_agent = ToxicityScreeningAgent(max_iters=12)\n",
    "# tox_results = tox_agent(compound_name=COMPOUND)\n",
    "# print(tox_results)"
   ]
  },
  {
   "cell_type": "code",
   "execution_count": null,
   "id": "f0e62011",
   "metadata": {},
   "outputs": [],
   "source": [
    "# prioritization_agent = CompoundPrioritizationAgent()\n",
    "# prioritization_results = prioritization_agent(compound_name=COMPOUND)\n",
    "# print(prioritization_results)"
   ]
  }
 ],
 "metadata": {
  "kernelspec": {
   "display_name": "Python (cf-compound-selection-backend)",
   "language": "python",
   "name": "cf-compound-selection-backend"
  },
  "language_info": {
   "codemirror_mode": {
    "name": "ipython",
    "version": 3
   },
   "file_extension": ".py",
   "mimetype": "text/x-python",
   "name": "python",
   "nbconvert_exporter": "python",
   "pygments_lexer": "ipython3",
   "version": "3.12.4"
  }
 },
 "nbformat": 4,
 "nbformat_minor": 5
}
