{
 "cells": [
  {
   "cell_type": "code",
   "execution_count": 1,
   "id": "ee547c89",
   "metadata": {},
   "outputs": [],
   "source": [
    "from dotenv import load_dotenv\n",
    "import dspy\n",
    "import mlflow\n",
    "\n",
    "from agentic_system.agents import (\n",
    "    CFEfficacyAgent,\n",
    "    ToxicityScreeningAgent,\n",
    "    CompoundPrioritizationAgent,\n",
    ")"
   ]
  },
  {
   "cell_type": "code",
   "execution_count": 2,
   "id": "98b67deb",
   "metadata": {},
   "outputs": [
    {
     "name": "stderr",
     "output_type": "stream",
     "text": [
      "2025/09/15 17:20:30 INFO mlflow.tracking.fluent: Autologging successfully enabled for dspy.\n",
      "2025/09/15 17:20:30 INFO mlflow.tracking.fluent: Autologging successfully enabled for litellm.\n",
      "2025/09/15 17:20:30 INFO mlflow.tracking.fluent: Autologging successfully enabled for openai.\n"
     ]
    }
   ],
   "source": [
    "# NOTE: Start MLflow server with:\n",
    "# mlflow server --backend-store-uri sqlite:///mydb.sqlite\n",
    "# Tell MLflow about the server URI.\n",
    "mlflow.set_tracking_uri(\"http://127.0.0.1:5000\")\n",
    "# Create a unique name for your experiment.\n",
    "mlflow.set_experiment(\"Optimize Efficacy Tools\")\n",
    "mlflow.autolog()\n",
    "mlflow.tracing.disable_notebook_display()\n",
    "\n",
    "load_dotenv(\"../.env\")\n",
    "dspy.configure(\n",
    "    lm=dspy.LM(\"gemini/gemini-2.5-pro\", temperature=0.5, cache=False, rollout_id=1)\n",
    ")\n",
    "\n",
    "COMPOUND = \"Luminespib\""
   ]
  },
  {
   "cell_type": "code",
   "execution_count": 3,
   "id": "739d2286",
   "metadata": {},
   "outputs": [
    {
     "name": "stdout",
     "output_type": "stream",
     "text": [
      "Prediction(\n",
      "    trajectory={'thought_0': \"I need to determine the efficacy of Luminespib in a cardiac fibroblast assay. First, I need to identify the compound and its properties. I will start by searching for its ChEMBL ID to gather more information about its mechanism of action and bioactivities. This will help me understand if it's likely to have an effect on fibroblast activation.\", 'tool_name_0': 'CHEMBL__search_chembl_id', 'tool_args_0': {'query': 'Luminespib'}, 'observation_0': '- **Compound Name:** Luminespib\\n- **ChEMBL IDs:** CHEMBL3137334 (LUMINESPIB MESYLATE), CHEMBL252164 (LUMINESPIB)\\n- **Summary:** Two forms of Luminespib were identified in the search.', 'thought_1': 'I have identified two ChEMBL IDs for Luminespib. I will use the base compound ID, CHEMBL252164, to investigate its mechanism of action. Understanding the mechanism is crucial for predicting its effect on cardiac fibroblast activation.', 'tool_name_1': 'CHEMBL__get_mechanisms_of_action', 'tool_args_1': {'chembl_id': 'CHEMBL252164'}, 'observation_1': 'The compound is a Heat shock protein HSP90 inhibitor (MEC ID: 8719, ChEMBL ID: CHEMBL252164). It has shown efficacy in disease treatment and has reached a maximum clinical trial phase of 2. The mechanism of action is supported by the reference PubMed ID 32796651.', 'thought_2': 'I have confirmed that Luminespib is an HSP90 inhibitor. HSP90 is a chaperone for many proteins, including some involved in profibrotic signaling pathways. Therefore, inhibiting HSP90 could potentially reverse the activated fibroblast phenotype. To further support this hypothesis, I will now retrieve the bioactivity data for Luminespib to understand its potency and the range of targets it affects. This will help me assess whether its activity is consistent with an anti-fibrotic effect.', 'tool_name_2': 'CHEMBL__get_compound_bioactivities', 'tool_args_2': {'chembl_id': 'CHEMBL252164', 'max_results': 20}, 'observation_2': 'Molecule: LUMINESPIB (CHEMBL252164)\\nPublication: J Med Chem (CHEMBL1140693, 2008)\\n- Target: Heat shock protein HSP90 (CHEMBL2095165), Homo sapiens\\n  - Assay: Displacement of fluorescent labelled VER-00051001 from human Hsp90-beta by FP assay (CHEMBL943064)\\n  - Type: IC50, Value: 21.0 nM, pChEMBL: 7.68\\nPublication: J Med Chem (CHEMBL1140693, 2008)\\n- Target: HCT-116 (CHEMBL394), Homo sapiens\\n  - Assay: Growth inhibition of human HCT116 cells after 24 hrs by SRB assay (CHEMBL943065)\\n  - Type: GI50, Value: 16.0 nM\\nPublication: J Med Chem (CHEMBL1140693, 2008)\\n- Target: DU-145 (CHEMBL613508), Homo sapiens\\n  - Assay: Growth inhibition of human DU145 cells by SRB assay (CHEMBL943072)\\n  - Type: GI50, Value: 5.0 nM\\nPublication: J Med Chem (CHEMBL1140693, 2008)\\n- Target: NON-PROTEIN TARGET (CHEMBL3879801), None\\n  - Assay: Growth inhibition of human PC3M cells by SRB assay (CHEMBL943073)\\n  - Type: GI50, Value: 6.0 nM\\nPublication: J Med Chem (CHEMBL1140693, 2008)\\n- Target: SK-MEL-28 (CHEMBL614919), Homo sapiens\\n  - Assay: Growth inhibition of human SKMel28 cells by SRB assay (CHEMBL943074)\\n  - Type: GI50, Value: 5.0 nM\\nPublication: J Med Chem (CHEMBL1140693, 2008)\\n- Target: SF-268 (CHEMBL613977), Homo sapiens\\n  - Assay: Growth inhibition of human SF268 cells by SRB assay (CHEMBL943075)\\n  - Type: GI50, Value: 6.0 nM\\nPublication: J Med Chem (CHEMBL1140693, 2008)\\n- Target: NON-PROTEIN TARGET (CHEMBL3879801), None\\n  - Assay: Growth inhibition of human U87MG cells by SRB assay (CHEMBL943076)\\n  - Type: GI50, Value: 8.0 nM\\nPublication: J Med Chem (CHEMBL1140693, 2008)\\n- Target: Mus musculus (CHEMBL375)\\n  - Assay: Cmax in human HCT116 cells bearing NCr athymic mouse at 4 mg/kg, cassette dosing (CHEMBL943067)\\n  - Type: Cmax, Value: 385.4 nM\\n  - Assay: AUClast in human HCT116 cells bearing NCr athymic mouse at 4 mg/kg, cassette dosing (CHEMBL943068)\\n  - Type: AUC, Value: 800.75 ng.hr.mL-1\\n  - Assay: Terminal half life in human HCT116 cells bearing NCr athymic mouse at 4 mg/kg, cassette dosing (CHEMBL943069)\\n  - Type: T1/2, Value: 9.5 hr\\n  - Assay: Apparent pseudo steady-state volume of distribution in human HCT116 cells bearing NCr athymic mouse at 4 mg/kg, cassette dosing (CHEMBL943070)\\n  - Type: Vdss, Value: 0.478 L\\n  - Assay: Apparent clearance in in human HCT116 cells bearing NCr athymic mouse at 4 mg/kg, cassette dosing (CHEMBL943071)\\n  - Type: CL/F, Value: 0.035 L/hr\\n  - Assay: Tmax in human HCT116 cells bearing NCr athymic mouse at 4 mg/kg, cassette dosing (CHEMBL943066)\\n  - Type: Tmax, Value: 1.0 hr\\n  - Assay: Inhibition of tumor growth in human HCT116 cells bearing mouse assessed as tumor weight at 50 mg/kg, ip qd after 12 days relative to control (CHEMBL943077)\\n  - Type: Inhibition, Value: 49.8 %\\nPublication: Bioorg Med Chem (CHEMBL1154504, 2009)\\n- Target: HCT-116 (CHEMBL394), Homo sapiens\\n  - Assay: Antiproliferative against human HCT116 cells (CHEMBL1020371)\\n  - Type: GI50, Value: 16.0 nM\\n- Target: HCT-116 (CHEMBL394), Homo sapiens\\n  - Assay: Antitumor activity in human HCT116 cells xenografted mouse assessed as inhibition of tumor growth at 50 mg/kg, ip (CHEMBL1023069)\\n  - Type: GI, Value: 50.0 %\\nPublication: J Med Chem (CHEMBL1154885, 2010)\\n- Target: Plasma (CHEMBL613589), Mus musculus\\n  - Assay: Apparent volume of distribution in plasma of mouse bearing human WM266.4 cells at 50 mg/kg, iv (CHEMBL1100292)\\n  - Type: Vz, Value: 0.875 L\\n- Target: ADMET (CHEMBL612558), None\\n  - Assay: Half life in tumor of mouse bearing human WM266.4 cells at 50 mg/kg, ip (CHEMBL1101111)\\n  - Type: T1/2, Value: 15.0 hr\\n- Target: Mus musculus (CHEMBL375)\\n  - Assay: Toxicity in mouse assessed as body weight loss at 70 mg/kg, ip after 8 days (CHEMBL1101115)\\n  - Type: Activity, Value: 10.0 %\\n- Target: Plasma (CHEMBL613589), Mus musculus\\n  - Assay: Half life in plasma of mouse bearing human WM266.4 cells at 50 mg/kg, ip (CHEMBL1101110)\\n  - Type: T1/2, Value: 1.0 hr', 'thought_3': \"I have gathered sufficient information to make a prediction. Luminespib is a potent HSP90 inhibitor with an IC50 of 21 nM. The assay is conducted at 10 µM, which is approximately 500 times the IC50, ensuring complete target engagement. HSP90 is a critical chaperone for numerous proteins involved in pro-fibrotic signaling pathways, such as TGF-beta receptors and downstream kinases. Inhibiting HSP90 is known to destabilize these client proteins, leading to their degradation and the subsequent attenuation of fibrotic responses. The observed potent anti-proliferative activity (GI50 in the low nM range) in various cell lines is consistent with the disruption of these signaling pathways. Given the strong biological rationale for HSP90 inhibition as an anti-fibrotic mechanism and the high concentration used in the assay relative to the compound's potency, I predict that Luminespib will be highly effective at reversing the activated cardiac fibroblast phenotype. Therefore, I can now finalize my assessment.\", 'tool_name_3': 'finish', 'tool_args_3': {}, 'observation_3': 'Completed.'},\n",
      "    reasoning='Luminespib is a potent and well-characterized inhibitor of Heat Shock Protein 90 (HSP90), with a reported IC50 of 21 nM against the human protein. The in vitro assay is conducted at a concentration of 10 µM, which is nearly 500-fold higher than the IC50, ensuring complete and sustained target engagement. HSP90 is a critical molecular chaperone responsible for the stability and function of a wide array of \"client\" proteins. Crucially, many of these client proteins are key signaling nodes in pro-fibrotic pathways, including components of the TGF-β signaling cascade (e.g., TGF-β receptors, Smad proteins) and other kinases that promote fibroblast activation, proliferation, and extracellular matrix deposition. By inhibiting HSP90, Luminespib is expected to destabilize these client proteins, leading to their degradation and a potent disruption of the signaling networks that maintain the activated fibroblast phenotype. This strong, well-established biological mechanism of action directly linked to fibroblast activation pathways suggests a high likelihood of reversing the failing/activated phenotype towards a nonfailing/quiescent-like state in the assay.',\n",
      "    predicted_efficacy=0.92,\n",
      "    confidence=0.88\n",
      ")\n"
     ]
    }
   ],
   "source": [
    "efficacy_agent = CFEfficacyAgent(max_iters=12)\n",
    "# efficacy_agent.agent.react.signature = efficacy_agent.agent.react.signature.insert(\n",
    "#     0,\n",
    "#     \"tool_expected_info\",\n",
    "#     dspy.OutputField(\n",
    "#         desc=\"TRUE or FALSE: <more info>. If FALSE, describe what information (ex databases, literature, etc) was desired from tool. Do not say FALSE if tool did not return any information (ex due to no information available), only say FALSE if tool returned information that was not useful or other information was desired from this tool call.\\n\\n\"\n",
    "#     ),\n",
    "#     type_=str,\n",
    "# )\n",
    "efficacy_results = efficacy_agent(compound_name=COMPOUND)\n",
    "print(efficacy_results)"
   ]
  },
  {
   "cell_type": "code",
   "execution_count": null,
   "id": "6fa79321",
   "metadata": {},
   "outputs": [],
   "source": [
    "# tox_agent = ToxicityScreeningAgent(max_iters=12)\n",
    "# tox_results = tox_agent(compound_name=COMPOUND)\n",
    "# print(tox_results)"
   ]
  },
  {
   "cell_type": "code",
   "execution_count": null,
   "id": "f0e62011",
   "metadata": {},
   "outputs": [],
   "source": [
    "# prioritization_agent = CompoundPrioritizationAgent()\n",
    "# prioritization_results = prioritization_agent(compound_name=COMPOUND)\n",
    "# print(prioritization_results)"
   ]
  }
 ],
 "metadata": {
  "kernelspec": {
   "display_name": "Python (cf-compound-selection-backend)",
   "language": "python",
   "name": "cf-compound-selection-backend"
  },
  "language_info": {
   "codemirror_mode": {
    "name": "ipython",
    "version": 3
   },
   "file_extension": ".py",
   "mimetype": "text/x-python",
   "name": "python",
   "nbconvert_exporter": "python",
   "pygments_lexer": "ipython3",
   "version": "3.12.4"
  }
 },
 "nbformat": 4,
 "nbformat_minor": 5
}
