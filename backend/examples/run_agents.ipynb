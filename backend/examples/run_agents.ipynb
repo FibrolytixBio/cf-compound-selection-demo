{
 "cells": [
  {
   "cell_type": "code",
   "execution_count": 1,
   "id": "ee547c89",
   "metadata": {},
   "outputs": [],
   "source": [
    "from dotenv import load_dotenv\n",
    "import dspy\n",
    "import mlflow\n",
    "\n",
    "from agentic_system.agents import (\n",
    "    CFEfficacyAgent,\n",
    "    ToxicityScreeningAgent,\n",
    "    CompoundPrioritizationAgent,\n",
    ")"
   ]
  },
  {
   "cell_type": "code",
   "execution_count": 2,
   "id": "98b67deb",
   "metadata": {},
   "outputs": [
    {
     "name": "stderr",
     "output_type": "stream",
     "text": [
      "2025/09/17 16:12:39 INFO mlflow.tracking.fluent: Autologging successfully enabled for dspy.\n",
      "2025/09/17 16:12:39 INFO mlflow.tracking.fluent: Autologging successfully enabled for litellm.\n",
      "2025/09/17 16:12:39 INFO mlflow.tracking.fluent: Autologging successfully enabled for openai.\n"
     ]
    }
   ],
   "source": [
    "# NOTE: Start MLflow server with:\n",
    "# mlflow server --backend-store-uri sqlite:///mydb.sqlite\n",
    "# Tell MLflow about the server URI.\n",
    "mlflow.set_tracking_uri(\"http://127.0.0.1:5000\")\n",
    "# Create a unique name for your experiment.\n",
    "mlflow.set_experiment(\"Optimize Efficacy Tools\")\n",
    "mlflow.autolog()\n",
    "mlflow.tracing.disable_notebook_display()\n",
    "\n",
    "load_dotenv(\"../.env\")\n",
    "lm = dspy.LM(\"gemini/gemini-2.5-pro\", temperature=0.9, cache=False)\n",
    "dspy.settings.configure(lm=lm, track_usage=True)"
   ]
  },
  {
   "cell_type": "code",
   "execution_count": 3,
   "id": "c809ccfa",
   "metadata": {},
   "outputs": [
    {
     "name": "stdout",
     "output_type": "stream",
     "text": [
      "Prediction(\n",
      "    trajectory={'thought_0': \"I need to determine the efficacy of SU11274 in a cardiac fibroblast assay. To do this, I will first identify the compound's mechanism of action and its primary targets. Then, I will investigate the role of these targets in cardiac fibroblast biology and heart failure. This information will allow me to predict the compound's effect on the failing fibroblast phenotype. I will start by finding the ChEMBL ID for SU11274.\", 'tool_name_0': 'CHEMBL__search_chembl_id', 'tool_args_0': {'query': 'SU11274', 'goal': 'Find the ChEMBL ID for the compound SU11274.'}, 'observation_0': 'The ChEMBL ID for SU11274 is CHEMBL261641.', 'thought_1': 'Now that I have the ChEMBL ID for SU11274 (CHEMBL261641), I will investigate its mechanism of action to understand its biological targets. This will be the first step in assessing its potential to reverse the failing cardiac fibroblast phenotype.', 'tool_name_1': 'CHEMBL__get_mechanisms_of_action', 'tool_args_1': {'chembl_id': 'CHEMBL261641', 'goal': 'Get the mechanism of action for SU11274 to identify its biological targets.'}, 'observation_1': 'No relevant information found.', 'thought_2': \"Since I couldn't find a curated mechanism of action for SU11274 in ChEMBL, I will now look at its reported bioactivities. This will give me a broader view of its biological targets and their potencies, which is crucial for understanding how it might affect cardiac fibroblasts.\", 'tool_name_2': 'CHEMBL__get_compound_bioactivities', 'tool_args_2': {'chembl_id': 'CHEMBL261641', 'goal': 'Retrieve the bioactivity data for SU11274 to identify its primary biological targets and their potencies.'}, 'observation_2': 'SU11274 is a potent inhibitor of Hepatocyte growth factor receptor (Met) with an IC50 of 20.0 nM (CHEMBL261641, CHEMBL3717) (Proc Natl Acad Sci U S A, 2007). It exhibits selectivity for Met over Flk, PDGFRb, Ron, FGFR1, c-Src, Cdk2, EGFR, and Tie2, with selectivity ratios greater than 60.0, 400.0, 400.0, 400.0, 400.0, 400.0, 400.0, and 400.0, respectively (Proc Natl Acad Sci U S A, 2007).', 'thought_3': 'I have identified that SU11274 is a potent and selective inhibitor of the Hepatocyte growth factor receptor (Met). To predict its efficacy in reversing the failing cardiac fibroblast phenotype, I need to understand the role of Met signaling in cardiac fibroblasts, particularly in the context of heart failure. A web search will be the most effective way to gather this information.', 'tool_name_3': 'SEARCH__search_web', 'tool_args_3': {'query': 'role of HGF/c-Met signaling in cardiac fibroblasts and heart failure', 'goal': 'Investigate the function of the HGF/c-Met signaling pathway in cardiac fibroblasts and its involvement in heart failure to determine if its inhibition by SU11274 would be beneficial.'}, 'observation_3': 'The HGF/c-Met signaling pathway plays a role in cardiac fibroblasts and cardiovascular health. In cardiac fibroblasts, HGF activates the c-Met-Akt-TGIF signaling pathway, which inhibits their function (1, 5). This pathway is also involved in myocardial regeneration (4). In myocardial infarction models, activation of HGF/c-Met signaling enhances cardiomyocyte survival and reduces infarct size (2). Furthermore, HGF/Met signaling in cardiomyocytes is crucial for normal cardiac development and function, acting as an endogenous regulator of heart function through oxidative stress control, and plays a cardio-protective role in adult mice (3).', 'thought_4': 'The web search results indicate that activation of HGF/c-Met signaling is generally cardioprotective and *inhibits* the function of cardiac fibroblasts. SU11274 is a potent inhibitor of c-Met. Therefore, inhibiting this pathway with SU11274 would likely be detrimental and would not reverse the failing cardiac fibroblast phenotype. In fact, it would likely exacerbate it. This leads me to predict a very low efficacy for this compound in the assay. I have sufficient information to make a final conclusion.', 'tool_name_4': 'finish', 'tool_args_4': {}, 'observation_4': 'Completed.'},\n",
      "    reasoning='SU11274 is a potent and selective inhibitor of the Hepatocyte growth factor receptor (Met/c-Met), with a reported IC50 of 20 nM. The signaling pathway initiated by the binding of Hepatocyte Growth Factor (HGF) to its receptor, c-Met, is known to be cardioprotective and has anti-fibrotic effects. Specifically in cardiac fibroblasts, activation of the HGF/c-Met pathway has been shown to inhibit their function. Since the goal of the assay is to reverse the \"failing\" phenotype (which is characterized by hyperactivity) to a more quiescent, \"nonfailing\" state, a compound that activates this pathway would be expected to be efficacious. However, SU11274 is an inhibitor of this pathway. By blocking the protective and anti-fibrotic HGF/c-Met signaling, SU11274 is expected to be ineffective or potentially even detrimental, preventing the fibroblasts from reverting to a nonfailing state. Therefore, it is predicted to have very low efficacy.',\n",
      "    predicted_efficacy=0.02,\n",
      "    confidence=0.9\n",
      ")\n"
     ]
    }
   ],
   "source": [
    "COMPOUND = \"SU11274\"\n",
    "\n",
    "efficacy_agent = CFEfficacyAgent()\n",
    "efficacy_results = efficacy_agent(compound_name=COMPOUND)\n",
    "print(efficacy_results)"
   ]
  },
  {
   "cell_type": "code",
   "execution_count": 6,
   "id": "d445d3b9",
   "metadata": {},
   "outputs": [
    {
     "name": "stdout",
     "output_type": "stream",
     "text": [
      "Steps: 5\n",
      "Total Cost (USD): 0.08049500000000001\n"
     ]
    }
   ],
   "source": [
    "steps = len(efficacy_results.trajectory) // 4\n",
    "cost = sum([x[\"cost\"] for x in lm.history])\n",
    "\n",
    "print(\"Steps:\", steps)\n",
    "print(\"Total Cost (USD):\", cost)"
   ]
  },
  {
   "cell_type": "code",
   "execution_count": 6,
   "id": "6fa79321",
   "metadata": {},
   "outputs": [],
   "source": [
    "# tox_agent = ToxicityScreeningAgent(max_iters=12)\n",
    "# tox_results = tox_agent(compound_name=COMPOUND)\n",
    "# print(tox_results)"
   ]
  },
  {
   "cell_type": "code",
   "execution_count": 7,
   "id": "f0e62011",
   "metadata": {},
   "outputs": [],
   "source": [
    "# prioritization_agent = CompoundPrioritizationAgent()\n",
    "# prioritization_results = prioritization_agent(compound_name=COMPOUND)\n",
    "# print(prioritization_results)"
   ]
  }
 ],
 "metadata": {
  "kernelspec": {
   "display_name": "Python (cf-compound-selection-backend)",
   "language": "python",
   "name": "cf-compound-selection-backend"
  },
  "language_info": {
   "codemirror_mode": {
    "name": "ipython",
    "version": 3
   },
   "file_extension": ".py",
   "mimetype": "text/x-python",
   "name": "python",
   "nbconvert_exporter": "python",
   "pygments_lexer": "ipython3",
   "version": "3.12.4"
  }
 },
 "nbformat": 4,
 "nbformat_minor": 5
}
