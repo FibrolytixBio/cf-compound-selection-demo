{
 "cells": [
  {
   "cell_type": "code",
   "execution_count": 6,
   "id": "ee547c89",
   "metadata": {},
   "outputs": [],
   "source": [
    "from dotenv import load_dotenv\n",
    "import dspy\n",
    "import mlflow\n",
    "\n",
    "from agentic_system.agents import (\n",
    "    CFEfficacyAgent,\n",
    "    ToxicityScreeningAgent,\n",
    "    CompoundPrioritizationAgent,\n",
    ")"
   ]
  },
  {
   "cell_type": "code",
   "execution_count": 7,
   "id": "98b67deb",
   "metadata": {},
   "outputs": [
    {
     "name": "stderr",
     "output_type": "stream",
     "text": [
      "2025/09/15 13:43:33 INFO mlflow.tracking.fluent: Autologging successfully enabled for dspy.\n",
      "2025/09/15 13:43:33 INFO mlflow.tracking.fluent: Autologging successfully enabled for litellm.\n",
      "2025/09/15 13:43:33 INFO mlflow.tracking.fluent: Autologging successfully enabled for openai.\n"
     ]
    }
   ],
   "source": [
    "# NOTE: Start MLflow server with:\n",
    "# mlflow server --backend-store-uri sqlite:///mydb.sqlite\n",
    "# Tell MLflow about the server URI.\n",
    "mlflow.set_tracking_uri(\"http://127.0.0.1:5000\")\n",
    "# Create a unique name for your experiment.\n",
    "mlflow.set_experiment(\"Optimize Efficacy Tools\")\n",
    "mlflow.autolog()\n",
    "mlflow.tracing.disable_notebook_display()\n",
    "\n",
    "load_dotenv(\"../.env\")\n",
    "dspy.configure(\n",
    "    lm=dspy.LM(\"gemini/gemini-2.5-pro\", temperature=0.5, cache=True, rollout_id=1)\n",
    ")\n",
    "\n",
    "COMPOUND = \"Luminespib\""
   ]
  },
  {
   "cell_type": "code",
   "execution_count": 8,
   "id": "739d2286",
   "metadata": {},
   "outputs": [
    {
     "name": "stdout",
     "output_type": "stream",
     "text": [
      "Prediction(\n",
      "    trajectory={'thought_0': \"The first step is to identify the compound 'Luminespib' in the ChEMBL database to retrieve its unique identifier. This ID will be crucial for subsequent queries to gather information on its bioactivity, properties, and potential relevance to cardiac fibrosis.\", 'tool_name_0': 'search_chembl_id', 'tool_args_0': {'query': 'Luminespib'}, 'observation_0': \"Found 2 compound(s) matching 'Luminespib': \\n - CHEMBL3137334 (LUMINESPIB MESYLATE)\\n - CHEMBL252164 (LUMINESPIB)\", 'thought_1': 'Now that I have the ChEMBL ID for Luminespib (CHEMBL252164), the next step is to investigate its biological activity. Understanding its primary targets and potency is crucial for forming a hypothesis about its potential efficacy in cardiac fibrosis. I will use the `get_compound_bioactivities_summary` tool to get an overview of its known biological effects.', 'tool_name_1': 'get_compound_bioactivities_summary', 'tool_args_1': {'chembl_id': 'CHEMBL252164'}, 'observation_1': 'Bioactivity summary for CHEMBL252164:\\n\\n• ADMET (CHEMBL612558): Drug uptake = 6.8 uM, Stability = 31.0 %, Vz = 0.4 l, T1/2 = 15.0 hr, Cmax_tumor = 6.0 uM, AUC = 16760 ng.hr.mL-1, CL = 2.00e-02 L/hr\\n\\n• Mus musculus (CHEMBL375): Tmax = 1.0 hr, T1/2 = 9.5 hr, Vdss = 0.5 l, Activity = 10.0 %, Cmax = 385.4 nM, LBF = 108.0 ml/hr, MTD = 50.0 mg kg-1, AUC = 800.8 ng.hr.mL-1, CL/F = 3.50e-02 L/hr\\n\\n• Plasma (CHEMBL613589): Vz = 0.9 l, T1/2 = 1.0 hr, Cmax = 49000 nM, AUC = 6983 ng.hr.mL-1, CL = 8.20e-02 L/hr\\n\\n• Heat shock protein HSP 90-beta (CHEMBL4303): IC50 = 7.0 nM, Ki = 6.40e-02 nM\\n\\n• HCT-116 (CHEMBL394): GI50 = 16.0 nM, GI = 50.0 %, Inhibition = 49.8 %\\n(Showing top 5 of 14 targets with activity data)', 'thought_2': 'The bioactivity data indicates that Luminespib is a potent inhibitor of Heat shock protein HSP 90-beta. To determine if this mechanism has any relevance to cardiac fibrosis, the next logical step is to gather more comprehensive information about the drug itself. I will use the `get_drug_info_summary` tool to find out its known mechanism of action, indications, and developmental phase, which might provide clues about its potential application in fibrotic diseases.', 'tool_name_2': 'get_drug_info_summary', 'tool_args_2': {'chembl_id': 'CHEMBL252164'}, 'observation_2': 'CHEMBL252164 is not an approved drug\\n\\nMechanisms of action: Heat shock protein HSP90 inhibitor (INHIBITOR) targeting CHEMBL2095165\\n\\nDrug indications: colorectal adenocarcinoma (Phase 1.0) (Colorectal Neoplasms), lymphoma (Phase 2.0) (Lymphoma), neoplasm (Phase 1.0) (Neoplasms), squamous cell lung carcinoma (Phase 1.0) (Carcinoma, Squamous Cell), multiple myeloma (Phase 1.0) (Multiple Myeloma), non-small cell lung carcinoma (Phase 2.0) (Carcinoma, Non-Small-Cell Lung), myeloproliferative disorder (Phase 2.0) (Myeloproliferative Disorders), rectum cancer (Phase 1.0) (Rectal Neoplasms), lung adenocarcinoma (Phase 1.0) (Adenocarcinoma of Lung), gastric cancer (Phase 2.0) (Stomach Neoplasms)', 'thought_3': 'The information gathered so far indicates that Luminespib is an HSP90 inhibitor under investigation for various cancers. There is no direct evidence yet to support its use in cardiac fibrosis. The next step is to search for experimental data that might link this compound or its mechanism to cardiac fibrosis. The PubChem database often contains a broader range of bioassay data. I will first search for the PubChem CID of Luminespib and then use that to query for bioassay results, which might reveal studies on cardiac cell lines or fibrosis-related targets.', 'tool_name_3': 'search_pubchem_cid', 'tool_args_3': {'query': 'Luminespib'}, 'observation_3': \"Found PubChem CID 135539077 (5-(2,4-dihydroxy-5-propan-2-ylphenyl)-N-ethyl-4-[4-(morpholin-4-ylmethyl)phenyl]-1,2-oxazole-3-carboxamide) for 'Luminespib'\", 'thought_4': 'Now that I have the PubChem CID for Luminespib (135539077), I can search for a broader range of experimental data in the PubChem BioAssay database. This is a critical step to find any preclinical evidence of its effects in assays relevant to cardiac fibrosis, such as those involving cardiac fibroblasts, collagen deposition, or related signaling pathways.', 'tool_name_4': 'get_bioassay_summary', 'tool_args_4': {'cid': 135539077, 'max_assays': 10}, 'observation_4': 'Bioassay summary for CID 135539077:\\nTested in 1299 assays - 967 active, 114 inactive\\n\\nActive in:\\n• AID 1: NCI human tumor cell line growth inhibition assay. Data for the NCI-H23 Non-Small Cell Lung cell ... \\n\\n• AID 3: NCI human tumor cell line growth inhibition assay. Data for the NCI-H226 Non-Small Cell Lung cell... \\n\\n• AID 7: NCI human tumor cell line growth inhibition assay. Data for the NCI-H460 Non-Small Cell Lung cell... \\n\\n• AID 9: NCI human tumor cell line growth inhibition assay. Data for the HOP-62 Non-Small Cell Lung cell line \\n\\n• AID 13: NCI human tumor cell line growth inhibition assay. Data for the HOP-92 Non-Small Cell Lung cell line \\n\\n• AID 15: NCI human tumor cell line growth inhibition assay. Data for the NCI-H522 Non-Small Cell Lung cell... \\n\\n• AID 19: NCI human tumor cell line growth inhibition assay. Data for the A549/ATCC Non-Small Cell Lung cel... \\n\\n• AID 23: NCI human tumor cell line growth inhibition assay. Data for the LOX IMVI Melanoma cell line \\n\\n• AID 25: NCI human tumor cell line growth inhibition assay. Data for the M14 Melanoma cell line \\n\\n• AID 29: NCI human tumor cell line growth inhibition assay. Data for the MALME-3M Melanoma cell line \\n\\n(Showing 10 of 967 active assays)', 'thought_5': 'The bioassay results from PubChem are overwhelmingly focused on cancer cell lines and do not provide any information regarding cardiac fibrosis. The next logical step is to see if there is any broader pharmacological information available for Luminespib that might hint at effects on pathways relevant to fibrosis (e.g., inflammation, TGF-beta signaling). I will use the `get_drug_summary` tool with the PubChem CID to search for this information.', 'tool_name_5': 'get_drug_summary', 'tool_args_5': {'cid': 135539077}, 'observation_5': 'CID 135539077 - no specific drug/medication information available (may not be an approved drug)', 'thought_6': 'I have exhausted the compound-specific searches in both ChEMBL and PubChem and have found no evidence linking Luminespib to cardiac fibrosis. The primary mechanism of action is HSP90 inhibition. The next logical step is to investigate the target, HSP90, to see if there is any known connection between this target and cardiac fibrosis. I will search for the ChEMBL target ID for \"HSP90\".', 'tool_name_6': 'search_target_id', 'tool_args_6': {'query': 'HSP90'}, 'observation_6': \"Found 5 target(s) matching 'HSP90': CHEMBL1795123 (Hsp90 co-chaperone Cdc37, Homo sapiens), CHEMBL3580503 (Heat shock protein 90 homolog, Candida albicans (strain SC5314 / ATCC MYA-2876) (Yeast)), CHEMBL3536 (Heat shock protein HSP 90 (HSP82), Saccharomyces cerevisiae S288c), CHEMBL1795086 (HSP90, Plasmodium falciparum 3D7), CHEMBL4296081 (Heat shock protein HSP 90-beta/Hsp90 co-chaperone Cdc37, Homo sapiens)\", 'thought_7': 'The search for \"HSP90\" returned several potential targets. Based on the bioactivity data for Luminespib, the most relevant human target is \"Heat shock protein HSP 90-beta\" (CHEMBL4303). To understand if modulating this target is relevant to cardiac fibrosis, I will now investigate other compounds that are active against this specific target. This might reveal if other HSP90-beta inhibitors have been studied in the context of fibrosis, providing a rationale by association.', 'tool_name_7': 'get_target_activities_summary', 'tool_args_7': {'target_chembl_id': 'CHEMBL4303'}, 'observation_7': 'Top 5 compounds with IC50 against Heat shock protein HSP 90-beta (CHEMBL4303):\\n1. No Preferred Name (CHEMBL ID: CHEMBL449164): IC50 = 5.0 nM (pChEMBL value: 8.30)\\n   Assay: Binding affinity to human recombinant HSP90 (ID: CHEMBL1021924, Year: 2009, Organism: Homo sapiens)\\n2. TANESPIMYCIN (CHEMBL ID: CHEMBL109480): IC50 = 7.0 nM (pChEMBL value: 8.15)\\n   Assay: Inhibition of HSP90-mediated client protein HER2 degradation (ID: CHEMBL1103009, Year: 2010, Organism: Homo sapiens)\\n3. No Preferred Name (CHEMBL ID: CHEMBL339231): IC50 = 7.0 nM (pChEMBL value: 8.15)\\n   Assay: Inhibition of HSP90-mediated client protein HER2 degradation (ID: CHEMBL1103009, Year: 2010, Organism: Homo sapiens)\\n4. SNX-2112 (CHEMBL ID: CHEMBL560895): IC50 = 7.0 nM (pChEMBL value: 8.15)\\n   Assay: Inhibition of HSP90-mediated client protein HER2 degradation (ID: CHEMBL1103009, Year: 2010, Organism: Homo sapiens)\\n5. LUMINESPIB (CHEMBL ID: CHEMBL252164): IC50 = 7.0 nM (pChEMBL value: 8.15)\\n   Assay: Inhibition of HSP90-mediated client protein HER2 degradation (ID: CHEMBL1103009, Year: 2010, Organism: Homo sapiens)', 'thought_8': 'I have now conducted a comprehensive investigation into Luminespib and its potential role in cardiac fibrosis using the available tools. The key findings are:\\n1. Luminespib is a potent inhibitor of Heat shock protein HSP 90-beta.\\n2. Its development and bioassay data are overwhelmingly focused on oncology.\\n3. Extensive searches in both ChEMBL and PubChem databases for the compound itself revealed no data related to cardiac fibrosis or related cellular processes.\\n4. An investigation into the target, HSP90-beta, and other potent inhibitors has not provided any links to cardiac fibrosis within the scope of the available tools.\\n\\nGiven the complete lack of direct or indirect evidence from the databases, I have gathered all the information possible to make an assessment. There is no data to support the hypothesis that Luminespib would be effective in reversing cardiac fibrosis. Therefore, the next step is to conclude the investigation.', 'tool_name_8': 'finish', 'tool_args_8': {}, 'observation_8': 'Completed.'},\n",
      "    reasoning=\"Luminespib (CHEMBL252164) is a potent inhibitor of Heat shock protein HSP 90-beta (HSP90B), with a reported IC50 of 7.0 nM. My investigation of Luminespib in both ChEMBL and PubChem databases found no direct experimental data related to cardiac fibrosis. The compound's development and the vast majority of its bioassay data are focused on oncology, where it has been tested in numerous cancer cell lines.\\n\\nHowever, a prediction can be made based on its mechanism of action. HSP90 is a molecular chaperone responsible for the stability and function of numerous client proteins, including many that are critical components of pro-fibrotic signaling pathways. Key pathways in cardiac fibrosis, such as the TGF-β pathway, rely on HSP90 to stabilize receptors and downstream signaling molecules like Smads. Therefore, inhibiting HSP90 is a plausible strategy to disrupt these pro-fibrotic cascades and potentially reverse the fibroblast-to-myofibroblast transition.\\n\\nThe screening assay uses a concentration of 10 uM. This is over 1000 times higher than the IC50 for HSP90 inhibition (7 nM) and also significantly higher than its GI50 (growth inhibition) concentration in cancer cell lines (e.g., 16 nM in HCT-116). At this high concentration, potent target engagement is virtually guaranteed. This concentration is also likely to be cytotoxic to the primary human ventricular fibroblasts, which would result in a reduced cell count and be interpreted as high efficacy in this assay format. Given the strong mechanistic rationale and the high concentration used, a significant reduction in active fibroblasts is expected, driven by a combination of specific anti-fibrotic effects and cytotoxicity.\",\n",
      "    predicted_efficacy=0.75,\n",
      "    confidence=0.4\n",
      ")\n"
     ]
    }
   ],
   "source": [
    "efficacy_agent = CFEfficacyAgent(max_iters=12)\n",
    "efficacy_agent.agent.react.signature = efficacy_agent.agent.react.signature.insert(\n",
    "    0,\n",
    "    \"tool_expected_info\",\n",
    "    dspy.OutputField(\n",
    "        desc=\"TRUE or FALSE: <more info>. If FALSE, describe what information (ex databases, literature, etc) was desired from tool. Do not say FALSE if tool did not return any information (ex due to no information available), only say FALSE if tool returned information that was not useful or other information was desired from this tool call.\\n\\n\"\n",
    "    ),\n",
    "    type_=str,\n",
    ")\n",
    "efficacy_results = efficacy_agent(compound_name=COMPOUND)\n",
    "print(efficacy_results)"
   ]
  },
  {
   "cell_type": "code",
   "execution_count": null,
   "id": "6fa79321",
   "metadata": {},
   "outputs": [],
   "source": [
    "# tox_agent = ToxicityScreeningAgent(max_iters=12)\n",
    "# tox_results = tox_agent(compound_name=COMPOUND)\n",
    "# print(tox_results)"
   ]
  },
  {
   "cell_type": "code",
   "execution_count": null,
   "id": "f0e62011",
   "metadata": {},
   "outputs": [],
   "source": [
    "# prioritization_agent = CompoundPrioritizationAgent()\n",
    "# prioritization_results = prioritization_agent(compound_name=COMPOUND)\n",
    "# print(prioritization_results)"
   ]
  }
 ],
 "metadata": {
  "kernelspec": {
   "display_name": "Python (cf-compound-selection-backend)",
   "language": "python",
   "name": "cf-compound-selection-backend"
  },
  "language_info": {
   "codemirror_mode": {
    "name": "ipython",
    "version": 3
   },
   "file_extension": ".py",
   "mimetype": "text/x-python",
   "name": "python",
   "nbconvert_exporter": "python",
   "pygments_lexer": "ipython3",
   "version": "3.12.4"
  }
 },
 "nbformat": 4,
 "nbformat_minor": 5
}
