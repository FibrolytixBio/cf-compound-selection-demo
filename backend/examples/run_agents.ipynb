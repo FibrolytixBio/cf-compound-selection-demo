{
 "cells": [
  {
   "cell_type": "code",
   "execution_count": 1,
   "id": "ee547c89",
   "metadata": {},
   "outputs": [],
   "source": [
    "from dotenv import load_dotenv\n",
    "import dspy\n",
    "import mlflow\n",
    "\n",
    "from agentic_system.agents import (\n",
    "    CFEfficacyAgent,\n",
    "    ToxicityScreeningAgent,\n",
    "    CompoundPrioritizationAgent,\n",
    ")"
   ]
  },
  {
   "cell_type": "code",
   "execution_count": 4,
   "id": "98b67deb",
   "metadata": {},
   "outputs": [
    {
     "name": "stderr",
     "output_type": "stream",
     "text": [
      "2025/09/17 15:51:33 INFO mlflow.tracking.fluent: Autologging successfully enabled for dspy.\n",
      "2025/09/17 15:51:33 INFO mlflow.tracking.fluent: Autologging successfully enabled for litellm.\n",
      "2025/09/17 15:51:33 INFO mlflow.tracking.fluent: Autologging successfully enabled for openai.\n"
     ]
    }
   ],
   "source": [
    "# NOTE: Start MLflow server with:\n",
    "# mlflow server --backend-store-uri sqlite:///mydb.sqlite\n",
    "# Tell MLflow about the server URI.\n",
    "mlflow.set_tracking_uri(\"http://127.0.0.1:5000\")\n",
    "# Create a unique name for your experiment.\n",
    "mlflow.set_experiment(\"Optimize Efficacy Tools\")\n",
    "mlflow.autolog()\n",
    "mlflow.tracing.disable_notebook_display()\n",
    "\n",
    "load_dotenv(\"../.env\")\n",
    "dspy.configure(\n",
    "    lm=dspy.LM(\"gemini/gemini-2.5-pro\", temperature=0.9, cache=True, rollout_id=1)\n",
    ")\n",
    "\n",
    "COMPOUND = \"Luminespib\""
   ]
  },
  {
   "cell_type": "code",
   "execution_count": 5,
   "id": "739d2286",
   "metadata": {},
   "outputs": [
    {
     "name": "stdout",
     "output_type": "stream",
     "text": [
      "Prediction(\n",
      "    trajectory={'thought_0': 'To estimate the efficacy of Luminespib for reversing the failing cardiac fibroblast phenotype, I first need to understand its biological function. My initial step is to identify the compound in a chemical database to retrieve its mechanism of action and other relevant data. I will start by searching for its ChEMBL ID.', 'tool_name_0': 'CHEMBL__search_chembl_id', 'tool_args_0': {'goal': 'Find the ChEMBL ID for Luminespib to investigate its mechanism of action and bioactivities.', 'query': 'Luminespib'}, 'observation_0': 'Luminespib has two ChEMBL IDs: CHEMBL3137334 (LUMINESPIB MESYLATE) and CHEMBL252164 (LUMINESPIB).', 'thought_1': 'I have successfully identified two ChEMBL IDs for Luminespib. I will proceed with `CHEMBL252164`, which represents the parent compound, to investigate its mechanism of action. Understanding how Luminespib works at a molecular level is the next critical step in forming a hypothesis about its potential to reverse the failing cardiac fibroblast phenotype.', 'tool_name_1': 'CHEMBL__get_mechanisms_of_action', 'tool_args_1': {'goal': 'Determine the mechanism of action of Luminespib to understand its biological targets and pathways.', 'chembl_id': 'CHEMBL252164'}, 'observation_1': 'Luminespib is a Heat shock protein HSP90 inhibitor (PubMed: 32796651).', 'thought_2': 'I have established that Luminespib is an HSP90 inhibitor. Now, I need to determine if inhibiting HSP90 is likely to reverse the failing cardiac fibroblast phenotype. The connection between HSP90 and cardiac fibroblast pathology is not immediately obvious. Therefore, I will perform a web search to find literature or data linking HSP90 to cardiac fibrosis or the function of cardiac fibroblasts. This will help me build a biological rationale for my efficacy prediction.', 'tool_name_2': 'SEARCH__search_web', 'tool_args_2': {'goal': 'Investigate the role of HSP90 in cardiac fibrosis and fibroblast pathology to understand if its inhibition could be beneficial.', 'query': 'HSP90 inhibitor cardiac fibrosis'}, 'observation_2': 'Inhibition of SNO-HSP90 can mitigate cardiac fibrosis by blocking the TGFβ/SMAD3 signaling pathway (1). HSP90 inhibitors have been shown to attenuate the development of cardiac fibrosis in mouse hypertrophy by suppressing the Calcineurin-NFAT and c-Raf-Erk pathways (2, 4). Specifically, a mutation in Cys589 of SNO-HSP90 reduced fibrosis in cardiac fibroblasts treated with angiotensin II or isoprenaline (3). CTPR390, an experimental Hsp90 inhibitor, has demonstrated success in animal models for preventing structural and pathological changes associated with cardiac fibrosis (5).'},\n",
      "    reasoning='Luminespib is a known inhibitor of Heat shock protein HSP90. The provided literature search establishes a strong link between HSP90 inhibition and the attenuation of cardiac fibrosis. Specifically, inhibiting HSP90 has been shown to block the pro-fibrotic TGFβ/SMAD3 signaling pathway, a key driver of fibroblast activation. Furthermore, HSP90 inhibitors have demonstrated efficacy in animal models of cardiac hypertrophy by suppressing other relevant pathways such as Calcineurin-NFAT and c-Raf-Erk, leading to reduced fibrosis. Since the \"failing\" cardiac fibroblast phenotype in the assay is characterized by pro-fibrotic morphological features, inhibiting a key upstream regulator like HSP90 is highly likely to reverse these changes and shift the cells towards a \"nonfailing\" or quiescent state. Therefore, a high efficacy is predicted.',\n",
      "    predicted_efficacy=0.85,\n",
      "    confidence=0.9\n",
      ")\n"
     ]
    }
   ],
   "source": [
    "efficacy_agent = CFEfficacyAgent(max_iters=3)\n",
    "# efficacy_agent.agent.react.signature = efficacy_agent.agent.react.signature.insert(\n",
    "#     0,\n",
    "#     \"tool_expected_info\",\n",
    "#     dspy.OutputField(\n",
    "#         desc=\"TRUE or FALSE: <more info>. If FALSE, describe what information (ex databases, literature, etc) was desired from tool. Do not say FALSE if tool did not return any information (ex due to no information available), only say FALSE if tool returned information that was not useful or other information was desired from this tool call.\\n\\n\"\n",
    "#     ),\n",
    "#     type_=str,\n",
    "# )\n",
    "efficacy_results = efficacy_agent(compound_name=COMPOUND)\n",
    "print(efficacy_results)"
   ]
  },
  {
   "cell_type": "code",
   "execution_count": 9,
   "id": "c809ccfa",
   "metadata": {},
   "outputs": [
    {
     "name": "stdout",
     "output_type": "stream",
     "text": [
      "Prediction(\n",
      "    trajectory={'thought_0': 'I need to estimate the efficacy of Luminespib for reversing the failing cardiac fibroblast phenotype. My first step is to identify the compound and its primary mechanism of action. I will start by searching for Luminespib in the ChEMBL database to obtain its ChEMBL ID, which will allow me to retrieve more detailed information about its bioactivities and mechanism of action.', 'tool_name_0': 'CHEMBL__search_chembl_id', 'tool_args_0': {'goal': 'Find the ChEMBL ID for the compound Luminespib to initiate research into its mechanism of action and potential effects on cardiac fibroblasts.', 'query': 'Luminespib'}, 'observation_0': 'The ChEMBL IDs for Luminespib are CHEMBL3137334 (LUMINESPIB MESYLATE) and CHEMBL252164 (LUMINESPIB).', 'thought_1': 'I have successfully retrieved the ChEMBL IDs for Luminespib. I will use \"CHEMBL252164\" as it appears to be the parent compound. My next step is to investigate the mechanism of action of Luminespib. Understanding its primary targets and pathways will be crucial in predicting its effect on cardiac fibroblasts. I will use the `get_mechanisms_of_action` tool for this purpose.', 'tool_name_1': 'CHEMBL__get_mechanisms_of_action', 'tool_args_1': {'goal': 'Retrieve the mechanism of action for Luminespib (CHEMBL252164) to understand its biological targets and pathways, which will inform the prediction of its efficacy in reversing the failing cardiac fibroblast phenotype.', 'chembl_id': 'CHEMBL252164'}, 'observation_1': 'Luminespib (CHEMBL252164) is a Heat shock protein HSP90 inhibitor (PubMed: 32796651).', 'thought_2': 'I have confirmed that Luminespib is a Heat Shock Protein (HSP) 90 inhibitor. Now, I need to understand the role of HSP90 in cardiac fibroblasts and cardiac fibrosis to predict the effect of its inhibition. This information is crucial to determine if inhibiting HSP90 could reverse the \"failing\" phenotype. I will perform a web search to find relevant scientific literature.', 'tool_name_2': 'SEARCH__search_web', 'tool_args_2': {'goal': 'Find literature on the role of HSP90 in cardiac fibroblasts and fibrosis to understand if its inhibition by Luminespib could reverse the failing phenotype.', 'query': 'HSP90 inhibition cardiac fibroblast fibrosis'}, 'observation_2': 'Inhibition of HSP90, specifically SNO-HSP90, has been shown to alleviate cardiac fibrosis in both angiotensin II- or isoprenaline-treated cardiac fibroblasts (https://bpspubs.onlinelibrary.wiley.com/doi/full/10.1111/bph.15626). This mitigation occurs through the blocking of the TGFβ/SMAD3 signaling pathway (https://pubmed.ncbi.nlm.nih.gov/34265086/). An engineered protein inhibitor of Hsp90 has also demonstrated a reduction in TGF-β-mediated profibrotic events in cardiac fibroblasts in vitro (https://www.mdpi.com/2227-9059/9/6/650). Furthermore, an Hsp90 inhibitor has attenuated the development of cardiac fibrosis in mouse hypertrophy by suppressing the Calcineurin-NFAT and c-Raf-Erk pathways (https://pubmed.ncbi.nlm.nih.gov/34016843/). CTPR390, an experimental anti-fibrotic inhibitor targeting Hsp90, has shown efficacy in animal models for cardiac fibrosis (https://www.sciencedirect.com/science/article/pii/S258900422501274X). Luminespib is an Hsp90 inhibitor, and its potential to reverse the failing phenotype in cardiac fibroblasts and fibrosis warrants further investigation based on these findings.'},\n",
      "    reasoning='Luminespib is a potent inhibitor of Heat Shock Protein 90 (HSP90). The provided literature search results establish a strong link between HSP90 inhibition and the attenuation of cardiac fibrosis. Specifically, multiple studies demonstrate that inhibiting HSP90 in cardiac fibroblasts counteracts pro-fibrotic signaling. A key mechanism is the blocking of the TGFβ/SMAD3 pathway, a major driver of fibroblast activation and the \"failing\" phenotype. The evidence from both in vitro studies using cardiac fibroblasts and in vivo animal models consistently shows that HSP90 inhibition has a significant anti-fibrotic effect. Therefore, by targeting a central node in the fibrotic signaling network, Luminespib is expected to effectively reverse the morphological features of failing cardiac fibroblasts towards a nonfailing, quiescent-like state in the Cell Painting assay.',\n",
      "    predicted_efficacy=0.85,\n",
      "    confidence=0.9\n",
      ")\n"
     ]
    }
   ],
   "source": [
    "dspy.configure(\n",
    "    lm=dspy.LM(\"gemini/gemini-2.5-pro\", temperature=0.9, cache=False, rollout_id=1)\n",
    ")\n",
    "\n",
    "efficacy_agent = CFEfficacyAgent(max_iters=3)\n",
    "# efficacy_agent.agent.react.signature = efficacy_agent.agent.react.signature.insert(\n",
    "#     0,\n",
    "#     \"tool_expected_info\",\n",
    "#     dspy.OutputField(\n",
    "#         desc=\"TRUE or FALSE: <more info>. If FALSE, describe what information (ex databases, literature, etc) was desired from tool. Do not say FALSE if tool did not return any information (ex due to no information available), only say FALSE if tool returned information that was not useful or other information was desired from this tool call.\\n\\n\"\n",
    "#     ),\n",
    "#     type_=str,\n",
    "# )\n",
    "efficacy_results = efficacy_agent(compound_name=COMPOUND)\n",
    "print(efficacy_results)"
   ]
  },
  {
   "cell_type": "code",
   "execution_count": 6,
   "id": "6fa79321",
   "metadata": {},
   "outputs": [],
   "source": [
    "# tox_agent = ToxicityScreeningAgent(max_iters=12)\n",
    "# tox_results = tox_agent(compound_name=COMPOUND)\n",
    "# print(tox_results)"
   ]
  },
  {
   "cell_type": "code",
   "execution_count": 7,
   "id": "f0e62011",
   "metadata": {},
   "outputs": [],
   "source": [
    "# prioritization_agent = CompoundPrioritizationAgent()\n",
    "# prioritization_results = prioritization_agent(compound_name=COMPOUND)\n",
    "# print(prioritization_results)"
   ]
  }
 ],
 "metadata": {
  "kernelspec": {
   "display_name": "Python (cf-compound-selection-backend)",
   "language": "python",
   "name": "cf-compound-selection-backend"
  },
  "language_info": {
   "codemirror_mode": {
    "name": "ipython",
    "version": 3
   },
   "file_extension": ".py",
   "mimetype": "text/x-python",
   "name": "python",
   "nbconvert_exporter": "python",
   "pygments_lexer": "ipython3",
   "version": "3.12.4"
  }
 },
 "nbformat": 4,
 "nbformat_minor": 5
}
