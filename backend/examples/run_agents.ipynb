{
 "cells": [
  {
   "cell_type": "code",
   "execution_count": 1,
   "id": "ee547c89",
   "metadata": {},
   "outputs": [],
   "source": [
    "from dotenv import load_dotenv\n",
    "import dspy\n",
    "import mlflow\n",
    "\n",
    "from agentic_system.agents import (\n",
    "    CFEfficacyAgent,\n",
    "    ToxicityScreeningAgent,\n",
    "    CompoundPrioritizationAgent,\n",
    ")"
   ]
  },
  {
   "cell_type": "code",
   "execution_count": null,
   "id": "98b67deb",
   "metadata": {},
   "outputs": [
    {
     "name": "stderr",
     "output_type": "stream",
     "text": [
      "2025/09/17 15:50:32 INFO mlflow.tracking.fluent: Autologging successfully enabled for dspy.\n",
      "2025/09/17 15:50:32 INFO mlflow.tracking.fluent: Autologging successfully enabled for litellm.\n",
      "2025/09/17 15:50:32 INFO mlflow.tracking.fluent: Autologging successfully enabled for openai.\n"
     ]
    }
   ],
   "source": [
    "# NOTE: Start MLflow server with:\n",
    "# mlflow server --backend-store-uri sqlite:///mydb.sqlite\n",
    "# Tell MLflow about the server URI.\n",
    "mlflow.set_tracking_uri(\"http://127.0.0.1:5000\")\n",
    "# Create a unique name for your experiment.\n",
    "mlflow.set_experiment(\"Optimize Efficacy Tools\")\n",
    "mlflow.autolog()\n",
    "mlflow.tracing.disable_notebook_display()\n",
    "\n",
    "load_dotenv(\"../.env\")\n",
    "dspy.configure(\n",
    "    lm=dspy.LM(\"gemini/gemini-2.5-pro\", temperature=0.9, cache=True, rollout_id=1)\n",
    ")\n",
    "\n",
    "COMPOUND = \"Luminespib\""
   ]
  },
  {
   "cell_type": "code",
   "execution_count": null,
   "id": "739d2286",
   "metadata": {},
   "outputs": [
    {
     "name": "stdout",
     "output_type": "stream",
     "text": [
      "Prediction(\n",
      "    trajectory={'thought_0': \"I need to estimate the efficacy of Luminespib in a cell-based assay for reversing the failing cardiac fibroblast phenotype. To do this, I will first gather information about the compound's mechanism of action and its known effects. I will start by searching for its ChEMBL ID to access curated bioactivity data.\", 'tool_name_0': 'CHEMBL__search_chembl_id', 'tool_args_0': {'query': 'Luminespib', 'goal': 'Find the ChEMBL ID for Luminespib to retrieve its bioactivity and mechanism of action information.'}, 'observation_0': 'The ChEMBL IDs for Luminespib are CHEMBL3137334 and CHEMBL252164. (Source: ChEMBL)', 'thought_1': 'I have found two ChEMBL IDs for Luminespib. I will start by investigating the first ID, CHEMBL252164, to get more information about the compound, specifically its mechanism of action, which will help me understand how it might affect cardiac fibroblasts.', 'tool_name_1': 'CHEMBL__get_mechanisms_of_action', 'tool_args_1': {'chembl_id': 'CHEMBL252164', 'goal': 'Retrieve the mechanism of action for Luminespib (CHEMBL252164) to understand its biological targets and potential effects on cellular phenotypes.'}, 'observation_1': 'Luminespib (CHEMBL252164) is a heat shock protein HSP90 inhibitor (PubMed: 32796651). Its mechanism of action involves inhibiting HSP90, a protein involved in cellular processes.', 'thought_2': \"I have confirmed that Luminespib is an HSP90 inhibitor. Now I need to understand the role of HSP90 in cardiac fibroblasts and fibrosis to predict the compound's effect in the assay. A web search for the relationship between HSP90 inhibition and cardiac fibroblast phenotype or fibrosis should provide the necessary information to form a hypothesis about the efficacy of Luminespib.\", 'tool_name_2': 'SEARCH__search_web', 'tool_args_2': {'query': 'HSP90 inhibitor cardiac fibroblast phenotype', 'goal': 'Investigate the role of HSP90 inhibition in cardiac fibroblast function and phenotype to predict the effect of Luminespib on failing cardiac fibroblasts.'}, 'observation_2': \"HSP90 inhibition has shown potential in counteracting profibrotic events in cardiac fibroblasts. Specifically, an engineered protein inhibitor of Hsp90 reduced TGF-β-mediated profibrotic events in vitro (MDPI) (9/6/650). Another study found that 17-AAG, an HSP90 inhibitor, reduced the number of neonatal cardiac fibroblasts that were increased by TGF-β1 treatment (ScienceDirect) (S0753332220300123). CTPR390, an experimental anti-fibrotic inhibitor targeting Hsp90, has demonstrated success in animal models, though its effects on human cardiac fibroblasts are yet to be explored (PMC12275948). Hsp90's role in regulating fibroblast activation also supports the rationale for using Hsp90 inhibitors to prevent fibroblast invasion and fibrosis (JCI) (91454).\", 'thought_3': 'The web search results strongly support the hypothesis that HSP90 inhibition is an effective anti-fibrotic strategy in cardiac fibroblasts. Multiple sources indicate that HSP90 inhibitors can counteract profibrotic signaling and reduce the number of activated fibroblasts. Since the assay is designed to measure the reversion of a \"failing\" (likely profibrotic) fibroblast phenotype, and Luminespib is a known HSP90 inhibitor, I have sufficient information to predict its efficacy with high confidence. The evidence directly links the compound\\'s mechanism of action to the biological process being measured in the assay. Therefore, I can now finalize my assessment.', 'tool_name_3': 'finish', 'tool_args_3': {'predicted_efficacy': 0.85, 'confidence': 0.9, 'rationale': \"Luminespib is a known Heat Shock Protein 90 (HSP90) inhibitor (CHEMBL252164). The literature strongly supports that HSP90 inhibition is a viable anti-fibrotic strategy in cardiac fibroblasts. Multiple studies show that HSP90 inhibitors counteract profibrotic events, reduce fibroblast activation (often TGF-β-mediated), and decrease the number of cardiac fibroblasts in vitro. Given that the assay measures the reversal of a 'failing' cardiac fibroblast phenotype, which is characteristic of a profibrotic state, Luminespib is expected to be highly effective at reverting these cells to a non-failing phenotype. The confidence is high due to the direct, evidence-based link between the compound's mechanism and the specific cellular phenotype being assayed.\"}, 'observation_3': 'Execution error in finish: \\nTraceback (most recent call last):\\n  File \"/Users/roshankern/Desktop/Github/cf-compound-selection-demo/backend/.venv/lib/python3.12/site-packages/dspy/predict/react.py\", line 111, in forward\\n    trajectory[f\"observation_{idx}\"] = self.tools[pred.next_tool_name](**pred.next_tool_args)\\n                                       ^^^^^^^^^^^^^^^^^^^^^^^^^^^^^^^^^^^^^^^^^^^^^^^^^^^^^^\\n  File \"/Users/roshankern/Desktop/Github/cf-compound-selection-demo/backend/.venv/lib/python3.12/site-packages/dspy/utils/callback.py\", line 343, in sync_wrapper\\n    raise exception\\n  File \"/Users/roshankern/Desktop/Github/cf-compound-selection-demo/backend/.venv/lib/python3.12/site-packages/dspy/utils/callback.py\", line 339, in sync_wrapper\\n    results = fn(instance, *args, **kwargs)\\n              ^^^^^^^^^^^^^^^^^^^^^^^^^^^^^\\n  File \"/Users/roshankern/Desktop/Github/cf-compound-selection-demo/backend/.venv/lib/python3.12/site-packages/dspy/adapters/types/tool.py\", line 175, in __call__\\n    parsed_kwargs = self._validate_and_parse_args(**kwargs)\\n                    ^^^^^^^^^^^^^^^^^^^^^^^^^^^^^^^^^^^^^^^\\n  File \"/Users/roshankern/Desktop/Github/cf-compound-selection-demo/backend/.venv/lib/python3.12/site-packages/dspy/adapters/types/tool.py\", line 126, in _validate_and_parse_args\\n    raise ValueError(f\"Arg {k} is not in the tool\\'s args.\")\\nValueError: Arg predicted_efficacy is not in the tool\\'s args.'},\n",
      "    reasoning=\"Luminespib is a known Heat Shock Protein 90 (HSP90) inhibitor (CHEMBL252164). The literature strongly supports that HSP90 inhibition is a viable anti-fibrotic strategy in cardiac fibroblasts. Multiple studies show that HSP90 inhibitors counteract profibrotic events, reduce fibroblast activation (often TGF-β-mediated), and decrease the number of cardiac fibroblasts in vitro. Given that the assay measures the reversal of a 'failing' cardiac fibroblast phenotype, which is characteristic of a profibrotic state, Luminespib is expected to be highly effective at reverting these cells to a non-failing phenotype. The confidence is high due to the direct, evidence-based link between the compound's mechanism and the specific cellular phenotype being assayed.\",\n",
      "    predicted_efficacy=0.85,\n",
      "    confidence=0.9\n",
      ")\n"
     ]
    }
   ],
   "source": [
    "efficacy_agent = CFEfficacyAgent(max_iters=3)\n",
    "# efficacy_agent.agent.react.signature = efficacy_agent.agent.react.signature.insert(\n",
    "#     0,\n",
    "#     \"tool_expected_info\",\n",
    "#     dspy.OutputField(\n",
    "#         desc=\"TRUE or FALSE: <more info>. If FALSE, describe what information (ex databases, literature, etc) was desired from tool. Do not say FALSE if tool did not return any information (ex due to no information available), only say FALSE if tool returned information that was not useful or other information was desired from this tool call.\\n\\n\"\n",
    "#     ),\n",
    "#     type_=str,\n",
    "# )\n",
    "efficacy_results = efficacy_agent(compound_name=COMPOUND)\n",
    "print(efficacy_results)"
   ]
  },
  {
   "cell_type": "code",
   "execution_count": null,
   "id": "6fa79321",
   "metadata": {},
   "outputs": [],
   "source": [
    "# tox_agent = ToxicityScreeningAgent(max_iters=12)\n",
    "# tox_results = tox_agent(compound_name=COMPOUND)\n",
    "# print(tox_results)"
   ]
  },
  {
   "cell_type": "code",
   "execution_count": null,
   "id": "f0e62011",
   "metadata": {},
   "outputs": [],
   "source": [
    "# prioritization_agent = CompoundPrioritizationAgent()\n",
    "# prioritization_results = prioritization_agent(compound_name=COMPOUND)\n",
    "# print(prioritization_results)"
   ]
  }
 ],
 "metadata": {
  "kernelspec": {
   "display_name": "Python (cf-compound-selection-backend)",
   "language": "python",
   "name": "cf-compound-selection-backend"
  },
  "language_info": {
   "codemirror_mode": {
    "name": "ipython",
    "version": 3
   },
   "file_extension": ".py",
   "mimetype": "text/x-python",
   "name": "python",
   "nbconvert_exporter": "python",
   "pygments_lexer": "ipython3",
   "version": "3.12.4"
  }
 },
 "nbformat": 4,
 "nbformat_minor": 5
}
