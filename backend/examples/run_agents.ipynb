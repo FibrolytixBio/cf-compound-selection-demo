{
 "cells": [
  {
   "cell_type": "code",
   "execution_count": 1,
   "id": "ee547c89",
   "metadata": {},
   "outputs": [],
   "source": [
    "from dotenv import load_dotenv\n",
    "import dspy\n",
    "import mlflow\n",
    "\n",
    "from agentic_system.agents import (\n",
    "    CFEfficacyAgent,\n",
    "    ToxicityScreeningAgent,\n",
    "    CompoundPrioritizationAgent,\n",
    ")"
   ]
  },
  {
   "cell_type": "code",
   "execution_count": 2,
   "id": "98b67deb",
   "metadata": {},
   "outputs": [
    {
     "name": "stderr",
     "output_type": "stream",
     "text": [
      "2025/09/17 16:33:41 INFO mlflow.tracking.fluent: Autologging successfully enabled for dspy.\n",
      "2025/09/17 16:33:41 INFO mlflow.tracking.fluent: Autologging successfully enabled for litellm.\n",
      "2025/09/17 16:33:41 INFO mlflow.tracking.fluent: Autologging successfully enabled for openai.\n"
     ]
    }
   ],
   "source": [
    "# NOTE: Start MLflow server with:\n",
    "# mlflow server --backend-store-uri sqlite:///mydb.sqlite\n",
    "# Tell MLflow about the server URI.\n",
    "mlflow.set_tracking_uri(\"http://127.0.0.1:5000\")\n",
    "# Create a unique name for your experiment.\n",
    "mlflow.set_experiment(\"Optimize Efficacy Tools\")\n",
    "mlflow.autolog()\n",
    "mlflow.tracing.disable_notebook_display()\n",
    "\n",
    "load_dotenv(\"../.env\")\n",
    "lm = dspy.LM(\"gemini/gemini-2.5-pro\", temperature=0.9, cache=False)\n",
    "dspy.settings.configure(lm=lm, track_usage=True)"
   ]
  },
  {
   "cell_type": "code",
   "execution_count": 3,
   "id": "c809ccfa",
   "metadata": {},
   "outputs": [
    {
     "name": "stderr",
     "output_type": "stream",
     "text": [
      "/Users/roshankern/Desktop/Github/cf-compound-selection-demo/backend/.venv/lib/python3.12/site-packages/pydantic/_internal/_model_construction.py:80: RuntimeWarning: coroutine '_fetch_pubmed_data.<locals>._async_fetch' was never awaited\n",
      "  def __new__(\n",
      "RuntimeWarning: Enable tracemalloc to get the object allocation traceback\n"
     ]
    },
    {
     "name": "stdout",
     "output_type": "stream",
     "text": [
      "Prediction(\n",
      "    trajectory={'thought_0': 'I need to determine the efficacy of SU11274 in reversing the failing cardiac fibroblast phenotype. My first step is to gather information about the compound. I will start by finding its ChEMBL ID to access its bioactivity and target information in a structured database. This will be the foundation for understanding its mechanism of action.', 'tool_name_0': 'CHEMBL__search_chembl_id', 'tool_args_0': {'goal': 'Find the ChEMBL ID for the compound SU11274 to begin investigating its properties and mechanism of action.', 'query': 'SU11274'}, 'observation_0': \"The ChEMBL ID for SU11274 is CHEMBL261641. (Found 1 compound(s) matching 'SU11274': - CHEMBL261641 (None))\", 'thought_1': \"Now that I have the ChEMBL ID for SU11274 (CHEMBL261641), I can investigate its mechanism of action. Understanding the compound's primary targets is crucial for predicting its effect on cardiac fibroblasts. I will use the `get_mechanisms_of_action` tool to find this information. This will tell me which proteins or pathways the compound interacts with, which I can then relate to cardiac fibroblast biology.\", 'tool_name_1': 'CHEMBL__get_mechanisms_of_action', 'tool_args_1': {'goal': 'Determine the mechanism of action and primary targets of SU11274 to understand its potential effects on cardiac fibroblast phenotype.', 'chembl_id': 'CHEMBL261641'}, 'observation_1': 'No relevant information found.', 'thought_2': 'The ChEMBL database did not have mechanism of action information for SU11274. I will now try to find this information by searching the web. This will hopefully give me some information on the compound\\'s targets and mechanism of action, which is crucial to understanding its potential effect on cardiac fibroblasts. I will search for \"SU11274 mechanism of action\".', 'tool_name_2': 'SEARCH__search_web', 'tool_args_2': {'goal': 'Find the mechanism of action and primary targets of SU11274 to understand its potential effects on cardiac fibroblast phenotype.', 'query': 'SU11274 mechanism of action'}, 'observation_2': 'SU11274 is a c-Met inhibitor that inhibits the phosphorylation of AKT, FKHR, and GSK3β. (https://www.selleckchem.com/products/SU11274.html)\\nSU11274 inhibits Met Kinase Activity, inducing apoptosis and cell cycle arrest in TPR-MET-transformed BaF3 Cells. (https://aacrjournals.org/cancerres/article/63/17/5462/510359/A-Novel-Small-Molecule-Met-Inhibitor-Induces)\\nSU11274 is a tyrosine kinase inhibitor that has been reported to increase tumorigenicity and enrich for melanoma-initiating cells by bioenergetic modulation. (https://pubmed.ncbi.nlm.nih.gov/27175734/)\\nSU11274 is a small molecule inhibitor of tyrosine kinase activity with reported antitumorigenic and antimetastatic effects in melanoma. (https://bmccancer.biomedcancer.com/articles/10.1186/s12885-016-2341-y)\\nSU11274 binds to c-Met at the kinase linker and extends into a hydrophobic binding site. (https://www.rcsb.org/structure/2rfs)', 'thought_3': 'I have found that SU11274 is an inhibitor of c-Met, a tyrosine kinase. Now I need to understand the role of c-Met in cardiac fibroblasts and cardiac fibrosis to predict the effect of its inhibition. I will search PubMed for literature connecting c-Met signaling to cardiac fibroblast biology. This will help me determine if inhibiting c-Met is likely to reverse the \"failing\" phenotype or not.', 'tool_name_3': 'SEARCH__search_pubmed_abstracts', 'tool_args_3': {'goal': 'Investigate the role of c-Met signaling in cardiac fibroblasts and cardiac fibrosis to understand the potential effect of SU11274.', 'term': '(c-Met OR MET) AND (cardiac fibroblast OR cardiac fibrosis)'}, 'observation_3': 'Execution error in SEARCH__search_pubmed_abstracts: \\nTraceback (most recent call last):\\n  File \"/Users/roshankern/Desktop/Github/cf-compound-selection-demo/backend/.venv/lib/python3.12/site-packages/dspy/predict/react.py\", line 111, in forward\\n    trajectory[f\"observation_{idx}\"] = self.tools[pred.next_tool_name](**pred.next_tool_args)\\n                                       ^^^^^^^^^^^^^^^^^^^^^^^^^^^^^^^^^^^^^^^^^^^^^^^^^^^^^^\\n  File \"/Users/roshankern/Desktop/Github/cf-compound-selection-demo/backend/.venv/lib/python3.12/site-packages/dspy/utils/callback.py\", line 343, in sync_wrapper\\n    raise exception\\n  File \"/Users/roshankern/Desktop/Github/cf-compound-selection-demo/backend/.venv/lib/python3.12/site-packages/dspy/utils/callback.py\", line 339, in sync_wrapper\\n    results = fn(instance, *args, **kwargs)\\n              ^^^^^^^^^^^^^^^^^^^^^^^^^^^^^\\n  File \"/Users/roshankern/Desktop/Github/cf-compound-selection-demo/backend/.venv/lib/python3.12/site-packages/dspy/adapters/types/tool.py\", line 176, in __call__\\n    result = self.func(**parsed_kwargs)\\n             ^^^^^^^^^^^^^^^^^^^^^^^^^^\\n  File \"/Users/roshankern/Desktop/Github/cf-compound-selection-demo/backend/agentic_system/tools/tool_utils.py\", line 84, in wrapper\\n    result = str(func(**original_kwargs))\\n                 ^^^^^^^^^^^^^^^^^^^^^^^\\nRuntimeError: asyncio.run() cannot be called from a running event loop', 'thought_4': \"The previous tool call to `SEARCH__search_pubmed_abstracts` failed due to a technical error. I still need to understand the role of c-Met in cardiac fibroblasts to assess the potential efficacy of SU11274. I will retry the search, but this time I'll use the general web search tool, as it might be more robust and can still point me to relevant scientific literature or review articles. I will use a similar query to the one I used for PubMed.\", 'tool_name_4': 'SEARCH__search_web', 'tool_args_4': {'goal': 'Investigate the role of c-Met signaling in cardiac fibroblasts and cardiac fibrosis to understand the potential effect of SU11274.', 'query': 'c-Met signaling in cardiac fibroblasts and fibrosis'}, 'observation_4': 'HGF/Met signaling in fibroblasts antagonizes TGFβ1 and AngII, thereby preventing fibrosis (Portland Press) | HGF/Met signaling helps maintain the balance between cardiomyocytes and the extracellular matrix and prevents premature cardiomyocyte occurrence (ScienceDirect) | Cardiac fibroblast proliferation and transformation into myofibroblasts are important in cardiac fibrosis (ResearchGate) | Ca2+ signaling in cardiac fibroblasts is involved in fibrosis-associated heart diseases (MDPI) | Inhibition of inflammatory signaling decreases fibrosis partly through blockade (PMC)', 'thought_5': 'The web search results strongly suggest that HGF/c-Met signaling is protective against cardiac fibrosis by antagonizing pro-fibrotic pathways like TGF-β1. SU11274 is an inhibitor of c-Met. Therefore, inhibiting c-Met would likely exacerbate the failing cardiac fibroblast phenotype, not reverse it. This is contrary to the desired outcome. Based on this clear mechanistic understanding, I can conclude that SU11274 will have very low, if any, efficacy in the assay. I have sufficient information to make a final prediction with high confidence.', 'tool_name_5': 'finish', 'tool_args_5': {}, 'observation_5': 'Completed.'},\n",
      "    reasoning='SU11274 is a known inhibitor of the c-Met tyrosine kinase. The literature suggests that the HGF/c-Met signaling pathway is protective against cardiac fibrosis. Specifically, it antagonizes pro-fibrotic pathways such as those mediated by TGF-β1 and Angiotensin II. Therefore, inhibiting c-Met with SU11274 would be expected to block this protective, anti-fibrotic signaling. This action would likely either have no beneficial effect or could even exacerbate the failing, pro-fibrotic phenotype of the cardiac fibroblasts. Consequently, SU11274 is predicted to have very low efficacy in this assay.',\n",
      "    predicted_efficacy=0.05,\n",
      "    confidence=0.9\n",
      ")\n"
     ]
    }
   ],
   "source": [
    "COMPOUND = \"SU11274\"\n",
    "\n",
    "efficacy_agent = CFEfficacyAgent()\n",
    "efficacy_results = efficacy_agent(compound_name=COMPOUND)\n",
    "print(efficacy_results)"
   ]
  },
  {
   "cell_type": "code",
   "execution_count": 4,
   "id": "d445d3b9",
   "metadata": {},
   "outputs": [
    {
     "name": "stdout",
     "output_type": "stream",
     "text": [
      "Steps: 6\n",
      "Total Cost (USD): 0.093119375\n"
     ]
    }
   ],
   "source": [
    "steps = len(efficacy_results.trajectory) // 4\n",
    "cost = sum([x[\"cost\"] for x in lm.history])\n",
    "\n",
    "print(\"Steps:\", steps)\n",
    "print(\"Total Cost (USD):\", cost)"
   ]
  },
  {
   "cell_type": "code",
   "execution_count": 5,
   "id": "6fa79321",
   "metadata": {},
   "outputs": [],
   "source": [
    "# tox_agent = ToxicityScreeningAgent(max_iters=12)\n",
    "# tox_results = tox_agent(compound_name=COMPOUND)\n",
    "# print(tox_results)"
   ]
  },
  {
   "cell_type": "code",
   "execution_count": 6,
   "id": "f0e62011",
   "metadata": {},
   "outputs": [],
   "source": [
    "# prioritization_agent = CompoundPrioritizationAgent()\n",
    "# prioritization_results = prioritization_agent(compound_name=COMPOUND)\n",
    "# print(prioritization_results)"
   ]
  }
 ],
 "metadata": {
  "kernelspec": {
   "display_name": "Python (cf-compound-selection-backend)",
   "language": "python",
   "name": "cf-compound-selection-backend"
  },
  "language_info": {
   "codemirror_mode": {
    "name": "ipython",
    "version": 3
   },
   "file_extension": ".py",
   "mimetype": "text/x-python",
   "name": "python",
   "nbconvert_exporter": "python",
   "pygments_lexer": "ipython3",
   "version": "3.12.4"
  }
 },
 "nbformat": 4,
 "nbformat_minor": 5
}
