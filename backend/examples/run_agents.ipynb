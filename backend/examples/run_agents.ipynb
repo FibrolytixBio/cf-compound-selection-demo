{
 "cells": [
  {
   "cell_type": "code",
   "execution_count": 1,
   "id": "ee547c89",
   "metadata": {},
   "outputs": [],
   "source": [
    "from dotenv import load_dotenv\n",
    "import dspy\n",
    "import mlflow\n",
    "\n",
    "from agentic_system.agents import (\n",
    "    CFEfficacyAgent,\n",
    "    ToxicityScreeningAgent,\n",
    "    CompoundPrioritizationAgent,\n",
    ")"
   ]
  },
  {
   "cell_type": "code",
   "execution_count": 2,
   "id": "98b67deb",
   "metadata": {},
   "outputs": [
    {
     "name": "stderr",
     "output_type": "stream",
     "text": [
      "2025/09/17 15:33:08 INFO mlflow.tracking.fluent: Autologging successfully enabled for dspy.\n",
      "2025/09/17 15:33:08 INFO mlflow.tracking.fluent: Autologging successfully enabled for litellm.\n",
      "2025/09/17 15:33:08 INFO mlflow.tracking.fluent: Autologging successfully enabled for openai.\n"
     ]
    }
   ],
   "source": [
    "# NOTE: Start MLflow server with:\n",
    "# mlflow server --backend-store-uri sqlite:///mydb.sqlite\n",
    "# Tell MLflow about the server URI.\n",
    "mlflow.set_tracking_uri(\"http://127.0.0.1:5000\")\n",
    "# Create a unique name for your experiment.\n",
    "mlflow.set_experiment(\"Optimize Efficacy Tools\")\n",
    "mlflow.autolog()\n",
    "mlflow.tracing.disable_notebook_display()\n",
    "\n",
    "load_dotenv(\"../.env\")\n",
    "dspy.configure(\n",
    "    lm=dspy.LM(\"gemini/gemini-2.5-pro\", temperature=0.5, cache=False, rollout_id=1)\n",
    ")\n",
    "\n",
    "COMPOUND = \"Luminespib\""
   ]
  },
  {
   "cell_type": "code",
   "execution_count": null,
   "id": "739d2286",
   "metadata": {},
   "outputs": [
    {
     "name": "stdout",
     "output_type": "stream",
     "text": [
      "Prediction(\n",
      "    trajectory={'thought_0': \"I need to estimate the efficacy of Luminespib in an in-vitro assay that measures the reversal of activated cardiac fibroblasts to a quiescent-like state. To do this, I need to understand the compound's mechanism of action and any known effects on cardiac fibroblasts or fibrosis.\\n\\nMy first step is to search for the primary mechanism of action of Luminespib. This will provide the foundational knowledge to guide further, more specific searches.\", 'tool_name_0': 'SEARCH__search_web', 'tool_args_0': {'goal': 'To understand the primary molecular mechanism of action of the compound Luminespib.', 'query': 'Luminespib mechanism of action'}, 'observation_0': 'Luminespib (also known as NVP-AUY922 or VER-52296) is an experimental drug that functions as an inhibitor of Hsp90, a molecular chaperone crucial for protein folding, stabilization, and cell stability. Its mechanism of action involves reducing the expression and activation of the epidermal growth factor receptor (EGFR), thereby disrupting EGF signaling. Luminespib has demonstrated potent antitumor activity in preclinical models through processes such as cytostasis, apoptosis, invasion, and angiogenesis.\\n\\nReferences:\\n* Wikipedia: https://en.wikipedia.org/wiki/Luminespib\\n* ScienceDirect Topics (Pharmacology): https://www.sciencedirect.com/topics/pharmacology-toxicology-and-pharmaceutical-science/luminespib\\n* MedChemExpress: https://www.medchemexpress.com/NVP-AUY922.html\\n* ScienceDirect Topics (Medicine): https://www.sciencedirect.com/topics/medicine-and-dentistry/luminespib\\n* Focus Biomolecules: https://focusbiomolecules.com/luminespib-hsp90-inhibitor/', 'thought_1': 'Now that I know Luminespib is an Hsp90 inhibitor, the next logical step is to investigate the role of Hsp90 in cardiac fibroblast activation and cardiac fibrosis. This will help me determine if inhibiting Hsp90 is a plausible mechanism for reversing the activated phenotype, as measured by the assay. I will search for literature connecting Hsp90 inhibition to cardiac fibroblasts.', 'tool_name_1': 'SEARCH__search_web', 'tool_args_1': {'goal': 'To determine if Hsp90 inhibition has a known effect on cardiac fibroblast activation or cardiac fibrosis.', 'query': 'Hsp90 inhibitor cardiac fibroblast activation'}, 'observation_1': 'Hsp90 inhibition has a known effect on cardiac fibroblast activation and cardiac fibrosis. Specifically, S-nitrosylated Hsp90 binds to TGFβ RII, activating the TGFβ/SMAD3 signaling pathway, which leads to cardiac fibrosis. Inhibition of Hsp90, using geldanamycin or inhibitory peptides, has been shown to prevent signaling in profibrotic TGF-β cardiomyocytes and cardiac fibroblasts. Additionally, Hsp90 inhibitors have been found to attenuate the development of cardiac fibrosis in mouse hypertrophy by suppressing the Calcineurin-NFAT and c-Raf-Erk pathways. Hsp90 inhibition also attenuates fibroblast migration and invasiveness, which are hallmarks of fibroblast activation.\\n\\nReferences:\\n- https://bpspubs.onlinelibrary.wiley.com/doi/am-pdf/10.1111/bph.15626\\n- https://bpspubs.onlinelibrary.wiley.com/doi/full/10.1111/bph.15626\\n- https://www.mdpi.com/2073-4409/11/21/3444\\n- https://pubmed.ncbi.nlm.nih.gov/34016843/\\n- https://insight.jci.org/articles/view/91454'},\n",
      "    reasoning='Luminespib is a potent inhibitor of Heat shock protein 90 (Hsp90). The provided evidence directly links Hsp90 activity to the activation of cardiac fibroblasts, the key process this assay aims to reverse. Specifically, Hsp90 is integral to pro-fibrotic signaling pathways, most notably the TGF-β pathway, which is a primary driver of fibroblast-to-myofibroblast differentiation. Studies have demonstrated that inhibiting Hsp90 (using compounds like geldanamycin) can effectively block TGF-β signaling in cardiac fibroblasts, attenuate fibroblast migration and invasion, and reduce cardiac fibrosis in preclinical models. Given that Luminespib acts on this well-established, central pro-fibrotic mechanism, it is highly likely to reverse the activated morphological phenotype of the cardiac fibroblasts in the assay. The 10 µM concentration is expected to be sufficient for strong target engagement, leading to a significant shift in the cell population towards the desired \"nonfailing/quiescent-like\" state.',\n",
      "    predicted_efficacy=0.85,\n",
      "    confidence=0.9\n",
      ")\n"
     ]
    }
   ],
   "source": [
    "efficacy_agent = CFEfficacyAgent(max_iters=12)\n",
    "# efficacy_agent.agent.react.signature = efficacy_agent.agent.react.signature.insert(\n",
    "#     0,\n",
    "#     \"tool_expected_info\",\n",
    "#     dspy.OutputField(\n",
    "#         desc=\"TRUE or FALSE: <more info>. If FALSE, describe what information (ex databases, literature, etc) was desired from tool. Do not say FALSE if tool did not return any information (ex due to no information available), only say FALSE if tool returned information that was not useful or other information was desired from this tool call.\\n\\n\"\n",
    "#     ),\n",
    "#     type_=str,\n",
    "# )\n",
    "efficacy_results = efficacy_agent(compound_name=COMPOUND)\n",
    "print(efficacy_results)"
   ]
  },
  {
   "cell_type": "code",
   "execution_count": null,
   "id": "6fa79321",
   "metadata": {},
   "outputs": [],
   "source": [
    "# tox_agent = ToxicityScreeningAgent(max_iters=12)\n",
    "# tox_results = tox_agent(compound_name=COMPOUND)\n",
    "# print(tox_results)"
   ]
  },
  {
   "cell_type": "code",
   "execution_count": null,
   "id": "f0e62011",
   "metadata": {},
   "outputs": [],
   "source": [
    "# prioritization_agent = CompoundPrioritizationAgent()\n",
    "# prioritization_results = prioritization_agent(compound_name=COMPOUND)\n",
    "# print(prioritization_results)"
   ]
  }
 ],
 "metadata": {
  "kernelspec": {
   "display_name": "Python (cf-compound-selection-backend)",
   "language": "python",
   "name": "cf-compound-selection-backend"
  },
  "language_info": {
   "codemirror_mode": {
    "name": "ipython",
    "version": 3
   },
   "file_extension": ".py",
   "mimetype": "text/x-python",
   "name": "python",
   "nbconvert_exporter": "python",
   "pygments_lexer": "ipython3",
   "version": "3.12.4"
  }
 },
 "nbformat": 4,
 "nbformat_minor": 5
}
