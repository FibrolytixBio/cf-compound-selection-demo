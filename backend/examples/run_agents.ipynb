{
 "cells": [
  {
   "cell_type": "code",
   "execution_count": 1,
   "id": "ee547c89",
   "metadata": {},
   "outputs": [],
   "source": [
    "from dotenv import load_dotenv\n",
    "import dspy\n",
    "import mlflow\n",
    "\n",
    "from agentic_system.agents import (\n",
    "    CFEfficacyAgent,\n",
    "    ToxicityScreeningAgent,\n",
    "    CompoundPrioritizationAgent,\n",
    ")"
   ]
  },
  {
   "cell_type": "code",
   "execution_count": 2,
   "id": "98b67deb",
   "metadata": {},
   "outputs": [
    {
     "name": "stderr",
     "output_type": "stream",
     "text": [
      "2025/09/11 11:06:03 INFO mlflow.tracking.fluent: Autologging successfully enabled for dspy.\n",
      "2025/09/11 11:06:03 INFO mlflow.tracking.fluent: Autologging successfully enabled for litellm.\n",
      "2025/09/11 11:06:04 INFO mlflow.tracking.fluent: Autologging successfully enabled for openai.\n"
     ]
    }
   ],
   "source": [
    "# NOTE: Start MLflow server with:\n",
    "# mlflow server --backend-store-uri sqlite:///mydb.sqlite\n",
    "# Tell MLflow about the server URI.\n",
    "mlflow.set_tracking_uri(\"http://127.0.0.1:5000\")\n",
    "# Create a unique name for your experiment.\n",
    "mlflow.set_experiment(\"DSPy\")\n",
    "mlflow.autolog()\n",
    "\n",
    "load_dotenv(\"../.env\")\n",
    "dspy.configure(\n",
    "    lm=dspy.LM(\n",
    "        \"gemini/gemini-2.5-flash-lite\", temperature=0.5, cache=True, rollout_id=1\n",
    "    )\n",
    ")\n",
    "\n",
    "COMPOUND = \"Luminespib\""
   ]
  },
  {
   "cell_type": "code",
   "execution_count": 3,
   "id": "739d2286",
   "metadata": {},
   "outputs": [
    {
     "name": "stdout",
     "output_type": "stream",
     "text": [
      "Prediction(\n",
      "    trajectory={'thought_0': \"The user wants to estimate the efficacy of Luminespib for reversing cardiac fibrosis. I should start by searching for information about Luminespib's known activities and properties, especially in the context of cardiac fibrosis. I will use `search_chembl_id` to get the ChEMBL ID for Luminespib, which will be useful for subsequent searches.\", 'tool_name_0': 'search_chembl_id', 'tool_args_0': {'query': 'Luminespib'}, 'observation_0': \"Found 2 compound(s) matching 'Luminespib': \\n - CHEMBL3137334 (LUMINESPIB MESYLATE)\\n - CHEMBL252164 (LUMINESPIB)\", 'thought_1': \"I have found two ChEMBL IDs for Luminespib. CHEMBL252164 is the primary ID. I should now use this ID to get more information about the compound's properties and bioactivities. I will start by getting the compound's properties using `get_compound_properties`.\", 'tool_name_1': 'get_compound_properties', 'tool_args_1': {'chembl_id': 'CHEMBL252164'}, 'observation_1': \"Properties of CHEMBL252164:. molecular weight 465.6 Da. ALogP 4.13 (lipophilic). TPSA 108.1 Ų (moderate permeability expected). 3 H-bond donors and 7 H-bond acceptors. 7 rotatable bonds (flexible). compliant with Lipinski's Rule of Five. classified as Small molecule.\", 'thought_2': 'I have retrieved the physicochemical properties of Luminespib. Now, I need to find information about its bioactivities, specifically related to cardiac fibrosis. I will use `get_compound_bioactivities_summary` with the ChEMBL ID CHEMBL252164.', 'tool_name_2': 'get_compound_bioactivities_summary', 'tool_args_2': {'chembl_id': 'CHEMBL252164'}, 'observation_2': 'Bioactivity summary for CHEMBL252164:\\n\\n• ADMET (CHEMBL612558): Stability = 31.0 %, T1/2 = 15.0 hr, CL = 2.00e-02 L/hr, Drug uptake = 6.8 uM, AUC = 16760 ng.hr.mL-1, Cmax_tumor = 6.0 uM, Vz = 0.4 l\\n\\n• Mus musculus (CHEMBL375): MTD = 50.0 mg kg-1, Cmax = 385.4 nM, Activity = 10.0 %, CL/F = 3.50e-02 L/hr, T1/2 = 9.5 hr, Tmax = 1.0 hr, Vdss = 0.5 l, AUC = 800.8 ng.hr.mL-1, LBF = 108.0 ml/hr\\n\\n• Plasma (CHEMBL613589): Cmax = 49000 nM, T1/2 = 1.0 hr, AUC = 6983 ng.hr.mL-1, CL = 8.20e-02 L/hr, Vz = 0.9 l\\n\\n• Heat shock protein HSP 90-beta (CHEMBL4303): Ki = 6.40e-02 nM, IC50 = 7.0 nM\\n\\n• HCT-116 (CHEMBL394): GI = 50.0 %, Inhibition = 49.8 %, GI50 = 16.0 nM\\n(Showing top 5 of 14 targets with activity data)', 'thought_3': \"I have gathered information on Luminespib's properties and bioactivities. The bioactivity summary shows it targets HSP 90-beta with high potency (Ki = 6.40e-02 nM, IC50 = 7.0 nM) and also has activity against HCT-116 cells. However, there is no direct mention of cardiac fibrosis in the bioactivity summary. To assess its efficacy for reversing cardiac fibrosis, I need to search for literature specifically linking Luminespib to this condition. I will use `search_web` for this purpose.\", 'tool_name_3': 'search_web', 'tool_args_3': {'query': 'Luminespib cardiac fibrosis efficacy'}, 'observation_3': \"Web search results for 'Luminespib cardiac fibrosis efficacy':\\n\\nAI-generated overview: Luminespib has shown efficacy in preclinical studies for treating cardiac fibrosis by targeting TGF-beta pathways. Clinical trials are ongoing to evaluate its effectiveness in humans. Current research indicates potential benefits in reducing cardiac fibrosis progression.\\n\\n\\n1. Luminespib - an overview | \\nURL: https://www.sciencedirect.com/topics/pharmacology-toxicology-and-pharmaceutical-science/luminespib | \\nRelevance Score: 0.47285444 | \\nContent: It has shown efficacy in preclinical studies and was evaluated in clinical trials for its effects on NSCLC with EGFR ex20ins mutations. AI generated definition\\n\\n\\n2. Therapeutic Targets for the Treatment of Cardiac Fibrosis ... | \\nURL: https://www.frontiersin.org/journals/cardiovascular-medicine/articles/10.3389/fcvm.2020.00034/full | \\nRelevance Score: 0.28868985 | \\nContent: by W Parichatikanond · 2020 · Cited by 162 — Furthermore, the combination of anti-TGF-β therapies with various mechanisms of action might have greater efficacy against cancer and cardiac fibrosis.\\n\\n\\n3. Cardiac Fibrosis: New Treatments in Cardiovascular ... | \\nURL: https://www.uspharmacist.com/article/cardiac-fibrosis-new-treatments-in-cardiovascular-medicine | \\nRelevance Score: 0.23424938 | \\nContent: Heart failure is initiated by any event that impairs the heart’s ability to contract and/or relax, resulting in reduced cardiac output.1 As cardiac output decreases, compensatory mechanisms activate to restore cardiac output through increased preload, tachycardia, vasoconstriction, ventricular hypertrophy, and remodeling.1,4 At the cellular level, ventricular hypertrophy and remodeling are accompanied by cardiomyocyte hypertrophy, necrosis, apoptosis, fibroblast proliferation, and increased deposition of fibrous collagen, the last two of which are collectively termed *cardiac fibrosis*.4 This article will focus on cardiac fibrosis, including its mediators, assessment, and potential treatments. Increases in various circulating hormones, cytokines, and proteins triggered by stress or injury contribute to fibroblast activation and differentiation and, ultimately, to cardiac fibrosis.7,8 Although many substances have been identified as playing a part in this process, several studies suggest that the renin-angiotensin system (RAS), transforming growth factor (TGF)-beta, and endothelin (ET) are key elements in the cascade.\\n\\n\\n4. Targeting cardiac fibrosis in heart failure with preserved ... | \\nURL: https://www.embopress.org/doi/10.15252/emmm.201910865 | \\nRelevance Score: 0.2241832 | \\nContent: by M Sweeney · 2020 · Cited by 191 — High levels of collagen cross‐linking have been suggested as an explanation for lack of efficacy in trials of antifibrotics in HFpEF (Ravassa et al, 2018).\\n\\n\\n5. Antifibrotic therapies to control cardiac fibrosis | \\nURL: https://biomaterialsres.biomedcentral.com/articles/10.1186/s40824-016-0060-8 | \\nRelevance Score: 0.20798618 | \\nContent: by Z Fan · 2016 · Cited by 153 — A therapy that can inhibit cardiac fibrosis from progressing in the infarcted hearts will preserve cardiac function and prevent heart failure.\\n\", 'thought_4': \"The web search results indicate that Luminespib has shown efficacy in preclinical studies for treating cardiac fibrosis by targeting TGF-beta pathways. This directly answers the user's request. Therefore, I can now finish the task and provide the predicted efficacy and confidence.\", 'tool_name_4': 'finish', 'tool_args_4': {}, 'observation_4': 'Completed.'},\n",
      "    reasoning='The web search results indicate that Luminespib has shown efficacy in preclinical studies for treating cardiac fibrosis by targeting TGF-beta pathways. This suggests a positive effect on cardiac fibrosis. Given that the screening assay involves primary human ventricular fibroblasts and aims to reverse cardiac fibrosis, and Luminespib has demonstrated preclinical efficacy in this context, it is reasonable to predict a high efficacy. The confidence is high due to the direct mention of preclinical efficacy in cardiac fibrosis.',\n",
      "    predicted_efficacy=0.8,\n",
      "    confidence=0.9\n",
      ")\n"
     ]
    },
    {
     "data": {
      "text/html": [
       "\n",
       "<div>\n",
       "  <style scoped>\n",
       "  button {\n",
       "    border: none;\n",
       "    border-radius: 4px;\n",
       "    background-color: rgb(34, 114, 180);\n",
       "    font-family: -apple-system, \"system-ui\", \"Segoe UI\", Roboto, \"Helvetica Neue\", Arial;\n",
       "    font-size: 13px;\n",
       "    color: white;\n",
       "    margin-top: 8px;\n",
       "    margin-bottom: 8px;\n",
       "    padding: 8px 16px;\n",
       "    cursor: pointer;\n",
       "  }\n",
       "  button:hover {\n",
       "    background-color: rgb(66, 153, 224);\n",
       "  }\n",
       "  </style>\n",
       "  <button\n",
       "    onclick=\"\n",
       "        const display = this.nextElementSibling.style.display;\n",
       "        const isCollapsed = display === 'none';\n",
       "        this.nextElementSibling.style.display = isCollapsed ? null : 'none';\n",
       "\n",
       "        const verb = isCollapsed ? 'Collapse' : 'Expand';\n",
       "        this.innerText = `${verb} MLflow Trace`;\n",
       "    \"\n",
       "  >Collapse MLflow Trace</button>\n",
       "  <iframe\n",
       "    id=\"trace-renderer\"\n",
       "    style=\"width: 100%; height: 500px; border: none; resize: vertical;\"\n",
       "    src=\"http://127.0.0.1:5000/static-files/lib/notebook-trace-renderer/index.html?trace_id=94caea1297a941e1ba1674b74166afed&amp;experiment_id=1&amp;trace_id=2198f058ed83472381a6d9f60af543b4&amp;experiment_id=1&amp;trace_id=702281d178fd4669ad811c4371706e6e&amp;experiment_id=1&amp;trace_id=85dac8ea268249ddbd0c2da267f30778&amp;experiment_id=1&amp;trace_id=c34715c808474750a0e48cc6c95bd057&amp;experiment_id=1&amp;version=3.1.0\"\n",
       "  />\n",
       "</div>\n"
      ],
      "text/plain": [
       "[Trace(trace_id=94caea1297a941e1ba1674b74166afed), Trace(trace_id=2198f058ed83472381a6d9f60af543b4), Trace(trace_id=702281d178fd4669ad811c4371706e6e), Trace(trace_id=85dac8ea268249ddbd0c2da267f30778), Trace(trace_id=c34715c808474750a0e48cc6c95bd057)]"
      ]
     },
     "metadata": {},
     "output_type": "display_data"
    }
   ],
   "source": [
    "efficacy_agent = CFEfficacyAgent(max_iters=12)\n",
    "efficacy_results = efficacy_agent(compound_name=COMPOUND)\n",
    "print(efficacy_results)"
   ]
  },
  {
   "cell_type": "code",
   "execution_count": 4,
   "id": "6fa79321",
   "metadata": {},
   "outputs": [
    {
     "name": "stdout",
     "output_type": "stream",
     "text": [
      "Prediction(\n",
      "    trajectory={'thought_0': \"The user is asking to estimate the toxicity of the compound Luminespib. To do this, I need to find information about its safety and potential toxicity. I will start by searching for the compound's ChEMBL ID. If found, I will use it to retrieve safety information.\", 'tool_name_0': 'search_chembl_id', 'tool_args_0': {'query': 'Luminespib'}, 'observation_0': \"Found 2 compound(s) matching 'Luminespib': \\n - CHEMBL3137334 (LUMINESPIB MESYLATE)\\n - CHEMBL252164 (LUMINESPIB)\", 'thought_1': 'I have found two ChEMBL IDs for Luminespib. I should investigate both to ensure I have comprehensive information. I will start by getting the safety summary for the first ID, CHEMBL3137334.', 'tool_name_1': 'get_safety_summary', 'tool_args_1': {'cid': 'CHEMBL3137334'}, 'observation_1': 'No safety data available for CID CHEMBL3137334', 'thought_2': 'Since no safety data was found for CHEMBL3137334, I will now try to get the safety summary for the second ChEMBL ID, CHEMBL252164. If this also yields no results, I will broaden my search to PubChem to find toxicity information.', 'tool_name_2': 'get_safety_summary', 'tool_args_2': {'cid': 'CHEMBL252164'}, 'observation_2': 'No safety data available for CID CHEMBL252164', 'thought_3': 'Neither of the ChEMBL IDs provided safety information. I will now search PubChem for the compound to see if I can find toxicity data there. I will use the `search_pubchem_cid` tool to find the PubChem CID for Luminespib.', 'tool_name_3': 'search_pubchem_cid', 'tool_args_3': {'query': 'Luminespib'}, 'observation_3': \"Found PubChem CID 135539077 (5-(2,4-dihydroxy-5-propan-2-ylphenyl)-N-ethyl-4-[4-(morpholin-4-ylmethyl)phenyl]-1,2-oxazole-3-carboxamide) for 'Luminespib'\", 'thought_4': 'I have found a PubChem CID for Luminespib (135539077). Now I will use this CID to retrieve safety information using the `get_safety_summary` tool.', 'tool_name_4': 'get_safety_summary', 'tool_args_4': {'cid': '135539077'}, 'observation_4': 'No safety data available for CID 135539077', 'thought_5': \"I have exhausted the available tools for retrieving direct safety or toxicity information for Luminespib. The `get_safety_summary` tool returned no data for both ChEMBL IDs and the PubChem CID. I will now try to get general information about the compound's bioactivities and properties, which might indirectly hint at toxicity or be relevant for interpreting toxicity data if found elsewhere. I will start by getting the compound's bioactivities summary using the ChEMBL ID CHEMBL252164.\", 'tool_name_5': 'get_compound_bioactivities_summary', 'tool_args_5': {'chembl_id': 'CHEMBL252164'}, 'observation_5': 'Bioactivity summary for CHEMBL252164:\\n\\n• ADMET (CHEMBL612558): Stability = 31.0 %, T1/2 = 15.0 hr, CL = 2.00e-02 L/hr, Drug uptake = 6.8 uM, AUC = 16760 ng.hr.mL-1, Cmax_tumor = 6.0 uM, Vz = 0.4 l\\n\\n• Mus musculus (CHEMBL375): MTD = 50.0 mg kg-1, Cmax = 385.4 nM, Activity = 10.0 %, CL/F = 3.50e-02 L/hr, T1/2 = 9.5 hr, Tmax = 1.0 hr, Vdss = 0.5 l, AUC = 800.8 ng.hr.mL-1, LBF = 108.0 ml/hr\\n\\n• Plasma (CHEMBL613589): Cmax = 49000 nM, T1/2 = 1.0 hr, AUC = 6983 ng.hr.mL-1, CL = 8.20e-02 L/hr, Vz = 0.9 l\\n\\n• Heat shock protein HSP 90-beta (CHEMBL4303): Ki = 6.40e-02 nM, IC50 = 7.0 nM\\n\\n• HCT-116 (CHEMBL394): GI = 50.0 %, Inhibition = 49.8 %, GI50 = 16.0 nM\\n(Showing top 5 of 14 targets with activity data)', 'thought_6': 'I have gathered bioactivity data for Luminespib, including its activity against HCT-116 cells and its maximum tolerated dose (MTD) in mice. This information can be indicative of toxicity. Since I have explored the available tools for direct safety information and found none, and I have obtained relevant bioactivity data, I will now finish the task.', 'tool_name_6': 'finish', 'tool_args_6': {}, 'observation_6': 'Completed.'},\n",
      "    reasoning=\"The compound Luminespib showed significant activity against HCT-116 cells with a GI50 of 16.0 nM. This indicates a potent effect on cell growth inhibition. Additionally, the maximum tolerated dose (MTD) in mice was 50.0 mg/kg, which, while not directly translatable to human cell viability, suggests potential systemic toxicity at higher doses. Given the potent cytotoxic activity observed in vitro and the MTD in vivo, it is reasonable to infer that at a concentration of 10 uM (which is 10,000 nM), Luminespib would cause significant cell death in primary human ventricular fibroblasts. Therefore, a low percentage of remaining cells is expected. A prediction of 10% remaining cells is a conservative estimate, acknowledging the compound's potency. The confidence is moderate because direct in vitro toxicity data for human ventricular fibroblasts at 10 uM was not available, and the prediction relies on extrapolation from cell line data and in vivo MTD.\",\n",
      "    percent_remaining_cells=10,\n",
      "    confidence=0.65\n",
      ")\n"
     ]
    },
    {
     "data": {
      "text/html": [
       "\n",
       "<div>\n",
       "  <style scoped>\n",
       "  button {\n",
       "    border: none;\n",
       "    border-radius: 4px;\n",
       "    background-color: rgb(34, 114, 180);\n",
       "    font-family: -apple-system, \"system-ui\", \"Segoe UI\", Roboto, \"Helvetica Neue\", Arial;\n",
       "    font-size: 13px;\n",
       "    color: white;\n",
       "    margin-top: 8px;\n",
       "    margin-bottom: 8px;\n",
       "    padding: 8px 16px;\n",
       "    cursor: pointer;\n",
       "  }\n",
       "  button:hover {\n",
       "    background-color: rgb(66, 153, 224);\n",
       "  }\n",
       "  </style>\n",
       "  <button\n",
       "    onclick=\"\n",
       "        const display = this.nextElementSibling.style.display;\n",
       "        const isCollapsed = display === 'none';\n",
       "        this.nextElementSibling.style.display = isCollapsed ? null : 'none';\n",
       "\n",
       "        const verb = isCollapsed ? 'Collapse' : 'Expand';\n",
       "        this.innerText = `${verb} MLflow Trace`;\n",
       "    \"\n",
       "  >Collapse MLflow Trace</button>\n",
       "  <iframe\n",
       "    id=\"trace-renderer\"\n",
       "    style=\"width: 100%; height: 500px; border: none; resize: vertical;\"\n",
       "    src=\"http://127.0.0.1:5000/static-files/lib/notebook-trace-renderer/index.html?trace_id=44e7e6abf34e42a69af4e7b45cc405fa&amp;experiment_id=1&amp;trace_id=ee22ac9f4b6e4a9eafddd7dab213ad7e&amp;experiment_id=1&amp;trace_id=6d8a23a2297f41dfaf27d2cf31d76c85&amp;experiment_id=1&amp;trace_id=79896655f96d4754b65d7d477ea6be47&amp;experiment_id=1&amp;trace_id=a197041243a043e783537cca8041e5ac&amp;experiment_id=1&amp;trace_id=d96b72f811c54320b501abd2cae5a433&amp;experiment_id=1&amp;trace_id=703c73bccce8461194d7d1e8cec05a7b&amp;experiment_id=1&amp;version=3.1.0\"\n",
       "  />\n",
       "</div>\n"
      ],
      "text/plain": [
       "[Trace(trace_id=44e7e6abf34e42a69af4e7b45cc405fa), Trace(trace_id=ee22ac9f4b6e4a9eafddd7dab213ad7e), Trace(trace_id=6d8a23a2297f41dfaf27d2cf31d76c85), Trace(trace_id=79896655f96d4754b65d7d477ea6be47), Trace(trace_id=a197041243a043e783537cca8041e5ac), Trace(trace_id=d96b72f811c54320b501abd2cae5a433), Trace(trace_id=703c73bccce8461194d7d1e8cec05a7b)]"
      ]
     },
     "metadata": {},
     "output_type": "display_data"
    }
   ],
   "source": [
    "tox_agent = ToxicityScreeningAgent(max_iters=12)\n",
    "tox_results = tox_agent(compound_name=COMPOUND)\n",
    "print(tox_results)"
   ]
  },
  {
   "cell_type": "code",
   "execution_count": 5,
   "id": "f0e62011",
   "metadata": {},
   "outputs": [
    {
     "name": "stdout",
     "output_type": "stream",
     "text": [
      "Prediction(\n",
      "    reasoning='The compound Luminespib shows high efficacy (0.8) in preclinical studies for cardiac fibrosis, targeting relevant pathways. However, it also exhibits significant toxicity, with only 10% of cells remaining at the tested concentration, indicating potent cytotoxicity. This high toxicity, despite promising efficacy, makes it a moderate-to-low priority for further development without further investigation into dose-response and therapeutic window.',\n",
      "    priority_score=0.4,\n",
      "    confidence=0.75\n",
      ")\n"
     ]
    },
    {
     "data": {
      "text/html": [
       "\n",
       "<div>\n",
       "  <style scoped>\n",
       "  button {\n",
       "    border: none;\n",
       "    border-radius: 4px;\n",
       "    background-color: rgb(34, 114, 180);\n",
       "    font-family: -apple-system, \"system-ui\", \"Segoe UI\", Roboto, \"Helvetica Neue\", Arial;\n",
       "    font-size: 13px;\n",
       "    color: white;\n",
       "    margin-top: 8px;\n",
       "    margin-bottom: 8px;\n",
       "    padding: 8px 16px;\n",
       "    cursor: pointer;\n",
       "  }\n",
       "  button:hover {\n",
       "    background-color: rgb(66, 153, 224);\n",
       "  }\n",
       "  </style>\n",
       "  <button\n",
       "    onclick=\"\n",
       "        const display = this.nextElementSibling.style.display;\n",
       "        const isCollapsed = display === 'none';\n",
       "        this.nextElementSibling.style.display = isCollapsed ? null : 'none';\n",
       "\n",
       "        const verb = isCollapsed ? 'Collapse' : 'Expand';\n",
       "        this.innerText = `${verb} MLflow Trace`;\n",
       "    \"\n",
       "  >Collapse MLflow Trace</button>\n",
       "  <iframe\n",
       "    id=\"trace-renderer\"\n",
       "    style=\"width: 100%; height: 500px; border: none; resize: vertical;\"\n",
       "    src=\"http://127.0.0.1:5000/static-files/lib/notebook-trace-renderer/index.html?trace_id=d9505195f6a44aedbf64494e88a9428d&amp;experiment_id=1&amp;trace_id=39aaa26b00f54b12b4fb70cceedc54f8&amp;experiment_id=1&amp;version=3.1.0\"\n",
       "  />\n",
       "</div>\n"
      ],
      "text/plain": [
       "[Trace(trace_id=d9505195f6a44aedbf64494e88a9428d), Trace(trace_id=39aaa26b00f54b12b4fb70cceedc54f8)]"
      ]
     },
     "metadata": {},
     "output_type": "display_data"
    }
   ],
   "source": [
    "prioritization_agent = CompoundPrioritizationAgent()\n",
    "prioritization_results = prioritization_agent(compound_name=COMPOUND)\n",
    "print(prioritization_results)"
   ]
  }
 ],
 "metadata": {
  "kernelspec": {
   "display_name": "Python (cf-compound-selection-backend)",
   "language": "python",
   "name": "cf-compound-selection-backend"
  },
  "language_info": {
   "codemirror_mode": {
    "name": "ipython",
    "version": 3
   },
   "file_extension": ".py",
   "mimetype": "text/x-python",
   "name": "python",
   "nbconvert_exporter": "python",
   "pygments_lexer": "ipython3",
   "version": "3.12.4"
  }
 },
 "nbformat": 4,
 "nbformat_minor": 5
}
