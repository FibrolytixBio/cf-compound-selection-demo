{
 "cells": [
  {
   "cell_type": "code",
   "execution_count": 1,
   "id": "ee547c89",
   "metadata": {},
   "outputs": [],
   "source": [
    "from dotenv import load_dotenv\n",
    "import dspy\n",
    "import mlflow\n",
    "\n",
    "from agentic_system.agents.compound_prioritization.cf_efficacy.cf_efficacy_agent import (\n",
    "    CFEfficacyAgent,\n",
    ")"
   ]
  },
  {
   "cell_type": "code",
   "execution_count": 2,
   "id": "98b67deb",
   "metadata": {},
   "outputs": [
    {
     "name": "stderr",
     "output_type": "stream",
     "text": [
      "2025/09/11 10:17:59 INFO mlflow.tracking.fluent: Autologging successfully enabled for dspy.\n",
      "2025/09/11 10:18:00 INFO mlflow.tracking.fluent: Autologging successfully enabled for litellm.\n",
      "2025/09/11 10:18:00 INFO mlflow.tracking.fluent: Autologging successfully enabled for openai.\n"
     ]
    }
   ],
   "source": [
    "# NOTE: Start MLflow server with:\n",
    "# mlflow server --backend-store-uri sqlite:///mydb.sqlite\n",
    "# Tell MLflow about the server URI.\n",
    "mlflow.set_tracking_uri(\"http://127.0.0.1:5000\")\n",
    "# Create a unique name for your experiment.\n",
    "mlflow.set_experiment(\"DSPy\")\n",
    "mlflow.autolog()\n",
    "\n",
    "load_dotenv(\"../.env\")\n",
    "dspy.configure(\n",
    "    lm=dspy.LM(\n",
    "        \"gemini/gemini-2.5-flash-lite\", temperature=0.5, cache=False, rollout_id=1\n",
    "    )\n",
    ")"
   ]
  },
  {
   "cell_type": "code",
   "execution_count": 3,
   "id": "739d2286",
   "metadata": {},
   "outputs": [
    {
     "name": "stdout",
     "output_type": "stream",
     "text": [
      "Prediction(\n",
      "    trajectory={'thought_0': 'The user wants to estimate the efficacy of Luminespib for reversing cardiac fibrosis. I should start by searching for information about Luminespib and its known activities, especially in the context of cardiac fibrosis. I will use `search_chembl_id` to get the ChEMBL ID for Luminespib, which will be useful for subsequent searches.', 'tool_name_0': 'search_chembl_id', 'tool_args_0': {'query': 'Luminespib'}, 'observation_0': \"Found 2 compound(s) matching 'Luminespib': \\n - CHEMBL3137334 (LUMINESPIB MESYLATE)\\n - CHEMBL252164 (LUMINESPIB)\", 'thought_1': 'I have found two ChEMBL IDs for Luminespib. I will now use `get_compound_bioactivities_summary` for the ChEMBL ID CHEMBL252164 to see if there are any relevant bioactivities related to cardiac fibrosis. If not, I will investigate CHEMBL3137334.', 'tool_name_1': 'get_compound_bioactivities_summary', 'tool_args_1': {'chembl_id': 'CHEMBL252164'}, 'observation_1': 'Bioactivity summary for CHEMBL252164:\\n\\n• ADMET (CHEMBL612558): Stability = 31.0 %, T1/2 = 15.0 hr, CL = 2.00e-02 L/hr, Drug uptake = 6.8 uM, AUC = 16760 ng.hr.mL-1, Cmax_tumor = 6.0 uM, Vz = 0.4 l\\n\\n• Mus musculus (CHEMBL375): MTD = 50.0 mg kg-1, Cmax = 385.4 nM, Activity = 10.0 %, CL/F = 3.50e-02 L/hr, T1/2 = 9.5 hr, Tmax = 1.0 hr, Vdss = 0.5 l, AUC = 800.8 ng.hr.mL-1, LBF = 108.0 ml/hr\\n\\n• Plasma (CHEMBL613589): Cmax = 49000 nM, T1/2 = 1.0 hr, AUC = 6983 ng.hr.mL-1, CL = 8.20e-02 L/hr, Vz = 0.9 l\\n\\n• Heat shock protein HSP 90-beta (CHEMBL4303): Ki = 6.40e-02 nM, IC50 = 7.0 nM\\n\\n• HCT-116 (CHEMBL394): GI = 50.0 %, Inhibition = 49.8 %, GI50 = 16.0 nM\\n(Showing top 5 of 14 targets with activity data)', 'thought_2': \"The bioactivity summary for Luminespib (CHEMBL252164) shows that it is an inhibitor of Heat shock protein HSP 90-beta (Ki = 6.40e-02 nM, IC50 = 7.0 nM). HSP90 is involved in the regulation of many cellular processes, including protein folding and degradation, and has been implicated in various diseases, including cancer and neurodegenerative disorders. However, there is no direct mention of cardiac fibrosis in the provided bioactivities. To assess efficacy for reversing cardiac fibrosis, I need to search for studies that specifically investigate Luminespib's effects on cardiac fibrosis. I will use `search_web` to look for this information.\", 'tool_name_2': 'search_web', 'tool_args_2': {'query': 'Luminespib cardiac fibrosis efficacy'}, 'observation_2': \"Web search results for 'Luminespib cardiac fibrosis efficacy':\\n\\nAI-generated overview: Luminespib has shown efficacy in preclinical studies for treating cardiac fibrosis by targeting TGF-beta pathways. Clinical trials are ongoing to evaluate its effectiveness in humans. Current research indicates potential benefits in reducing cardiac fibrosis progression.\\n\\n\\n1. Luminespib - an overview | \\nURL: https://www.sciencedirect.com/topics/pharmacology-toxicology-and-pharmaceutical-science/luminespib | \\nRelevance Score: 0.47285444 | \\nContent: It has shown efficacy in preclinical studies and was evaluated in clinical trials for its effects on NSCLC with EGFR ex20ins mutations. AI generated definition\\n\\n\\n2. Therapeutic Targets for the Treatment of Cardiac Fibrosis ... | \\nURL: https://www.frontiersin.org/journals/cardiovascular-medicine/articles/10.3389/fcvm.2020.00034/full | \\nRelevance Score: 0.28868985 | \\nContent: by W Parichatikanond · 2020 · Cited by 162 — Furthermore, the combination of anti-TGF-β therapies with various mechanisms of action might have greater efficacy against cancer and cardiac fibrosis.\\n\\n\\n3. Cardiac Fibrosis: New Treatments in Cardiovascular ... | \\nURL: https://www.uspharmacist.com/article/cardiac-fibrosis-new-treatments-in-cardiovascular-medicine | \\nRelevance Score: 0.23424938 | \\nContent: Heart failure is initiated by any event that impairs the heart’s ability to contract and/or relax, resulting in reduced cardiac output.1 As cardiac output decreases, compensatory mechanisms activate to restore cardiac output through increased preload, tachycardia, vasoconstriction, ventricular hypertrophy, and remodeling.1,4 At the cellular level, ventricular hypertrophy and remodeling are accompanied by cardiomyocyte hypertrophy, necrosis, apoptosis, fibroblast proliferation, and increased deposition of fibrous collagen, the last two of which are collectively termed *cardiac fibrosis*.4 This article will focus on cardiac fibrosis, including its mediators, assessment, and potential treatments. Increases in various circulating hormones, cytokines, and proteins triggered by stress or injury contribute to fibroblast activation and differentiation and, ultimately, to cardiac fibrosis.7,8 Although many substances have been identified as playing a part in this process, several studies suggest that the renin-angiotensin system (RAS), transforming growth factor (TGF)-beta, and endothelin (ET) are key elements in the cascade.\\n\\n\\n4. Targeting cardiac fibrosis in heart failure with preserved ... | \\nURL: https://www.embopress.org/doi/10.15252/emmm.201910865 | \\nRelevance Score: 0.2241832 | \\nContent: by M Sweeney · 2020 · Cited by 191 — High levels of collagen cross‐linking have been suggested as an explanation for lack of efficacy in trials of antifibrotics in HFpEF (Ravassa et al, 2018).\\n\\n\\n5. Antifibrotic therapies to control cardiac fibrosis | \\nURL: https://biomaterialsres.biomedcentral.com/articles/10.1186/s40824-016-0060-8 | \\nRelevance Score: 0.20798618 | \\nContent: by Z Fan · 2016 · Cited by 153 — A therapy that can inhibit cardiac fibrosis from progressing in the infarcted hearts will preserve cardiac function and prevent heart failure.\\n\"},\n",
      "    reasoning=\"The web search results indicate that Luminespib has shown efficacy in preclinical studies for treating cardiac fibrosis, specifically mentioning targeting TGF-beta pathways. While the specific mechanism of action isn't fully detailed in the provided snippets, the mention of preclinical efficacy in cardiac fibrosis is a strong indicator. The search also mentions clinical trials for other conditions, but the focus here is on its potential for cardiac fibrosis. Given the preclinical evidence suggesting efficacy, a moderate to high efficacy score is warranted.\",\n",
      "    predicted_efficacy=0.7,\n",
      "    confidence=0.7\n",
      ")\n"
     ]
    },
    {
     "data": {
      "text/html": [
       "\n",
       "<div>\n",
       "  <style scoped>\n",
       "  button {\n",
       "    border: none;\n",
       "    border-radius: 4px;\n",
       "    background-color: rgb(34, 114, 180);\n",
       "    font-family: -apple-system, \"system-ui\", \"Segoe UI\", Roboto, \"Helvetica Neue\", Arial;\n",
       "    font-size: 13px;\n",
       "    color: white;\n",
       "    margin-top: 8px;\n",
       "    margin-bottom: 8px;\n",
       "    padding: 8px 16px;\n",
       "    cursor: pointer;\n",
       "  }\n",
       "  button:hover {\n",
       "    background-color: rgb(66, 153, 224);\n",
       "  }\n",
       "  </style>\n",
       "  <button\n",
       "    onclick=\"\n",
       "        const display = this.nextElementSibling.style.display;\n",
       "        const isCollapsed = display === 'none';\n",
       "        this.nextElementSibling.style.display = isCollapsed ? null : 'none';\n",
       "\n",
       "        const verb = isCollapsed ? 'Collapse' : 'Expand';\n",
       "        this.innerText = `${verb} MLflow Trace`;\n",
       "    \"\n",
       "  >Collapse MLflow Trace</button>\n",
       "  <iframe\n",
       "    id=\"trace-renderer\"\n",
       "    style=\"width: 100%; height: 500px; border: none; resize: vertical;\"\n",
       "    src=\"http://127.0.0.1:5000/static-files/lib/notebook-trace-renderer/index.html?trace_id=62d50694529b454388587bd5869ea211&amp;experiment_id=1&amp;trace_id=ef2a5d4d139744de989e5e55006d85c1&amp;experiment_id=1&amp;trace_id=90287cd482364d4893a57f01e9b5cc82&amp;experiment_id=1&amp;trace_id=038f0f32feca47e68a465d427ae079f5&amp;experiment_id=1&amp;version=3.1.0\"\n",
       "  />\n",
       "</div>\n"
      ],
      "text/plain": [
       "[Trace(trace_id=62d50694529b454388587bd5869ea211), Trace(trace_id=ef2a5d4d139744de989e5e55006d85c1), Trace(trace_id=90287cd482364d4893a57f01e9b5cc82), Trace(trace_id=038f0f32feca47e68a465d427ae079f5)]"
      ]
     },
     "metadata": {},
     "output_type": "display_data"
    }
   ],
   "source": [
    "COMPOUND = \"Luminespib\"\n",
    "\n",
    "agent = CFEfficacyAgent(max_iters=3)\n",
    "result = agent(compound_name=COMPOUND)\n",
    "print(result)"
   ]
  }
 ],
 "metadata": {
  "kernelspec": {
   "display_name": "Python (cf-compound-selection-backend)",
   "language": "python",
   "name": "cf-compound-selection-backend"
  },
  "language_info": {
   "codemirror_mode": {
    "name": "ipython",
    "version": 3
   },
   "file_extension": ".py",
   "mimetype": "text/x-python",
   "name": "python",
   "nbconvert_exporter": "python",
   "pygments_lexer": "ipython3",
   "version": "3.12.4"
  }
 },
 "nbformat": 4,
 "nbformat_minor": 5
}
